{
 "cells": [
  {
   "cell_type": "code",
   "execution_count": 1,
   "metadata": {},
   "outputs": [
    {
     "name": "stdout",
     "output_type": "stream",
     "text": [
      "4.52125\n"
     ]
    }
   ],
   "source": [
    "restaurantBill = 36.17\n",
    "serviceCharge = 0.125\n",
    "tip = restaurantBill * serviceCharge\n",
    "print(tip)"
   ]
  },
  {
   "cell_type": "code",
   "execution_count": 2,
   "metadata": {},
   "outputs": [
    {
     "data": {
      "text/plain": [
       "float"
      ]
     },
     "execution_count": 2,
     "metadata": {},
     "output_type": "execute_result"
    }
   ],
   "source": [
    "type(serviceCharge)"
   ]
  },
  {
   "cell_type": "markdown",
   "metadata": {},
   "source": [
    "# This is a header"
   ]
  },
  {
   "cell_type": "markdown",
   "metadata": {},
   "source": [
    "$$ \\sum_{i=1}^n (y(i) - h _{\\theta} (x ^{(i)} ))^{2} \\textrm{--- Residual Sum of Squares}  $$"
   ]
  },
  {
   "cell_type": "markdown",
   "metadata": {},
   "source": [
    "$$ h _{\\theta} (x) = \\theta _{0} + \\theta _{1} x $$"
   ]
  },
  {
   "cell_type": "markdown",
   "metadata": {},
   "source": [
    "$ \\LaTeX $"
   ]
  },
  {
   "cell_type": "markdown",
   "metadata": {},
   "source": [
    "$ \\sum_{i=1}^n (y(i) - h _{\\theta} (x ^{(i)} ))^{2} $ --- Residual Sum of Squares"
   ]
  },
  {
   "cell_type": "code",
   "execution_count": 3,
   "metadata": {},
   "outputs": [],
   "source": [
    "import pandas as pd\n",
    "data = pd.read_csv('lsd_math_score_data.csv')"
   ]
  },
  {
   "cell_type": "code",
   "execution_count": 4,
   "metadata": {},
   "outputs": [
    {
     "name": "stdout",
     "output_type": "stream",
     "text": [
      "   Time_Delay_in_Minutes  LSD_ppm  Avg_Math_Test_Score\n",
      "0                      5     1.17                78.93\n",
      "1                     15     2.97                58.20\n",
      "2                     30     3.26                67.47\n",
      "3                     60     4.69                37.47\n",
      "4                    120     5.83                45.65\n",
      "5                    240     6.00                32.92\n",
      "6                    480     6.41                29.97\n"
     ]
    }
   ],
   "source": [
    "print(data)"
   ]
  },
  {
   "cell_type": "code",
   "execution_count": 5,
   "metadata": {},
   "outputs": [
    {
     "data": {
      "text/plain": [
       "pandas.core.frame.DataFrame"
      ]
     },
     "execution_count": 5,
     "metadata": {},
     "output_type": "execute_result"
    }
   ],
   "source": [
    "type(data)"
   ]
  },
  {
   "cell_type": "code",
   "execution_count": 6,
   "metadata": {},
   "outputs": [],
   "source": [
    "onlyMathScores = data['Avg_Math_Test_Score']"
   ]
  },
  {
   "cell_type": "code",
   "execution_count": 7,
   "metadata": {},
   "outputs": [
    {
     "name": "stdout",
     "output_type": "stream",
     "text": [
      "0    78.93\n",
      "1    58.20\n",
      "2    67.47\n",
      "3    37.47\n",
      "4    45.65\n",
      "5    32.92\n",
      "6    29.97\n",
      "Name: Avg_Math_Test_Score, dtype: float64\n"
     ]
    }
   ],
   "source": [
    "print(onlyMathScores)"
   ]
  },
  {
   "cell_type": "code",
   "execution_count": 8,
   "metadata": {},
   "outputs": [],
   "source": [
    "data['Test_Subject'] = 'Jennifer Lopez'"
   ]
  },
  {
   "cell_type": "code",
   "execution_count": 9,
   "metadata": {},
   "outputs": [],
   "source": [
    "data['High_Score'] = 100"
   ]
  },
  {
   "cell_type": "code",
   "execution_count": 10,
   "metadata": {},
   "outputs": [
    {
     "name": "stdout",
     "output_type": "stream",
     "text": [
      "   Time_Delay_in_Minutes  LSD_ppm  Avg_Math_Test_Score    Test_Subject  \\\n",
      "0                      5     1.17                78.93  Jennifer Lopez   \n",
      "1                     15     2.97                58.20  Jennifer Lopez   \n",
      "2                     30     3.26                67.47  Jennifer Lopez   \n",
      "3                     60     4.69                37.47  Jennifer Lopez   \n",
      "4                    120     5.83                45.65  Jennifer Lopez   \n",
      "5                    240     6.00                32.92  Jennifer Lopez   \n",
      "6                    480     6.41                29.97  Jennifer Lopez   \n",
      "\n",
      "   High_Score  \n",
      "0         100  \n",
      "1         100  \n",
      "2         100  \n",
      "3         100  \n",
      "4         100  \n",
      "5         100  \n",
      "6         100  \n"
     ]
    }
   ],
   "source": [
    "print(data)"
   ]
  },
  {
   "cell_type": "code",
   "execution_count": 11,
   "metadata": {},
   "outputs": [],
   "source": [
    "data['High_Score'] = 100 + data['Avg_Math_Test_Score']"
   ]
  },
  {
   "cell_type": "code",
   "execution_count": 12,
   "metadata": {},
   "outputs": [
    {
     "name": "stdout",
     "output_type": "stream",
     "text": [
      "   Time_Delay_in_Minutes  LSD_ppm  Avg_Math_Test_Score    Test_Subject  \\\n",
      "0                      5     1.17                78.93  Jennifer Lopez   \n",
      "1                     15     2.97                58.20  Jennifer Lopez   \n",
      "2                     30     3.26                67.47  Jennifer Lopez   \n",
      "3                     60     4.69                37.47  Jennifer Lopez   \n",
      "4                    120     5.83                45.65  Jennifer Lopez   \n",
      "5                    240     6.00                32.92  Jennifer Lopez   \n",
      "6                    480     6.41                29.97  Jennifer Lopez   \n",
      "\n",
      "   High_Score  \n",
      "0      178.93  \n",
      "1      158.20  \n",
      "2      167.47  \n",
      "3      137.47  \n",
      "4      145.65  \n",
      "5      132.92  \n",
      "6      129.97  \n"
     ]
    }
   ],
   "source": [
    "print(data)"
   ]
  },
  {
   "cell_type": "code",
   "execution_count": 13,
   "metadata": {},
   "outputs": [],
   "source": [
    "data['High_Score'] = data['High_Score']**2"
   ]
  },
  {
   "cell_type": "code",
   "execution_count": 14,
   "metadata": {},
   "outputs": [
    {
     "name": "stdout",
     "output_type": "stream",
     "text": [
      "   Time_Delay_in_Minutes  LSD_ppm  Avg_Math_Test_Score    Test_Subject  \\\n",
      "0                      5     1.17                78.93  Jennifer Lopez   \n",
      "1                     15     2.97                58.20  Jennifer Lopez   \n",
      "2                     30     3.26                67.47  Jennifer Lopez   \n",
      "3                     60     4.69                37.47  Jennifer Lopez   \n",
      "4                    120     5.83                45.65  Jennifer Lopez   \n",
      "5                    240     6.00                32.92  Jennifer Lopez   \n",
      "6                    480     6.41                29.97  Jennifer Lopez   \n",
      "\n",
      "   High_Score  \n",
      "0  32015.9449  \n",
      "1  25027.2400  \n",
      "2  28046.2009  \n",
      "3  18898.0009  \n",
      "4  21213.9225  \n",
      "5  17667.7264  \n",
      "6  16892.2009  \n"
     ]
    }
   ],
   "source": [
    "print(data)"
   ]
  },
  {
   "cell_type": "code",
   "execution_count": 15,
   "metadata": {},
   "outputs": [
    {
     "data": {
      "text/plain": [
       "pandas.core.series.Series"
      ]
     },
     "execution_count": 15,
     "metadata": {},
     "output_type": "execute_result"
    }
   ],
   "source": [
    "type(onlyMathScores)"
   ]
  },
  {
   "cell_type": "code",
   "execution_count": 16,
   "metadata": {},
   "outputs": [],
   "source": [
    "# columnList = ['LSD_ppm', 'Avg_Math_Test_Score']\n",
    "# print(columnList)\n"
   ]
  },
  {
   "cell_type": "code",
   "execution_count": 17,
   "metadata": {},
   "outputs": [],
   "source": [
    "# cleanData = data[columnList]\n",
    "cleanData = data[['LSD_ppm', 'Avg_Math_Test_Score']]"
   ]
  },
  {
   "cell_type": "code",
   "execution_count": 18,
   "metadata": {},
   "outputs": [
    {
     "name": "stdout",
     "output_type": "stream",
     "text": [
      "   LSD_ppm  Avg_Math_Test_Score\n",
      "0     1.17                78.93\n",
      "1     2.97                58.20\n",
      "2     3.26                67.47\n",
      "3     4.69                37.47\n",
      "4     5.83                45.65\n",
      "5     6.00                32.92\n",
      "6     6.41                29.97\n"
     ]
    }
   ],
   "source": [
    "print(cleanData)"
   ]
  },
  {
   "cell_type": "code",
   "execution_count": 19,
   "metadata": {},
   "outputs": [
    {
     "data": {
      "text/plain": [
       "pandas.core.frame.DataFrame"
      ]
     },
     "execution_count": 19,
     "metadata": {},
     "output_type": "execute_result"
    }
   ],
   "source": [
    "type(cleanData)"
   ]
  },
  {
   "cell_type": "code",
   "execution_count": 20,
   "metadata": {},
   "outputs": [],
   "source": [
    "y = data[['Avg_Math_Test_Score']]"
   ]
  },
  {
   "cell_type": "code",
   "execution_count": 21,
   "metadata": {},
   "outputs": [
    {
     "data": {
      "text/plain": [
       "pandas.core.frame.DataFrame"
      ]
     },
     "execution_count": 21,
     "metadata": {},
     "output_type": "execute_result"
    }
   ],
   "source": [
    "type(y)"
   ]
  },
  {
   "cell_type": "code",
   "execution_count": 22,
   "metadata": {},
   "outputs": [],
   "source": [
    "X = data[['LSD_ppm']]"
   ]
  },
  {
   "cell_type": "code",
   "execution_count": 23,
   "metadata": {},
   "outputs": [
    {
     "name": "stdout",
     "output_type": "stream",
     "text": [
      "   LSD_ppm\n",
      "0     1.17\n",
      "1     2.97\n",
      "2     3.26\n",
      "3     4.69\n",
      "4     5.83\n",
      "5     6.00\n",
      "6     6.41\n"
     ]
    }
   ],
   "source": [
    "print(X)"
   ]
  },
  {
   "cell_type": "code",
   "execution_count": 24,
   "metadata": {},
   "outputs": [
    {
     "data": {
      "text/plain": [
       "pandas.core.frame.DataFrame"
      ]
     },
     "execution_count": 24,
     "metadata": {},
     "output_type": "execute_result"
    }
   ],
   "source": [
    "type(X)"
   ]
  },
  {
   "cell_type": "code",
   "execution_count": 25,
   "metadata": {},
   "outputs": [],
   "source": [
    "del data['Test_Subject']"
   ]
  },
  {
   "cell_type": "code",
   "execution_count": 26,
   "metadata": {},
   "outputs": [
    {
     "name": "stdout",
     "output_type": "stream",
     "text": [
      "   Time_Delay_in_Minutes  LSD_ppm  Avg_Math_Test_Score  High_Score\n",
      "0                      5     1.17                78.93  32015.9449\n",
      "1                     15     2.97                58.20  25027.2400\n",
      "2                     30     3.26                67.47  28046.2009\n",
      "3                     60     4.69                37.47  18898.0009\n",
      "4                    120     5.83                45.65  21213.9225\n",
      "5                    240     6.00                32.92  17667.7264\n",
      "6                    480     6.41                29.97  16892.2009\n"
     ]
    }
   ],
   "source": [
    "print(data)"
   ]
  },
  {
   "cell_type": "code",
   "execution_count": 27,
   "metadata": {},
   "outputs": [],
   "source": [
    "del data['High_Score']"
   ]
  },
  {
   "cell_type": "code",
   "execution_count": 28,
   "metadata": {},
   "outputs": [
    {
     "name": "stdout",
     "output_type": "stream",
     "text": [
      "   Time_Delay_in_Minutes  LSD_ppm  Avg_Math_Test_Score\n",
      "0                      5     1.17                78.93\n",
      "1                     15     2.97                58.20\n",
      "2                     30     3.26                67.47\n",
      "3                     60     4.69                37.47\n",
      "4                    120     5.83                45.65\n",
      "5                    240     6.00                32.92\n",
      "6                    480     6.41                29.97\n"
     ]
    }
   ],
   "source": [
    "print(data)"
   ]
  },
  {
   "cell_type": "code",
   "execution_count": 29,
   "metadata": {},
   "outputs": [],
   "source": [
    "import life"
   ]
  },
  {
   "cell_type": "code",
   "execution_count": 30,
   "metadata": {},
   "outputs": [
    {
     "data": {
      "text/plain": [
       "module"
      ]
     },
     "execution_count": 30,
     "metadata": {},
     "output_type": "execute_result"
    }
   ],
   "source": [
    "type(life)"
   ]
  },
  {
   "cell_type": "code",
   "execution_count": 31,
   "metadata": {},
   "outputs": [
    {
     "data": {
      "text/plain": [
       "42"
      ]
     },
     "execution_count": 31,
     "metadata": {},
     "output_type": "execute_result"
    }
   ],
   "source": [
    "life.theAnswer"
   ]
  },
  {
   "cell_type": "code",
   "execution_count": 32,
   "metadata": {},
   "outputs": [],
   "source": [
    "import math"
   ]
  },
  {
   "cell_type": "code",
   "execution_count": 33,
   "metadata": {},
   "outputs": [
    {
     "data": {
      "text/plain": [
       "module"
      ]
     },
     "execution_count": 33,
     "metadata": {},
     "output_type": "execute_result"
    }
   ],
   "source": [
    "type(math)"
   ]
  },
  {
   "cell_type": "code",
   "execution_count": 34,
   "metadata": {},
   "outputs": [
    {
     "name": "stdout",
     "output_type": "stream",
     "text": [
      "3.141592653589793\n"
     ]
    }
   ],
   "source": [
    "print(math.pi)"
   ]
  },
  {
   "cell_type": "code",
   "execution_count": 35,
   "metadata": {},
   "outputs": [
    {
     "name": "stdout",
     "output_type": "stream",
     "text": [
      "2.718281828459045\n"
     ]
    }
   ],
   "source": [
    "print(math.e)"
   ]
  },
  {
   "cell_type": "code",
   "execution_count": 36,
   "metadata": {},
   "outputs": [],
   "source": [
    "from life import theAnswer"
   ]
  },
  {
   "cell_type": "code",
   "execution_count": 37,
   "metadata": {},
   "outputs": [
    {
     "name": "stdout",
     "output_type": "stream",
     "text": [
      "42\n"
     ]
    }
   ],
   "source": [
    "print(theAnswer)"
   ]
  },
  {
   "cell_type": "code",
   "execution_count": 38,
   "metadata": {},
   "outputs": [],
   "source": [
    "import matplotlib.pyplot as plt\n",
    "from sklearn.linear_model import LinearRegression"
   ]
  },
  {
   "cell_type": "code",
   "execution_count": 39,
   "metadata": {},
   "outputs": [],
   "source": [
    "def get_milk():\n",
    "    print('Open door')\n",
    "    print('Walk to store')\n",
    "    print('Buy milk on the ground floor')\n",
    "    print('Return with milk galore')"
   ]
  },
  {
   "cell_type": "code",
   "execution_count": 40,
   "metadata": {},
   "outputs": [
    {
     "name": "stdout",
     "output_type": "stream",
     "text": [
      "Open door\n",
      "Walk to store\n",
      "Buy milk on the ground floor\n",
      "Return with milk galore\n"
     ]
    }
   ],
   "source": [
    "get_milk()"
   ]
  },
  {
   "cell_type": "code",
   "execution_count": 41,
   "metadata": {},
   "outputs": [],
   "source": [
    "def fill_the_fridge(amount):\n",
    "    print('Open door')\n",
    "    print('Walk to store')\n",
    "    print('Buy ' + amount + ' cartons on the ground floor')\n",
    "    print('Return with milk galore')"
   ]
  },
  {
   "cell_type": "code",
   "execution_count": 42,
   "metadata": {},
   "outputs": [
    {
     "name": "stdout",
     "output_type": "stream",
     "text": [
      "Open door\n",
      "Walk to store\n",
      "Buy five cartons on the ground floor\n",
      "Return with milk galore\n"
     ]
    }
   ],
   "source": [
    "fill_the_fridge('five')"
   ]
  },
  {
   "cell_type": "code",
   "execution_count": 43,
   "metadata": {},
   "outputs": [],
   "source": [
    "def milk_mission(amount, destination):\n",
    "    print('Open door')\n",
    "    print('Walk to the ' + destination)\n",
    "    print('Buy ' + amount + ' cartons on the ground floor')\n",
    "    print('Return with milk galore')"
   ]
  },
  {
   "cell_type": "code",
   "execution_count": 44,
   "metadata": {},
   "outputs": [
    {
     "name": "stdout",
     "output_type": "stream",
     "text": [
      "Open door\n",
      "Walk to the department store\n",
      "Buy twenty cartons on the ground floor\n",
      "Return with milk galore\n"
     ]
    }
   ],
   "source": [
    "milk_mission('twenty', 'department store')"
   ]
  },
  {
   "cell_type": "code",
   "execution_count": 45,
   "metadata": {},
   "outputs": [
    {
     "name": "stdout",
     "output_type": "stream",
     "text": [
      "Open door\n",
      "Walk to the department store\n",
      "Buy twenty cartons on the ground floor\n",
      "Return with milk galore\n"
     ]
    }
   ],
   "source": [
    "milk_mission(destination='department store', amount='twenty')"
   ]
  },
  {
   "cell_type": "code",
   "execution_count": 46,
   "metadata": {},
   "outputs": [
    {
     "name": "stdout",
     "output_type": "stream",
     "text": [
      "15.9826\n"
     ]
    }
   ],
   "source": [
    "def times(x,y):\n",
    "    return x*y\n",
    "\n",
    "test = times(3.14, 5.09)\n",
    "\n",
    "print(test)"
   ]
  },
  {
   "cell_type": "code",
   "execution_count": 47,
   "metadata": {},
   "outputs": [
    {
     "name": "stdout",
     "output_type": "stream",
     "text": [
      "The Zen of Python, by Tim Peters\n",
      "\n",
      "Beautiful is better than ugly.\n",
      "Explicit is better than implicit.\n",
      "Simple is better than complex.\n",
      "Complex is better than complicated.\n",
      "Flat is better than nested.\n",
      "Sparse is better than dense.\n",
      "Readability counts.\n",
      "Special cases aren't special enough to break the rules.\n",
      "Although practicality beats purity.\n",
      "Errors should never pass silently.\n",
      "Unless explicitly silenced.\n",
      "In the face of ambiguity, refuse the temptation to guess.\n",
      "There should be one-- and preferably only one --obvious way to do it.\n",
      "Although that way may not be obvious at first unless you're Dutch.\n",
      "Now is better than never.\n",
      "Although never is often better than *right* now.\n",
      "If the implementation is hard to explain, it's a bad idea.\n",
      "If the implementation is easy to explain, it may be a good idea.\n",
      "Namespaces are one honking great idea -- let's do more of those!\n"
     ]
    }
   ],
   "source": [
    "import this"
   ]
  },
  {
   "cell_type": "code",
   "execution_count": 48,
   "metadata": {},
   "outputs": [
    {
     "name": "stdout",
     "output_type": "stream",
     "text": [
      "3.7.6 (default, Jan  8 2020, 13:42:34) \n",
      "[Clang 4.0.1 (tags/RELEASE_401/final)]\n"
     ]
    }
   ],
   "source": [
    "import sys\n",
    "print(sys.version)"
   ]
  },
  {
   "cell_type": "code",
   "execution_count": 49,
   "metadata": {},
   "outputs": [
    {
     "data": {
      "text/plain": [
       "[('__breakpointhook__', <function sys.breakpointhook>),\n",
       " ('__displayhook__', <function sys.displayhook>),\n",
       " ('__doc__',\n",
       "  \"This module provides access to some objects used or maintained by the\\ninterpreter and to functions that interact strongly with the interpreter.\\n\\nDynamic objects:\\n\\nargv -- command line arguments; argv[0] is the script pathname if known\\npath -- module search path; path[0] is the script directory, else ''\\nmodules -- dictionary of loaded modules\\n\\ndisplayhook -- called to show results in an interactive session\\nexcepthook -- called to handle any uncaught exception other than SystemExit\\n  To customize printing in an interactive session or to install a custom\\n  top-level exception handler, assign other functions to replace these.\\n\\nstdin -- standard input file object; used by input()\\nstdout -- standard output file object; used by print()\\nstderr -- standard error object; used for error messages\\n  By assigning other file objects (or objects that behave like files)\\n  to these, it is possible to redirect all of the interpreter's I/O.\\n\\nlast_type -- type of last uncaught exception\\nlast_value -- value of last uncaught exception\\nlast_traceback -- traceback of last uncaught exception\\n  These three are only available in an interactive session after a\\n  traceback has been printed.\\n\\nStatic objects:\\n\\nbuiltin_module_names -- tuple of module names built into this interpreter\\ncopyright -- copyright notice pertaining to this interpreter\\nexec_prefix -- prefix used to find the machine-specific Python library\\nexecutable -- absolute path of the executable binary of the Python interpreter\\nfloat_info -- a named tuple with information about the float implementation.\\nfloat_repr_style -- string indicating the style of repr() output for floats\\nhash_info -- a named tuple with information about the hash algorithm.\\nhexversion -- version information encoded as a single integer\\nimplementation -- Python implementation information.\\nint_info -- a named tuple with information about the int implementation.\\nmaxsize -- the largest supported length of containers.\\nmaxunicode -- the value of the largest Unicode code point\\nplatform -- platform identifier\\nprefix -- prefix used to find the Python library\\nthread_info -- a named tuple with information about the thread implementation.\\nversion -- the version of this interpreter as a string\\nversion_info -- version information as a named tuple\\n__stdin__ -- the original stdin; don't touch!\\n__stdout__ -- the original stdout; don't touch!\\n__stderr__ -- the original stderr; don't touch!\\n__displayhook__ -- the original displayhook; don't touch!\\n__excepthook__ -- the original excepthook; don't touch!\\n\\nFunctions:\\n\\ndisplayhook() -- print an object to the screen, and save it in builtins._\\nexcepthook() -- print an exception and its traceback to sys.stderr\\nexc_info() -- return thread-safe information about the current exception\\nexit() -- exit the interpreter by raising SystemExit\\ngetdlopenflags() -- returns flags to be used for dlopen() calls\\ngetprofile() -- get the global profiling function\\ngetrefcount() -- return the reference count for an object (plus one :-)\\ngetrecursionlimit() -- return the max recursion depth for the interpreter\\ngetsizeof() -- return the size of an object in bytes\\ngettrace() -- get the global debug tracing function\\nsetcheckinterval() -- control how often the interpreter checks for events\\nsetdlopenflags() -- set the flags to be used for dlopen() calls\\nsetprofile() -- set the global profiling function\\nsetrecursionlimit() -- set the max recursion depth for the interpreter\\nsettrace() -- set the global debug tracing function\\n\"),\n",
       " ('__excepthook__', <function sys.excepthook>),\n",
       " ('__interactivehook__',\n",
       "  <function site.enablerlcompleter.<locals>.register_readline()>),\n",
       " ('__loader__', _frozen_importlib.BuiltinImporter),\n",
       " ('__name__', 'sys'),\n",
       " ('__package__', ''),\n",
       " ('__spec__',\n",
       "  ModuleSpec(name='sys', loader=<class '_frozen_importlib.BuiltinImporter'>)),\n",
       " ('__stderr__', <_io.TextIOWrapper name='<stderr>' mode='w' encoding='UTF-8'>),\n",
       " ('__stdin__', <_io.TextIOWrapper name='<stdin>' mode='r' encoding='UTF-8'>),\n",
       " ('__stdout__', <_io.TextIOWrapper name='<stdout>' mode='w' encoding='UTF-8'>),\n",
       " ('_clear_type_cache', <function sys._clear_type_cache>),\n",
       " ('_current_frames', <function sys._current_frames>),\n",
       " ('_debugmallocstats', <function sys._debugmallocstats>),\n",
       " ('_framework', ''),\n",
       " ('_getframe', <function sys._getframe>),\n",
       " ('_git', ('CPython', '', '')),\n",
       " ('_home', None),\n",
       " ('_xoptions', {}),\n",
       " ('abiflags', 'm'),\n",
       " ('api_version', 1013),\n",
       " ('argv',\n",
       "  ['/Users/nheather/opt/anaconda3/lib/python3.7/site-packages/ipykernel_launcher.py',\n",
       "   '-f',\n",
       "   '/Users/nheather/Library/Jupyter/runtime/kernel-9b4f67c6-a8c7-4584-8726-e974768bee17.json']),\n",
       " ('base_exec_prefix', '/Users/nheather/opt/anaconda3'),\n",
       " ('base_prefix', '/Users/nheather/opt/anaconda3'),\n",
       " ('breakpointhook', <function sys.breakpointhook>),\n",
       " ('builtin_module_names',\n",
       "  ('_abc',\n",
       "   '_ast',\n",
       "   '_codecs',\n",
       "   '_collections',\n",
       "   '_functools',\n",
       "   '_imp',\n",
       "   '_io',\n",
       "   '_locale',\n",
       "   '_operator',\n",
       "   '_signal',\n",
       "   '_sre',\n",
       "   '_stat',\n",
       "   '_string',\n",
       "   '_symtable',\n",
       "   '_thread',\n",
       "   '_tracemalloc',\n",
       "   '_warnings',\n",
       "   '_weakref',\n",
       "   'atexit',\n",
       "   'builtins',\n",
       "   'errno',\n",
       "   'faulthandler',\n",
       "   'gc',\n",
       "   'itertools',\n",
       "   'marshal',\n",
       "   'posix',\n",
       "   'pwd',\n",
       "   'sys',\n",
       "   'time',\n",
       "   'xxsubtype',\n",
       "   'zipimport')),\n",
       " ('byteorder', 'little'),\n",
       " ('call_tracing', <function sys.call_tracing>),\n",
       " ('callstats', <function sys.callstats>),\n",
       " ('copyright',\n",
       "  'Copyright (c) 2001-2019 Python Software Foundation.\\nAll Rights Reserved.\\n\\nCopyright (c) 2000 BeOpen.com.\\nAll Rights Reserved.\\n\\nCopyright (c) 1995-2001 Corporation for National Research Initiatives.\\nAll Rights Reserved.\\n\\nCopyright (c) 1991-1995 Stichting Mathematisch Centrum, Amsterdam.\\nAll Rights Reserved.'),\n",
       " ('displayhook',\n",
       "  <ipykernel.displayhook.ZMQShellDisplayHook at 0x7fabd06cd990>),\n",
       " ('dont_write_bytecode', False),\n",
       " ('exc_info', <function sys.exc_info>),\n",
       " ('excepthook',\n",
       "  <bound method InteractiveShell.excepthook of <ipykernel.zmqshell.ZMQInteractiveShell object at 0x7fabd07e3f10>>),\n",
       " ('exec_prefix', '/Users/nheather/opt/anaconda3'),\n",
       " ('executable', '/Users/nheather/opt/anaconda3/bin/python'),\n",
       " ('exit', <function sys.exit>),\n",
       " ('flags',\n",
       "  sys.flags(debug=0, inspect=0, interactive=0, optimize=0, dont_write_bytecode=0, no_user_site=0, no_site=0, ignore_environment=0, verbose=0, bytes_warning=0, quiet=0, hash_randomization=1, isolated=0, dev_mode=False, utf8_mode=0)),\n",
       " ('float_info',\n",
       "  sys.float_info(max=1.7976931348623157e+308, max_exp=1024, max_10_exp=308, min=2.2250738585072014e-308, min_exp=-1021, min_10_exp=-307, dig=15, mant_dig=53, epsilon=2.220446049250313e-16, radix=2, rounds=1)),\n",
       " ('float_repr_style', 'short'),\n",
       " ('get_asyncgen_hooks', <function sys.get_asyncgen_hooks>),\n",
       " ('get_coroutine_origin_tracking_depth',\n",
       "  <function sys.get_coroutine_origin_tracking_depth()>),\n",
       " ('get_coroutine_wrapper', <function sys.get_coroutine_wrapper>),\n",
       " ('getallocatedblocks', <function sys.getallocatedblocks>),\n",
       " ('getcheckinterval', <function sys.getcheckinterval>),\n",
       " ('getdefaultencoding', <function sys.getdefaultencoding>),\n",
       " ('getdlopenflags', <function sys.getdlopenflags>),\n",
       " ('getfilesystemencodeerrors', <function sys.getfilesystemencodeerrors>),\n",
       " ('getfilesystemencoding', <function sys.getfilesystemencoding>),\n",
       " ('getprofile', <function sys.getprofile>),\n",
       " ('getrecursionlimit', <function sys.getrecursionlimit>),\n",
       " ('getrefcount', <function sys.getrefcount>),\n",
       " ('getsizeof', <function sys.getsizeof>),\n",
       " ('getswitchinterval', <function sys.getswitchinterval>),\n",
       " ('gettrace', <function sys.gettrace>),\n",
       " ('hash_info',\n",
       "  sys.hash_info(width=64, modulus=2305843009213693951, inf=314159, nan=0, imag=1000003, algorithm='siphash24', hash_bits=64, seed_bits=128, cutoff=0)),\n",
       " ('hexversion', 50792176),\n",
       " ('implementation',\n",
       "  namespace(_multiarch='darwin', cache_tag='cpython-37', hexversion=50792176, name='cpython', version=sys.version_info(major=3, minor=7, micro=6, releaselevel='final', serial=0))),\n",
       " ('int_info', sys.int_info(bits_per_digit=30, sizeof_digit=4)),\n",
       " ('intern', <function sys.intern>),\n",
       " ('is_finalizing', <function sys.is_finalizing>),\n",
       " ('maxsize', 9223372036854775807),\n",
       " ('maxunicode', 1114111),\n",
       " ('meta_path',\n",
       "  [_frozen_importlib.BuiltinImporter,\n",
       "   _frozen_importlib.FrozenImporter,\n",
       "   _frozen_importlib_external.PathFinder,\n",
       "   <six._SixMetaPathImporter at 0x7fac00316190>]),\n",
       " ('modules',\n",
       "  {'sys': <module 'sys' (built-in)>,\n",
       "   'builtins': <module 'builtins' (built-in)>,\n",
       "   '_frozen_importlib': <module 'importlib._bootstrap' (frozen)>,\n",
       "   '_imp': <module '_imp' (built-in)>,\n",
       "   '_thread': <module '_thread' (built-in)>,\n",
       "   '_warnings': <module '_warnings' (built-in)>,\n",
       "   '_weakref': <module '_weakref' (built-in)>,\n",
       "   'zipimport': <module 'zipimport' (built-in)>,\n",
       "   '_frozen_importlib_external': <module 'importlib._bootstrap_external' (frozen)>,\n",
       "   '_io': <module 'io' (built-in)>,\n",
       "   'marshal': <module 'marshal' (built-in)>,\n",
       "   'posix': <module 'posix' (built-in)>,\n",
       "   'encodings': <module 'encodings' from '/Users/nheather/opt/anaconda3/lib/python3.7/encodings/__init__.py'>,\n",
       "   'codecs': <module 'codecs' from '/Users/nheather/opt/anaconda3/lib/python3.7/codecs.py'>,\n",
       "   '_codecs': <module '_codecs' (built-in)>,\n",
       "   'encodings.aliases': <module 'encodings.aliases' from '/Users/nheather/opt/anaconda3/lib/python3.7/encodings/aliases.py'>,\n",
       "   'encodings.utf_8': <module 'encodings.utf_8' from '/Users/nheather/opt/anaconda3/lib/python3.7/encodings/utf_8.py'>,\n",
       "   '_signal': <module '_signal' (built-in)>,\n",
       "   '__main__': <module '__main__'>,\n",
       "   'encodings.latin_1': <module 'encodings.latin_1' from '/Users/nheather/opt/anaconda3/lib/python3.7/encodings/latin_1.py'>,\n",
       "   'io': <module 'io' from '/Users/nheather/opt/anaconda3/lib/python3.7/io.py'>,\n",
       "   'abc': <module 'abc' from '/Users/nheather/opt/anaconda3/lib/python3.7/abc.py'>,\n",
       "   '_abc': <module '_abc' (built-in)>,\n",
       "   '_bootlocale': <module '_bootlocale' from '/Users/nheather/opt/anaconda3/lib/python3.7/_bootlocale.py'>,\n",
       "   '_locale': <module '_locale' (built-in)>,\n",
       "   'site': <module 'site' from '/Users/nheather/opt/anaconda3/lib/python3.7/site.py'>,\n",
       "   'os': <module 'os' from '/Users/nheather/opt/anaconda3/lib/python3.7/os.py'>,\n",
       "   'stat': <module 'stat' from '/Users/nheather/opt/anaconda3/lib/python3.7/stat.py'>,\n",
       "   '_stat': <module '_stat' (built-in)>,\n",
       "   'posixpath': <module 'posixpath' from '/Users/nheather/opt/anaconda3/lib/python3.7/posixpath.py'>,\n",
       "   'genericpath': <module 'genericpath' from '/Users/nheather/opt/anaconda3/lib/python3.7/genericpath.py'>,\n",
       "   'os.path': <module 'posixpath' from '/Users/nheather/opt/anaconda3/lib/python3.7/posixpath.py'>,\n",
       "   '_collections_abc': <module '_collections_abc' from '/Users/nheather/opt/anaconda3/lib/python3.7/_collections_abc.py'>,\n",
       "   '_sitebuiltins': <module '_sitebuiltins' from '/Users/nheather/opt/anaconda3/lib/python3.7/_sitebuiltins.py'>,\n",
       "   'types': <module 'types' from '/Users/nheather/opt/anaconda3/lib/python3.7/types.py'>,\n",
       "   'importlib': <module 'importlib' from '/Users/nheather/opt/anaconda3/lib/python3.7/importlib/__init__.py'>,\n",
       "   'importlib._bootstrap': <module 'importlib._bootstrap' (frozen)>,\n",
       "   'importlib._bootstrap_external': <module 'importlib._bootstrap_external' (frozen)>,\n",
       "   'warnings': <module 'warnings' from '/Users/nheather/opt/anaconda3/lib/python3.7/warnings.py'>,\n",
       "   'importlib.util': <module 'importlib.util' from '/Users/nheather/opt/anaconda3/lib/python3.7/importlib/util.py'>,\n",
       "   'importlib.abc': <module 'importlib.abc' from '/Users/nheather/opt/anaconda3/lib/python3.7/importlib/abc.py'>,\n",
       "   'importlib.machinery': <module 'importlib.machinery' from '/Users/nheather/opt/anaconda3/lib/python3.7/importlib/machinery.py'>,\n",
       "   'contextlib': <module 'contextlib' from '/Users/nheather/opt/anaconda3/lib/python3.7/contextlib.py'>,\n",
       "   'collections': <module 'collections' from '/Users/nheather/opt/anaconda3/lib/python3.7/collections/__init__.py'>,\n",
       "   'operator': <module 'operator' from '/Users/nheather/opt/anaconda3/lib/python3.7/operator.py'>,\n",
       "   '_operator': <module '_operator' (built-in)>,\n",
       "   'keyword': <module 'keyword' from '/Users/nheather/opt/anaconda3/lib/python3.7/keyword.py'>,\n",
       "   'heapq': <module 'heapq' from '/Users/nheather/opt/anaconda3/lib/python3.7/heapq.py'>,\n",
       "   '_heapq': <module '_heapq' from '/Users/nheather/opt/anaconda3/lib/python3.7/lib-dynload/_heapq.cpython-37m-darwin.so'>,\n",
       "   'itertools': <module 'itertools' (built-in)>,\n",
       "   'reprlib': <module 'reprlib' from '/Users/nheather/opt/anaconda3/lib/python3.7/reprlib.py'>,\n",
       "   '_collections': <module '_collections' (built-in)>,\n",
       "   'functools': <module 'functools' from '/Users/nheather/opt/anaconda3/lib/python3.7/functools.py'>,\n",
       "   '_functools': <module '_functools' (built-in)>,\n",
       "   'mpl_toolkits': <module 'mpl_toolkits' (namespace)>,\n",
       "   'sphinxcontrib': <module 'sphinxcontrib' from '/Users/nheather/opt/anaconda3/lib/python3.7/site-packages/sphinxcontrib/__init__.py'>,\n",
       "   'runpy': <module 'runpy' from '/Users/nheather/opt/anaconda3/lib/python3.7/runpy.py'>,\n",
       "   'pkgutil': <module 'pkgutil' from '/Users/nheather/opt/anaconda3/lib/python3.7/pkgutil.py'>,\n",
       "   'weakref': <module 'weakref' from '/Users/nheather/opt/anaconda3/lib/python3.7/weakref.py'>,\n",
       "   '_weakrefset': <module '_weakrefset' from '/Users/nheather/opt/anaconda3/lib/python3.7/_weakrefset.py'>,\n",
       "   'ipykernel': <module 'ipykernel' from '/Users/nheather/opt/anaconda3/lib/python3.7/site-packages/ipykernel/__init__.py'>,\n",
       "   'ipykernel._version': <module 'ipykernel._version' from '/Users/nheather/opt/anaconda3/lib/python3.7/site-packages/ipykernel/_version.py'>,\n",
       "   'ipykernel.connect': <module 'ipykernel.connect' from '/Users/nheather/opt/anaconda3/lib/python3.7/site-packages/ipykernel/connect.py'>,\n",
       "   '__future__': <module '__future__' from '/Users/nheather/opt/anaconda3/lib/python3.7/__future__.py'>,\n",
       "   'json': <module 'json' from '/Users/nheather/opt/anaconda3/lib/python3.7/json/__init__.py'>,\n",
       "   'json.decoder': <module 'json.decoder' from '/Users/nheather/opt/anaconda3/lib/python3.7/json/decoder.py'>,\n",
       "   're': <module 're' from '/Users/nheather/opt/anaconda3/lib/python3.7/re.py'>,\n",
       "   'enum': <module 'enum' from '/Users/nheather/opt/anaconda3/lib/python3.7/enum.py'>,\n",
       "   'sre_compile': <module 'sre_compile' from '/Users/nheather/opt/anaconda3/lib/python3.7/sre_compile.py'>,\n",
       "   '_sre': <module '_sre' (built-in)>,\n",
       "   'sre_parse': <module 'sre_parse' from '/Users/nheather/opt/anaconda3/lib/python3.7/sre_parse.py'>,\n",
       "   'sre_constants': <module 'sre_constants' from '/Users/nheather/opt/anaconda3/lib/python3.7/sre_constants.py'>,\n",
       "   'copyreg': <module 'copyreg' from '/Users/nheather/opt/anaconda3/lib/python3.7/copyreg.py'>,\n",
       "   'json.scanner': <module 'json.scanner' from '/Users/nheather/opt/anaconda3/lib/python3.7/json/scanner.py'>,\n",
       "   '_json': <module '_json' from '/Users/nheather/opt/anaconda3/lib/python3.7/lib-dynload/_json.cpython-37m-darwin.so'>,\n",
       "   'json.encoder': <module 'json.encoder' from '/Users/nheather/opt/anaconda3/lib/python3.7/json/encoder.py'>,\n",
       "   'subprocess': <module 'subprocess' from '/Users/nheather/opt/anaconda3/lib/python3.7/subprocess.py'>,\n",
       "   'time': <module 'time' (built-in)>,\n",
       "   'signal': <module 'signal' from '/Users/nheather/opt/anaconda3/lib/python3.7/signal.py'>,\n",
       "   'errno': <module 'errno' (built-in)>,\n",
       "   '_posixsubprocess': <module '_posixsubprocess' from '/Users/nheather/opt/anaconda3/lib/python3.7/lib-dynload/_posixsubprocess.cpython-37m-darwin.so'>,\n",
       "   'select': <module 'select' from '/Users/nheather/opt/anaconda3/lib/python3.7/lib-dynload/select.cpython-37m-darwin.so'>,\n",
       "   'selectors': <module 'selectors' from '/Users/nheather/opt/anaconda3/lib/python3.7/selectors.py'>,\n",
       "   'collections.abc': <module 'collections.abc' from '/Users/nheather/opt/anaconda3/lib/python3.7/collections/abc.py'>,\n",
       "   'math': <module 'math' from '/Users/nheather/opt/anaconda3/lib/python3.7/lib-dynload/math.cpython-37m-darwin.so'>,\n",
       "   'threading': <module 'threading' from '/Users/nheather/opt/anaconda3/lib/python3.7/threading.py'>,\n",
       "   'traceback': <module 'traceback' from '/Users/nheather/opt/anaconda3/lib/python3.7/traceback.py'>,\n",
       "   'linecache': <module 'linecache' from '/Users/nheather/opt/anaconda3/lib/python3.7/linecache.py'>,\n",
       "   'tokenize': <module 'tokenize' from '/Users/nheather/opt/anaconda3/lib/python3.7/tokenize.py'>,\n",
       "   'token': <module 'token' from '/Users/nheather/opt/anaconda3/lib/python3.7/token.py'>,\n",
       "   'IPython': <module 'IPython' from '/Users/nheather/opt/anaconda3/lib/python3.7/site-packages/IPython/__init__.py'>,\n",
       "   'IPython.core': <module 'IPython.core' from '/Users/nheather/opt/anaconda3/lib/python3.7/site-packages/IPython/core/__init__.py'>,\n",
       "   'IPython.core.getipython': <module 'IPython.core.getipython' from '/Users/nheather/opt/anaconda3/lib/python3.7/site-packages/IPython/core/getipython.py'>,\n",
       "   'IPython.core.release': <module 'IPython.core.release' from '/Users/nheather/opt/anaconda3/lib/python3.7/site-packages/IPython/core/release.py'>,\n",
       "   'IPython.core.application': <module 'IPython.core.application' from '/Users/nheather/opt/anaconda3/lib/python3.7/site-packages/IPython/core/application.py'>,\n",
       "   'atexit': <module 'atexit' (built-in)>,\n",
       "   'copy': <module 'copy' from '/Users/nheather/opt/anaconda3/lib/python3.7/copy.py'>,\n",
       "   'glob': <module 'glob' from '/Users/nheather/opt/anaconda3/lib/python3.7/glob.py'>,\n",
       "   'fnmatch': <module 'fnmatch' from '/Users/nheather/opt/anaconda3/lib/python3.7/fnmatch.py'>,\n",
       "   'logging': <module 'logging' from '/Users/nheather/opt/anaconda3/lib/python3.7/logging/__init__.py'>,\n",
       "   'string': <module 'string' from '/Users/nheather/opt/anaconda3/lib/python3.7/string.py'>,\n",
       "   '_string': <module '_string' (built-in)>,\n",
       "   'shutil': <module 'shutil' from '/Users/nheather/opt/anaconda3/lib/python3.7/shutil.py'>,\n",
       "   'zlib': <module 'zlib' from '/Users/nheather/opt/anaconda3/lib/python3.7/lib-dynload/zlib.cpython-37m-darwin.so'>,\n",
       "   'bz2': <module 'bz2' from '/Users/nheather/opt/anaconda3/lib/python3.7/bz2.py'>,\n",
       "   '_compression': <module '_compression' from '/Users/nheather/opt/anaconda3/lib/python3.7/_compression.py'>,\n",
       "   '_bz2': <module '_bz2' from '/Users/nheather/opt/anaconda3/lib/python3.7/lib-dynload/_bz2.cpython-37m-darwin.so'>,\n",
       "   'lzma': <module 'lzma' from '/Users/nheather/opt/anaconda3/lib/python3.7/lzma.py'>,\n",
       "   '_lzma': <module '_lzma' from '/Users/nheather/opt/anaconda3/lib/python3.7/lib-dynload/_lzma.cpython-37m-darwin.so'>,\n",
       "   'pwd': <module 'pwd' (built-in)>,\n",
       "   'grp': <module 'grp' from '/Users/nheather/opt/anaconda3/lib/python3.7/lib-dynload/grp.cpython-37m-darwin.so'>,\n",
       "   'traitlets': <module 'traitlets' from '/Users/nheather/opt/anaconda3/lib/python3.7/site-packages/traitlets/__init__.py'>,\n",
       "   'traitlets.traitlets': <module 'traitlets.traitlets' from '/Users/nheather/opt/anaconda3/lib/python3.7/site-packages/traitlets/traitlets.py'>,\n",
       "   'inspect': <module 'inspect' from '/Users/nheather/opt/anaconda3/lib/python3.7/inspect.py'>,\n",
       "   'dis': <module 'dis' from '/Users/nheather/opt/anaconda3/lib/python3.7/dis.py'>,\n",
       "   'opcode': <module 'opcode' from '/Users/nheather/opt/anaconda3/lib/python3.7/opcode.py'>,\n",
       "   '_opcode': <module '_opcode' from '/Users/nheather/opt/anaconda3/lib/python3.7/lib-dynload/_opcode.cpython-37m-darwin.so'>,\n",
       "   'six': <module 'six' from '/Users/nheather/opt/anaconda3/lib/python3.7/site-packages/six.py'>,\n",
       "   'struct': <module 'struct' from '/Users/nheather/opt/anaconda3/lib/python3.7/struct.py'>,\n",
       "   '_struct': <module '_struct' from '/Users/nheather/opt/anaconda3/lib/python3.7/lib-dynload/_struct.cpython-37m-darwin.so'>,\n",
       "   'traitlets.utils': <module 'traitlets.utils' from '/Users/nheather/opt/anaconda3/lib/python3.7/site-packages/traitlets/utils/__init__.py'>,\n",
       "   'traitlets.utils.getargspec': <module 'traitlets.utils.getargspec' from '/Users/nheather/opt/anaconda3/lib/python3.7/site-packages/traitlets/utils/getargspec.py'>,\n",
       "   'traitlets.utils.importstring': <module 'traitlets.utils.importstring' from '/Users/nheather/opt/anaconda3/lib/python3.7/site-packages/traitlets/utils/importstring.py'>,\n",
       "   'ipython_genutils': <module 'ipython_genutils' from '/Users/nheather/opt/anaconda3/lib/python3.7/site-packages/ipython_genutils/__init__.py'>,\n",
       "   'ipython_genutils._version': <module 'ipython_genutils._version' from '/Users/nheather/opt/anaconda3/lib/python3.7/site-packages/ipython_genutils/_version.py'>,\n",
       "   'ipython_genutils.py3compat': <module 'ipython_genutils.py3compat' from '/Users/nheather/opt/anaconda3/lib/python3.7/site-packages/ipython_genutils/py3compat.py'>,\n",
       "   'ipython_genutils.encoding': <module 'ipython_genutils.encoding' from '/Users/nheather/opt/anaconda3/lib/python3.7/site-packages/ipython_genutils/encoding.py'>,\n",
       "   'locale': <module 'locale' from '/Users/nheather/opt/anaconda3/lib/python3.7/locale.py'>,\n",
       "   'platform': <module 'platform' from '/Users/nheather/opt/anaconda3/lib/python3.7/platform.py'>,\n",
       "   'traitlets.utils.sentinel': <module 'traitlets.utils.sentinel' from '/Users/nheather/opt/anaconda3/lib/python3.7/site-packages/traitlets/utils/sentinel.py'>,\n",
       "   'traitlets.utils.bunch': <module 'traitlets.utils.bunch' from '/Users/nheather/opt/anaconda3/lib/python3.7/site-packages/traitlets/utils/bunch.py'>,\n",
       "   'traitlets._version': <module 'traitlets._version' from '/Users/nheather/opt/anaconda3/lib/python3.7/site-packages/traitlets/_version.py'>,\n",
       "   'traitlets.config': <module 'traitlets.config' from '/Users/nheather/opt/anaconda3/lib/python3.7/site-packages/traitlets/config/__init__.py'>,\n",
       "   'traitlets.config.application': <module 'traitlets.config.application' from '/Users/nheather/opt/anaconda3/lib/python3.7/site-packages/traitlets/config/application.py'>,\n",
       "   'decorator': <module 'decorator' from '/Users/nheather/opt/anaconda3/lib/python3.7/site-packages/decorator.py'>,\n",
       "   'traitlets.config.configurable': <module 'traitlets.config.configurable' from '/Users/nheather/opt/anaconda3/lib/python3.7/site-packages/traitlets/config/configurable.py'>,\n",
       "   'traitlets.config.loader': <module 'traitlets.config.loader' from '/Users/nheather/opt/anaconda3/lib/python3.7/site-packages/traitlets/config/loader.py'>,\n",
       "   'argparse': <module 'argparse' from '/Users/nheather/opt/anaconda3/lib/python3.7/argparse.py'>,\n",
       "   'gettext': <module 'gettext' from '/Users/nheather/opt/anaconda3/lib/python3.7/gettext.py'>,\n",
       "   'ast': <module 'ast' from '/Users/nheather/opt/anaconda3/lib/python3.7/ast.py'>,\n",
       "   '_ast': <module '_ast' (built-in)>,\n",
       "   'ipython_genutils.path': <module 'ipython_genutils.path' from '/Users/nheather/opt/anaconda3/lib/python3.7/site-packages/ipython_genutils/path.py'>,\n",
       "   'random': <module 'random' from '/Users/nheather/opt/anaconda3/lib/python3.7/random.py'>,\n",
       "   'hashlib': <module 'hashlib' from '/Users/nheather/opt/anaconda3/lib/python3.7/hashlib.py'>,\n",
       "   '_hashlib': <module '_hashlib' from '/Users/nheather/opt/anaconda3/lib/python3.7/lib-dynload/_hashlib.cpython-37m-darwin.so'>,\n",
       "   '_blake2': <module '_blake2' from '/Users/nheather/opt/anaconda3/lib/python3.7/lib-dynload/_blake2.cpython-37m-darwin.so'>,\n",
       "   '_sha3': <module '_sha3' from '/Users/nheather/opt/anaconda3/lib/python3.7/lib-dynload/_sha3.cpython-37m-darwin.so'>,\n",
       "   'bisect': <module 'bisect' from '/Users/nheather/opt/anaconda3/lib/python3.7/bisect.py'>,\n",
       "   '_bisect': <module '_bisect' from '/Users/nheather/opt/anaconda3/lib/python3.7/lib-dynload/_bisect.cpython-37m-darwin.so'>,\n",
       "   '_random': <module '_random' from '/Users/nheather/opt/anaconda3/lib/python3.7/lib-dynload/_random.cpython-37m-darwin.so'>,\n",
       "   'ipython_genutils.text': <module 'ipython_genutils.text' from '/Users/nheather/opt/anaconda3/lib/python3.7/site-packages/ipython_genutils/text.py'>,\n",
       "   'textwrap': <module 'textwrap' from '/Users/nheather/opt/anaconda3/lib/python3.7/textwrap.py'>,\n",
       "   'ipython_genutils.importstring': <module 'ipython_genutils.importstring' from '/Users/nheather/opt/anaconda3/lib/python3.7/site-packages/ipython_genutils/importstring.py'>,\n",
       "   'IPython.core.crashhandler': <module 'IPython.core.crashhandler' from '/Users/nheather/opt/anaconda3/lib/python3.7/site-packages/IPython/core/crashhandler.py'>,\n",
       "   'pprint': <module 'pprint' from '/Users/nheather/opt/anaconda3/lib/python3.7/pprint.py'>,\n",
       "   'IPython.core.ultratb': <module 'IPython.core.ultratb' from '/Users/nheather/opt/anaconda3/lib/python3.7/site-packages/IPython/core/ultratb.py'>,\n",
       "   'pydoc': <module 'pydoc' from '/Users/nheather/opt/anaconda3/lib/python3.7/pydoc.py'>,\n",
       "   'urllib': <module 'urllib' from '/Users/nheather/opt/anaconda3/lib/python3.7/urllib/__init__.py'>,\n",
       "   'urllib.parse': <module 'urllib.parse' from '/Users/nheather/opt/anaconda3/lib/python3.7/urllib/parse.py'>,\n",
       "   'IPython.core.debugger': <module 'IPython.core.debugger' from '/Users/nheather/opt/anaconda3/lib/python3.7/site-packages/IPython/core/debugger.py'>,\n",
       "   'bdb': <module 'bdb' from '/Users/nheather/opt/anaconda3/lib/python3.7/bdb.py'>,\n",
       "   'IPython.utils': <module 'IPython.utils' from '/Users/nheather/opt/anaconda3/lib/python3.7/site-packages/IPython/utils/__init__.py'>,\n",
       "   'IPython.utils.PyColorize': <module 'IPython.utils.PyColorize' from '/Users/nheather/opt/anaconda3/lib/python3.7/site-packages/IPython/utils/PyColorize.py'>,\n",
       "   'IPython.utils.coloransi': <module 'IPython.utils.coloransi' from '/Users/nheather/opt/anaconda3/lib/python3.7/site-packages/IPython/utils/coloransi.py'>,\n",
       "   'IPython.utils.ipstruct': <module 'IPython.utils.ipstruct' from '/Users/nheather/opt/anaconda3/lib/python3.7/site-packages/IPython/utils/ipstruct.py'>,\n",
       "   'IPython.utils.colorable': <module 'IPython.utils.colorable' from '/Users/nheather/opt/anaconda3/lib/python3.7/site-packages/IPython/utils/colorable.py'>,\n",
       "   'pygments': <module 'pygments' from '/Users/nheather/opt/anaconda3/lib/python3.7/site-packages/pygments/__init__.py'>,\n",
       "   'pygments.util': <module 'pygments.util' from '/Users/nheather/opt/anaconda3/lib/python3.7/site-packages/pygments/util.py'>,\n",
       "   'IPython.utils.py3compat': <module 'IPython.utils.py3compat' from '/Users/nheather/opt/anaconda3/lib/python3.7/site-packages/IPython/utils/py3compat.py'>,\n",
       "   'IPython.utils.encoding': <module 'IPython.utils.encoding' from '/Users/nheather/opt/anaconda3/lib/python3.7/site-packages/IPython/utils/encoding.py'>,\n",
       "   'IPython.core.excolors': <module 'IPython.core.excolors' from '/Users/nheather/opt/anaconda3/lib/python3.7/site-packages/IPython/core/excolors.py'>,\n",
       "   'IPython.testing': <module 'IPython.testing' from '/Users/nheather/opt/anaconda3/lib/python3.7/site-packages/IPython/testing/__init__.py'>,\n",
       "   'IPython.testing.skipdoctest': <module 'IPython.testing.skipdoctest' from '/Users/nheather/opt/anaconda3/lib/python3.7/site-packages/IPython/testing/skipdoctest.py'>,\n",
       "   'pdb': <module 'pdb' from '/Users/nheather/opt/anaconda3/lib/python3.7/pdb.py'>,\n",
       "   'cmd': <module 'cmd' from '/Users/nheather/opt/anaconda3/lib/python3.7/cmd.py'>,\n",
       "   'code': <module 'code' from '/Users/nheather/opt/anaconda3/lib/python3.7/code.py'>,\n",
       "   'codeop': <module 'codeop' from '/Users/nheather/opt/anaconda3/lib/python3.7/codeop.py'>,\n",
       "   'IPython.core.display_trap': <module 'IPython.core.display_trap' from '/Users/nheather/opt/anaconda3/lib/python3.7/site-packages/IPython/core/display_trap.py'>,\n",
       "   'IPython.utils.path': <module 'IPython.utils.path' from '/Users/nheather/opt/anaconda3/lib/python3.7/site-packages/IPython/utils/path.py'>,\n",
       "   'IPython.utils.process': <module 'IPython.utils.process' from '/Users/nheather/opt/anaconda3/lib/python3.7/site-packages/IPython/utils/process.py'>,\n",
       "   'IPython.utils._process_posix': <module 'IPython.utils._process_posix' from '/Users/nheather/opt/anaconda3/lib/python3.7/site-packages/IPython/utils/_process_posix.py'>,\n",
       "   'pexpect': <module 'pexpect' from '/Users/nheather/opt/anaconda3/lib/python3.7/site-packages/pexpect/__init__.py'>,\n",
       "   'pexpect.exceptions': <module 'pexpect.exceptions' from '/Users/nheather/opt/anaconda3/lib/python3.7/site-packages/pexpect/exceptions.py'>,\n",
       "   'pexpect.utils': <module 'pexpect.utils' from '/Users/nheather/opt/anaconda3/lib/python3.7/site-packages/pexpect/utils.py'>,\n",
       "   'pexpect.expect': <module 'pexpect.expect' from '/Users/nheather/opt/anaconda3/lib/python3.7/site-packages/pexpect/expect.py'>,\n",
       "   'pexpect.pty_spawn': <module 'pexpect.pty_spawn' from '/Users/nheather/opt/anaconda3/lib/python3.7/site-packages/pexpect/pty_spawn.py'>,\n",
       "   'pty': <module 'pty' from '/Users/nheather/opt/anaconda3/lib/python3.7/pty.py'>,\n",
       "   'tty': <module 'tty' from '/Users/nheather/opt/anaconda3/lib/python3.7/tty.py'>,\n",
       "   'termios': <module 'termios' from '/Users/nheather/opt/anaconda3/lib/python3.7/lib-dynload/termios.cpython-37m-darwin.so'>,\n",
       "   'ptyprocess': <module 'ptyprocess' from '/Users/nheather/opt/anaconda3/lib/python3.7/site-packages/ptyprocess/__init__.py'>,\n",
       "   'ptyprocess.ptyprocess': <module 'ptyprocess.ptyprocess' from '/Users/nheather/opt/anaconda3/lib/python3.7/site-packages/ptyprocess/ptyprocess.py'>,\n",
       "   'fcntl': <module 'fcntl' from '/Users/nheather/opt/anaconda3/lib/python3.7/lib-dynload/fcntl.cpython-37m-darwin.so'>,\n",
       "   'resource': <module 'resource' from '/Users/nheather/opt/anaconda3/lib/python3.7/lib-dynload/resource.cpython-37m-darwin.so'>,\n",
       "   'ptyprocess.util': <module 'ptyprocess.util' from '/Users/nheather/opt/anaconda3/lib/python3.7/site-packages/ptyprocess/util.py'>,\n",
       "   'pexpect.spawnbase': <module 'pexpect.spawnbase' from '/Users/nheather/opt/anaconda3/lib/python3.7/site-packages/pexpect/spawnbase.py'>,\n",
       "   'pexpect.run': <module 'pexpect.run' from '/Users/nheather/opt/anaconda3/lib/python3.7/site-packages/pexpect/run.py'>,\n",
       "   'IPython.utils._process_common': <module 'IPython.utils._process_common' from '/Users/nheather/opt/anaconda3/lib/python3.7/site-packages/IPython/utils/_process_common.py'>,\n",
       "   'shlex': <module 'shlex' from '/Users/nheather/opt/anaconda3/lib/python3.7/shlex.py'>,\n",
       "   'IPython.utils.decorators': <module 'IPython.utils.decorators' from '/Users/nheather/opt/anaconda3/lib/python3.7/site-packages/IPython/utils/decorators.py'>,\n",
       "   'IPython.utils.data': <module 'IPython.utils.data' from '/Users/nheather/opt/anaconda3/lib/python3.7/site-packages/IPython/utils/data.py'>,\n",
       "   'IPython.utils.terminal': <module 'IPython.utils.terminal' from '/Users/nheather/opt/anaconda3/lib/python3.7/site-packages/IPython/utils/terminal.py'>,\n",
       "   'IPython.utils.sysinfo': <module 'IPython.utils.sysinfo' from '/Users/nheather/opt/anaconda3/lib/python3.7/site-packages/IPython/utils/sysinfo.py'>,\n",
       "   'IPython.utils._sysinfo': <module 'IPython.utils._sysinfo' from '/Users/nheather/opt/anaconda3/lib/python3.7/site-packages/IPython/utils/_sysinfo.py'>,\n",
       "   'IPython.core.profiledir': <module 'IPython.core.profiledir' from '/Users/nheather/opt/anaconda3/lib/python3.7/site-packages/IPython/core/profiledir.py'>,\n",
       "   'IPython.paths': <module 'IPython.paths' from '/Users/nheather/opt/anaconda3/lib/python3.7/site-packages/IPython/paths.py'>,\n",
       "   'tempfile': <module 'tempfile' from '/Users/nheather/opt/anaconda3/lib/python3.7/tempfile.py'>,\n",
       "   'IPython.utils.importstring': <module 'IPython.utils.importstring' from '/Users/nheather/opt/anaconda3/lib/python3.7/site-packages/IPython/utils/importstring.py'>,\n",
       "   'IPython.terminal': <module 'IPython.terminal' from '/Users/nheather/opt/anaconda3/lib/python3.7/site-packages/IPython/terminal/__init__.py'>,\n",
       "   'IPython.terminal.embed': <module 'IPython.terminal.embed' from '/Users/nheather/opt/anaconda3/lib/python3.7/site-packages/IPython/terminal/embed.py'>,\n",
       "   'IPython.core.compilerop': <module 'IPython.core.compilerop' from '/Users/nheather/opt/anaconda3/lib/python3.7/site-packages/IPython/core/compilerop.py'>,\n",
       "   'IPython.core.magic_arguments': <module 'IPython.core.magic_arguments' from '/Users/nheather/opt/anaconda3/lib/python3.7/site-packages/IPython/core/magic_arguments.py'>,\n",
       "   'IPython.core.error': <module 'IPython.core.error' from '/Users/nheather/opt/anaconda3/lib/python3.7/site-packages/IPython/core/error.py'>,\n",
       "   'IPython.utils.text': <module 'IPython.utils.text' from '/Users/nheather/opt/anaconda3/lib/python3.7/site-packages/IPython/utils/text.py'>,\n",
       "   'pathlib': <module 'pathlib' from '/Users/nheather/opt/anaconda3/lib/python3.7/pathlib.py'>,\n",
       "   'ntpath': <module 'ntpath' from '/Users/nheather/opt/anaconda3/lib/python3.7/ntpath.py'>,\n",
       "   'IPython.core.magic': <module 'IPython.core.magic' from '/Users/nheather/opt/anaconda3/lib/python3.7/site-packages/IPython/core/magic.py'>,\n",
       "   'getopt': <module 'getopt' from '/Users/nheather/opt/anaconda3/lib/python3.7/getopt.py'>,\n",
       "   'IPython.core.oinspect': <module 'IPython.core.oinspect' from '/Users/nheather/opt/anaconda3/lib/python3.7/site-packages/IPython/core/oinspect.py'>,\n",
       "   'typing': <module 'typing' from '/Users/nheather/opt/anaconda3/lib/python3.7/typing.py'>,\n",
       "   'typing.io': typing.io,\n",
       "   'typing.re': typing.re,\n",
       "   'IPython.core.page': <module 'IPython.core.page' from '/Users/nheather/opt/anaconda3/lib/python3.7/site-packages/IPython/core/page.py'>,\n",
       "   'IPython.core.display': <module 'IPython.core.display' from '/Users/nheather/opt/anaconda3/lib/python3.7/site-packages/IPython/core/display.py'>,\n",
       "   'binascii': <module 'binascii' from '/Users/nheather/opt/anaconda3/lib/python3.7/lib-dynload/binascii.cpython-37m-darwin.so'>,\n",
       "   'mimetypes': <module 'mimetypes' from '/Users/nheather/opt/anaconda3/lib/python3.7/mimetypes.py'>,\n",
       "   'IPython.lib': <module 'IPython.lib' from '/Users/nheather/opt/anaconda3/lib/python3.7/site-packages/IPython/lib/__init__.py'>,\n",
       "   'IPython.lib.security': <module 'IPython.lib.security' from '/Users/nheather/opt/anaconda3/lib/python3.7/site-packages/IPython/lib/security.py'>,\n",
       "   'getpass': <module 'getpass' from '/Users/nheather/opt/anaconda3/lib/python3.7/getpass.py'>,\n",
       "   'IPython.lib.pretty': <module 'IPython.lib.pretty' from '/Users/nheather/opt/anaconda3/lib/python3.7/site-packages/IPython/lib/pretty.py'>,\n",
       "   'datetime': <module 'datetime' from '/Users/nheather/opt/anaconda3/lib/python3.7/datetime.py'>,\n",
       "   '_datetime': <module '_datetime' from '/Users/nheather/opt/anaconda3/lib/python3.7/lib-dynload/_datetime.cpython-37m-darwin.so'>,\n",
       "   'IPython.utils.openpy': <module 'IPython.utils.openpy' from '/Users/nheather/opt/anaconda3/lib/python3.7/site-packages/IPython/utils/openpy.py'>,\n",
       "   'IPython.utils.dir2': <module 'IPython.utils.dir2' from '/Users/nheather/opt/anaconda3/lib/python3.7/site-packages/IPython/utils/dir2.py'>,\n",
       "   'IPython.utils.wildcard': <module 'IPython.utils.wildcard' from '/Users/nheather/opt/anaconda3/lib/python3.7/site-packages/IPython/utils/wildcard.py'>,\n",
       "   'pygments.lexers': <module 'pygments.lexers' from '/Users/nheather/opt/anaconda3/lib/python3.7/site-packages/pygments/lexers/__init__.py'>,\n",
       "   'pygments.lexers._mapping': <module 'pygments.lexers._mapping' from '/Users/nheather/opt/anaconda3/lib/python3.7/site-packages/pygments/lexers/_mapping.py'>,\n",
       "   'pygments.modeline': <module 'pygments.modeline' from '/Users/nheather/opt/anaconda3/lib/python3.7/site-packages/pygments/modeline.py'>,\n",
       "   'pygments.plugin': <module 'pygments.plugin' from '/Users/nheather/opt/anaconda3/lib/python3.7/site-packages/pygments/plugin.py'>,\n",
       "   'pygments.lexers.python': <module 'pygments.lexers.python' from '/Users/nheather/opt/anaconda3/lib/python3.7/site-packages/pygments/lexers/python.py'>,\n",
       "   'pygments.lexer': <module 'pygments.lexer' from '/Users/nheather/opt/anaconda3/lib/python3.7/site-packages/pygments/lexer.py'>,\n",
       "   'pygments.filter': <module 'pygments.filter' from '/Users/nheather/opt/anaconda3/lib/python3.7/site-packages/pygments/filter.py'>,\n",
       "   'pygments.filters': <module 'pygments.filters' from '/Users/nheather/opt/anaconda3/lib/python3.7/site-packages/pygments/filters/__init__.py'>,\n",
       "   'pygments.token': <module 'pygments.token' from '/Users/nheather/opt/anaconda3/lib/python3.7/site-packages/pygments/token.py'>,\n",
       "   'pygments.regexopt': <module 'pygments.regexopt' from '/Users/nheather/opt/anaconda3/lib/python3.7/site-packages/pygments/regexopt.py'>,\n",
       "   'pygments.unistring': <module 'pygments.unistring' from '/Users/nheather/opt/anaconda3/lib/python3.7/site-packages/pygments/unistring.py'>,\n",
       "   'pygments.formatters': <module 'pygments.formatters' from '/Users/nheather/opt/anaconda3/lib/python3.7/site-packages/pygments/formatters/__init__.py'>,\n",
       "   'pygments.formatters._mapping': <module 'pygments.formatters._mapping' from '/Users/nheather/opt/anaconda3/lib/python3.7/site-packages/pygments/formatters/_mapping.py'>,\n",
       "   'pygments.formatters.html': <module 'pygments.formatters.html' from '/Users/nheather/opt/anaconda3/lib/python3.7/site-packages/pygments/formatters/html.py'>,\n",
       "   'pygments.formatter': <module 'pygments.formatter' from '/Users/nheather/opt/anaconda3/lib/python3.7/site-packages/pygments/formatter.py'>,\n",
       "   'pygments.styles': <module 'pygments.styles' from '/Users/nheather/opt/anaconda3/lib/python3.7/site-packages/pygments/styles/__init__.py'>,\n",
       "   'IPython.core.inputtransformer2': <module 'IPython.core.inputtransformer2' from '/Users/nheather/opt/anaconda3/lib/python3.7/site-packages/IPython/core/inputtransformer2.py'>,\n",
       "   'IPython.core.interactiveshell': <module 'IPython.core.interactiveshell' from '/Users/nheather/opt/anaconda3/lib/python3.7/site-packages/IPython/core/interactiveshell.py'>,\n",
       "   'pickleshare': <module 'pickleshare' from '/Users/nheather/opt/anaconda3/lib/python3.7/site-packages/pickleshare.py'>,\n",
       "   'pickle': <module 'pickle' from '/Users/nheather/opt/anaconda3/lib/python3.7/pickle.py'>,\n",
       "   '_compat_pickle': <module '_compat_pickle' from '/Users/nheather/opt/anaconda3/lib/python3.7/_compat_pickle.py'>,\n",
       "   '_pickle': <module '_pickle' from '/Users/nheather/opt/anaconda3/lib/python3.7/lib-dynload/_pickle.cpython-37m-darwin.so'>,\n",
       "   'IPython.core.prefilter': <module 'IPython.core.prefilter' from '/Users/nheather/opt/anaconda3/lib/python3.7/site-packages/IPython/core/prefilter.py'>,\n",
       "   'IPython.core.autocall': <module 'IPython.core.autocall' from '/Users/nheather/opt/anaconda3/lib/python3.7/site-packages/IPython/core/autocall.py'>,\n",
       "   'IPython.core.macro': <module 'IPython.core.macro' from '/Users/nheather/opt/anaconda3/lib/python3.7/site-packages/IPython/core/macro.py'>,\n",
       "   'IPython.core.splitinput': <module 'IPython.core.splitinput' from '/Users/nheather/opt/anaconda3/lib/python3.7/site-packages/IPython/core/splitinput.py'>,\n",
       "   'IPython.core.alias': <module 'IPython.core.alias' from '/Users/nheather/opt/anaconda3/lib/python3.7/site-packages/IPython/core/alias.py'>,\n",
       "   'IPython.core.builtin_trap': <module 'IPython.core.builtin_trap' from '/Users/nheather/opt/anaconda3/lib/python3.7/site-packages/IPython/core/builtin_trap.py'>,\n",
       "   'IPython.core.events': <module 'IPython.core.events' from '/Users/nheather/opt/anaconda3/lib/python3.7/site-packages/IPython/core/events.py'>,\n",
       "   'backcall': <module 'backcall' from '/Users/nheather/opt/anaconda3/lib/python3.7/site-packages/backcall/__init__.py'>,\n",
       "   'backcall.backcall': <module 'backcall.backcall' from '/Users/nheather/opt/anaconda3/lib/python3.7/site-packages/backcall/backcall.py'>,\n",
       "   'IPython.core.displayhook': <module 'IPython.core.displayhook' from '/Users/nheather/opt/anaconda3/lib/python3.7/site-packages/IPython/core/displayhook.py'>,\n",
       "   'IPython.core.displaypub': <module 'IPython.core.displaypub' from '/Users/nheather/opt/anaconda3/lib/python3.7/site-packages/IPython/core/displaypub.py'>,\n",
       "   'IPython.core.extensions': <module 'IPython.core.extensions' from '/Users/nheather/opt/anaconda3/lib/python3.7/site-packages/IPython/core/extensions.py'>,\n",
       "   'IPython.core.formatters': <module 'IPython.core.formatters' from '/Users/nheather/opt/anaconda3/lib/python3.7/site-packages/IPython/core/formatters.py'>,\n",
       "   'IPython.utils.sentinel': <module 'IPython.utils.sentinel' from '/Users/nheather/opt/anaconda3/lib/python3.7/site-packages/IPython/utils/sentinel.py'>,\n",
       "   'IPython.core.history': <module 'IPython.core.history' from '/Users/nheather/opt/anaconda3/lib/python3.7/site-packages/IPython/core/history.py'>,\n",
       "   'sqlite3': <module 'sqlite3' from '/Users/nheather/opt/anaconda3/lib/python3.7/sqlite3/__init__.py'>,\n",
       "   'sqlite3.dbapi2': <module 'sqlite3.dbapi2' from '/Users/nheather/opt/anaconda3/lib/python3.7/sqlite3/dbapi2.py'>,\n",
       "   '_sqlite3': <module '_sqlite3' from '/Users/nheather/opt/anaconda3/lib/python3.7/lib-dynload/_sqlite3.cpython-37m-darwin.so'>,\n",
       "   'IPython.core.logger': <module 'IPython.core.logger' from '/Users/nheather/opt/anaconda3/lib/python3.7/site-packages/IPython/core/logger.py'>,\n",
       "   'IPython.core.payload': <module 'IPython.core.payload' from '/Users/nheather/opt/anaconda3/lib/python3.7/site-packages/IPython/core/payload.py'>,\n",
       "   'IPython.core.usage': <module 'IPython.core.usage' from '/Users/nheather/opt/anaconda3/lib/python3.7/site-packages/IPython/core/usage.py'>,\n",
       "   'IPython.display': <module 'IPython.display' from '/Users/nheather/opt/anaconda3/lib/python3.7/site-packages/IPython/display.py'>,\n",
       "   'IPython.lib.display': <module 'IPython.lib.display' from '/Users/nheather/opt/anaconda3/lib/python3.7/site-packages/IPython/lib/display.py'>,\n",
       "   'html': <module 'html' from '/Users/nheather/opt/anaconda3/lib/python3.7/html/__init__.py'>,\n",
       "   'html.entities': <module 'html.entities' from '/Users/nheather/opt/anaconda3/lib/python3.7/html/entities.py'>,\n",
       "   'IPython.utils.io': <module 'IPython.utils.io' from '/Users/nheather/opt/anaconda3/lib/python3.7/site-packages/IPython/utils/io.py'>,\n",
       "   'IPython.utils.capture': <module 'IPython.utils.capture' from '/Users/nheather/opt/anaconda3/lib/python3.7/site-packages/IPython/utils/capture.py'>,\n",
       "   'IPython.utils.strdispatch': <module 'IPython.utils.strdispatch' from '/Users/nheather/opt/anaconda3/lib/python3.7/site-packages/IPython/utils/strdispatch.py'>,\n",
       "   'IPython.core.hooks': <module 'IPython.core.hooks' from '/Users/nheather/opt/anaconda3/lib/python3.7/site-packages/IPython/core/hooks.py'>,\n",
       "   'IPython.utils.syspathcontext': <module 'IPython.utils.syspathcontext' from '/Users/nheather/opt/anaconda3/lib/python3.7/site-packages/IPython/utils/syspathcontext.py'>,\n",
       "   'IPython.utils.tempdir': <module 'IPython.utils.tempdir' from '/Users/nheather/opt/anaconda3/lib/python3.7/site-packages/IPython/utils/tempdir.py'>,\n",
       "   'IPython.utils.contexts': <module 'IPython.utils.contexts' from '/Users/nheather/opt/anaconda3/lib/python3.7/site-packages/IPython/utils/contexts.py'>,\n",
       "   'IPython.core.async_helpers': <module 'IPython.core.async_helpers' from '/Users/nheather/opt/anaconda3/lib/python3.7/site-packages/IPython/core/async_helpers.py'>,\n",
       "   'IPython.terminal.interactiveshell': <module 'IPython.terminal.interactiveshell' from '/Users/nheather/opt/anaconda3/lib/python3.7/site-packages/IPython/terminal/interactiveshell.py'>,\n",
       "   'asyncio': <module 'asyncio' from '/Users/nheather/opt/anaconda3/lib/python3.7/asyncio/__init__.py'>,\n",
       "   'asyncio.base_events': <module 'asyncio.base_events' from '/Users/nheather/opt/anaconda3/lib/python3.7/asyncio/base_events.py'>,\n",
       "   'concurrent': <module 'concurrent' from '/Users/nheather/opt/anaconda3/lib/python3.7/concurrent/__init__.py'>,\n",
       "   'concurrent.futures': <module 'concurrent.futures' from '/Users/nheather/opt/anaconda3/lib/python3.7/concurrent/futures/__init__.py'>,\n",
       "   'concurrent.futures._base': <module 'concurrent.futures._base' from '/Users/nheather/opt/anaconda3/lib/python3.7/concurrent/futures/_base.py'>,\n",
       "   'socket': <module 'socket' from '/Users/nheather/opt/anaconda3/lib/python3.7/socket.py'>,\n",
       "   '_socket': <module '_socket' from '/Users/nheather/opt/anaconda3/lib/python3.7/lib-dynload/_socket.cpython-37m-darwin.so'>,\n",
       "   'ssl': <module 'ssl' from '/Users/nheather/opt/anaconda3/lib/python3.7/ssl.py'>,\n",
       "   '_ssl': <module '_ssl' from '/Users/nheather/opt/anaconda3/lib/python3.7/lib-dynload/_ssl.cpython-37m-darwin.so'>,\n",
       "   'base64': <module 'base64' from '/Users/nheather/opt/anaconda3/lib/python3.7/base64.py'>,\n",
       "   'asyncio.constants': <module 'asyncio.constants' from '/Users/nheather/opt/anaconda3/lib/python3.7/asyncio/constants.py'>,\n",
       "   'asyncio.coroutines': <module 'asyncio.coroutines' from '/Users/nheather/opt/anaconda3/lib/python3.7/asyncio/coroutines.py'>,\n",
       "   'asyncio.base_futures': <module 'asyncio.base_futures' from '/Users/nheather/opt/anaconda3/lib/python3.7/asyncio/base_futures.py'>,\n",
       "   'asyncio.format_helpers': <module 'asyncio.format_helpers' from '/Users/nheather/opt/anaconda3/lib/python3.7/asyncio/format_helpers.py'>,\n",
       "   'asyncio.log': <module 'asyncio.log' from '/Users/nheather/opt/anaconda3/lib/python3.7/asyncio/log.py'>,\n",
       "   'asyncio.events': <module 'asyncio.events' from '/Users/nheather/opt/anaconda3/lib/python3.7/asyncio/events.py'>,\n",
       "   'contextvars': <module 'contextvars' from '/Users/nheather/opt/anaconda3/lib/python3.7/contextvars.py'>,\n",
       "   '_contextvars': <module '_contextvars' from '/Users/nheather/opt/anaconda3/lib/python3.7/lib-dynload/_contextvars.cpython-37m-darwin.so'>,\n",
       "   'asyncio.base_tasks': <module 'asyncio.base_tasks' from '/Users/nheather/opt/anaconda3/lib/python3.7/asyncio/base_tasks.py'>,\n",
       "   '_asyncio': <module '_asyncio' from '/Users/nheather/opt/anaconda3/lib/python3.7/lib-dynload/_asyncio.cpython-37m-darwin.so'>,\n",
       "   'asyncio.futures': <module 'asyncio.futures' from '/Users/nheather/opt/anaconda3/lib/python3.7/asyncio/futures.py'>,\n",
       "   'asyncio.protocols': <module 'asyncio.protocols' from '/Users/nheather/opt/anaconda3/lib/python3.7/asyncio/protocols.py'>,\n",
       "   'asyncio.sslproto': <module 'asyncio.sslproto' from '/Users/nheather/opt/anaconda3/lib/python3.7/asyncio/sslproto.py'>,\n",
       "   'asyncio.transports': <module 'asyncio.transports' from '/Users/nheather/opt/anaconda3/lib/python3.7/asyncio/transports.py'>,\n",
       "   'asyncio.tasks': <module 'asyncio.tasks' from '/Users/nheather/opt/anaconda3/lib/python3.7/asyncio/tasks.py'>,\n",
       "   'asyncio.locks': <module 'asyncio.locks' from '/Users/nheather/opt/anaconda3/lib/python3.7/asyncio/locks.py'>,\n",
       "   'asyncio.runners': <module 'asyncio.runners' from '/Users/nheather/opt/anaconda3/lib/python3.7/asyncio/runners.py'>,\n",
       "   'asyncio.queues': <module 'asyncio.queues' from '/Users/nheather/opt/anaconda3/lib/python3.7/asyncio/queues.py'>,\n",
       "   'asyncio.streams': <module 'asyncio.streams' from '/Users/nheather/opt/anaconda3/lib/python3.7/asyncio/streams.py'>,\n",
       "   'asyncio.subprocess': <module 'asyncio.subprocess' from '/Users/nheather/opt/anaconda3/lib/python3.7/asyncio/subprocess.py'>,\n",
       "   'asyncio.unix_events': <module 'asyncio.unix_events' from '/Users/nheather/opt/anaconda3/lib/python3.7/asyncio/unix_events.py'>,\n",
       "   'asyncio.base_subprocess': <module 'asyncio.base_subprocess' from '/Users/nheather/opt/anaconda3/lib/python3.7/asyncio/base_subprocess.py'>,\n",
       "   'asyncio.selector_events': <module 'asyncio.selector_events' from '/Users/nheather/opt/anaconda3/lib/python3.7/asyncio/selector_events.py'>,\n",
       "   'prompt_toolkit': <module 'prompt_toolkit' from '/Users/nheather/opt/anaconda3/lib/python3.7/site-packages/prompt_toolkit/__init__.py'>,\n",
       "   'prompt_toolkit.application': <module 'prompt_toolkit.application' from '/Users/nheather/opt/anaconda3/lib/python3.7/site-packages/prompt_toolkit/application/__init__.py'>,\n",
       "   'prompt_toolkit.application.application': <module 'prompt_toolkit.application.application' from '/Users/nheather/opt/anaconda3/lib/python3.7/site-packages/prompt_toolkit/application/application.py'>,\n",
       "   'prompt_toolkit.buffer': <module 'prompt_toolkit.buffer' from '/Users/nheather/opt/anaconda3/lib/python3.7/site-packages/prompt_toolkit/buffer.py'>,\n",
       "   'prompt_toolkit.application.current': <module 'prompt_toolkit.application.current' from '/Users/nheather/opt/anaconda3/lib/python3.7/site-packages/prompt_toolkit/application/current.py'>,\n",
       "   'prompt_toolkit.application.run_in_terminal': <module 'prompt_toolkit.application.run_in_terminal' from '/Users/nheather/opt/anaconda3/lib/python3.7/site-packages/prompt_toolkit/application/run_in_terminal.py'>,\n",
       "   'prompt_toolkit.eventloop': <module 'prompt_toolkit.eventloop' from '/Users/nheather/opt/anaconda3/lib/python3.7/site-packages/prompt_toolkit/eventloop/__init__.py'>,\n",
       "   'prompt_toolkit.eventloop.async_generator': <module 'prompt_toolkit.eventloop.async_generator' from '/Users/nheather/opt/anaconda3/lib/python3.7/site-packages/prompt_toolkit/eventloop/async_generator.py'>,\n",
       "   'prompt_toolkit.eventloop.utils': <module 'prompt_toolkit.eventloop.utils' from '/Users/nheather/opt/anaconda3/lib/python3.7/site-packages/prompt_toolkit/eventloop/utils.py'>,\n",
       "   'prompt_toolkit.eventloop.inputhook': <module 'prompt_toolkit.eventloop.inputhook' from '/Users/nheather/opt/anaconda3/lib/python3.7/site-packages/prompt_toolkit/eventloop/inputhook.py'>,\n",
       "   'prompt_toolkit.utils': <module 'prompt_toolkit.utils' from '/Users/nheather/opt/anaconda3/lib/python3.7/site-packages/prompt_toolkit/utils.py'>,\n",
       "   'wcwidth': <module 'wcwidth' from '/Users/nheather/opt/anaconda3/lib/python3.7/site-packages/wcwidth/__init__.py'>,\n",
       "   'wcwidth.wcwidth': <module 'wcwidth.wcwidth' from '/Users/nheather/opt/anaconda3/lib/python3.7/site-packages/wcwidth/wcwidth.py'>,\n",
       "   'wcwidth.table_wide': <module 'wcwidth.table_wide' from '/Users/nheather/opt/anaconda3/lib/python3.7/site-packages/wcwidth/table_wide.py'>,\n",
       "   'wcwidth.table_zero': <module 'wcwidth.table_zero' from '/Users/nheather/opt/anaconda3/lib/python3.7/site-packages/wcwidth/table_zero.py'>,\n",
       "   'prompt_toolkit.auto_suggest': <module 'prompt_toolkit.auto_suggest' from '/Users/nheather/opt/anaconda3/lib/python3.7/site-packages/prompt_toolkit/auto_suggest.py'>,\n",
       "   'prompt_toolkit.document': <module 'prompt_toolkit.document' from '/Users/nheather/opt/anaconda3/lib/python3.7/site-packages/prompt_toolkit/document.py'>,\n",
       "   'prompt_toolkit.clipboard': <module 'prompt_toolkit.clipboard' from '/Users/nheather/opt/anaconda3/lib/python3.7/site-packages/prompt_toolkit/clipboard/__init__.py'>,\n",
       "   'prompt_toolkit.clipboard.base': <module 'prompt_toolkit.clipboard.base' from '/Users/nheather/opt/anaconda3/lib/python3.7/site-packages/prompt_toolkit/clipboard/base.py'>,\n",
       "   'prompt_toolkit.selection': <module 'prompt_toolkit.selection' from '/Users/nheather/opt/anaconda3/lib/python3.7/site-packages/prompt_toolkit/selection.py'>,\n",
       "   'prompt_toolkit.clipboard.in_memory': <module 'prompt_toolkit.clipboard.in_memory' from '/Users/nheather/opt/anaconda3/lib/python3.7/site-packages/prompt_toolkit/clipboard/in_memory.py'>,\n",
       "   'prompt_toolkit.filters': <module 'prompt_toolkit.filters' from '/Users/nheather/opt/anaconda3/lib/python3.7/site-packages/prompt_toolkit/filters/__init__.py'>,\n",
       "   'prompt_toolkit.filters.app': <module 'prompt_toolkit.filters.app' from '/Users/nheather/opt/anaconda3/lib/python3.7/site-packages/prompt_toolkit/filters/app.py'>,\n",
       "   'prompt_toolkit.cache': <module 'prompt_toolkit.cache' from '/Users/nheather/opt/anaconda3/lib/python3.7/site-packages/prompt_toolkit/cache.py'>,\n",
       "   'prompt_toolkit.enums': <module 'prompt_toolkit.enums' from '/Users/nheather/opt/anaconda3/lib/python3.7/site-packages/prompt_toolkit/enums.py'>,\n",
       "   'prompt_toolkit.filters.base': <module 'prompt_toolkit.filters.base' from '/Users/nheather/opt/anaconda3/lib/python3.7/site-packages/prompt_toolkit/filters/base.py'>,\n",
       "   'prompt_toolkit.filters.cli': <module 'prompt_toolkit.filters.cli' from '/Users/nheather/opt/anaconda3/lib/python3.7/site-packages/prompt_toolkit/filters/cli.py'>,\n",
       "   'prompt_toolkit.filters.utils': <module 'prompt_toolkit.filters.utils' from '/Users/nheather/opt/anaconda3/lib/python3.7/site-packages/prompt_toolkit/filters/utils.py'>,\n",
       "   'prompt_toolkit.completion': <module 'prompt_toolkit.completion' from '/Users/nheather/opt/anaconda3/lib/python3.7/site-packages/prompt_toolkit/completion/__init__.py'>,\n",
       "   'prompt_toolkit.completion.base': <module 'prompt_toolkit.completion.base' from '/Users/nheather/opt/anaconda3/lib/python3.7/site-packages/prompt_toolkit/completion/base.py'>,\n",
       "   'prompt_toolkit.formatted_text': <module 'prompt_toolkit.formatted_text' from '/Users/nheather/opt/anaconda3/lib/python3.7/site-packages/prompt_toolkit/formatted_text/__init__.py'>,\n",
       "   'prompt_toolkit.formatted_text.ansi': <module 'prompt_toolkit.formatted_text.ansi' from '/Users/nheather/opt/anaconda3/lib/python3.7/site-packages/prompt_toolkit/formatted_text/ansi.py'>,\n",
       "   'prompt_toolkit.output': <module 'prompt_toolkit.output' from '/Users/nheather/opt/anaconda3/lib/python3.7/site-packages/prompt_toolkit/output/__init__.py'>,\n",
       "   'prompt_toolkit.output.base': <module 'prompt_toolkit.output.base' from '/Users/nheather/opt/anaconda3/lib/python3.7/site-packages/prompt_toolkit/output/base.py'>,\n",
       "   'prompt_toolkit.data_structures': <module 'prompt_toolkit.data_structures' from '/Users/nheather/opt/anaconda3/lib/python3.7/site-packages/prompt_toolkit/data_structures.py'>,\n",
       "   'prompt_toolkit.styles': <module 'prompt_toolkit.styles' from '/Users/nheather/opt/anaconda3/lib/python3.7/site-packages/prompt_toolkit/styles/__init__.py'>,\n",
       "   'prompt_toolkit.styles.base': <module 'prompt_toolkit.styles.base' from '/Users/nheather/opt/anaconda3/lib/python3.7/site-packages/prompt_toolkit/styles/base.py'>,\n",
       "   'prompt_toolkit.styles.defaults': <module 'prompt_toolkit.styles.defaults' from '/Users/nheather/opt/anaconda3/lib/python3.7/site-packages/prompt_toolkit/styles/defaults.py'>,\n",
       "   'prompt_toolkit.styles.named_colors': <module 'prompt_toolkit.styles.named_colors' from '/Users/nheather/opt/anaconda3/lib/python3.7/site-packages/prompt_toolkit/styles/named_colors.py'>,\n",
       "   'prompt_toolkit.styles.style': <module 'prompt_toolkit.styles.style' from '/Users/nheather/opt/anaconda3/lib/python3.7/site-packages/prompt_toolkit/styles/style.py'>,\n",
       "   'prompt_toolkit.styles.pygments': <module 'prompt_toolkit.styles.pygments' from '/Users/nheather/opt/anaconda3/lib/python3.7/site-packages/prompt_toolkit/styles/pygments.py'>,\n",
       "   'prompt_toolkit.styles.style_transformation': <module 'prompt_toolkit.styles.style_transformation' from '/Users/nheather/opt/anaconda3/lib/python3.7/site-packages/prompt_toolkit/styles/style_transformation.py'>,\n",
       "   'colorsys': <module 'colorsys' from '/Users/nheather/opt/anaconda3/lib/python3.7/colorsys.py'>,\n",
       "   'prompt_toolkit.output.color_depth': <module 'prompt_toolkit.output.color_depth' from '/Users/nheather/opt/anaconda3/lib/python3.7/site-packages/prompt_toolkit/output/color_depth.py'>,\n",
       "   'prompt_toolkit.output.defaults': <module 'prompt_toolkit.output.defaults' from '/Users/nheather/opt/anaconda3/lib/python3.7/site-packages/prompt_toolkit/output/defaults.py'>,\n",
       "   'prompt_toolkit.patch_stdout': <module 'prompt_toolkit.patch_stdout' from '/Users/nheather/opt/anaconda3/lib/python3.7/site-packages/prompt_toolkit/patch_stdout.py'>,\n",
       "   'prompt_toolkit.output.vt100': <module 'prompt_toolkit.output.vt100' from '/Users/nheather/opt/anaconda3/lib/python3.7/site-packages/prompt_toolkit/output/vt100.py'>,\n",
       "   'array': <module 'array' from '/Users/nheather/opt/anaconda3/lib/python3.7/lib-dynload/array.cpython-37m-darwin.so'>,\n",
       "   'prompt_toolkit.formatted_text.base': <module 'prompt_toolkit.formatted_text.base' from '/Users/nheather/opt/anaconda3/lib/python3.7/site-packages/prompt_toolkit/formatted_text/base.py'>,\n",
       "   'prompt_toolkit.mouse_events': <module 'prompt_toolkit.mouse_events' from '/Users/nheather/opt/anaconda3/lib/python3.7/site-packages/prompt_toolkit/mouse_events.py'>,\n",
       "   'prompt_toolkit.formatted_text.html': <module 'prompt_toolkit.formatted_text.html' from '/Users/nheather/opt/anaconda3/lib/python3.7/site-packages/prompt_toolkit/formatted_text/html.py'>,\n",
       "   'xml': <module 'xml' from '/Users/nheather/opt/anaconda3/lib/python3.7/xml/__init__.py'>,\n",
       "   'xml.dom': <module 'xml.dom' from '/Users/nheather/opt/anaconda3/lib/python3.7/xml/dom/__init__.py'>,\n",
       "   'xml.dom.domreg': <module 'xml.dom.domreg' from '/Users/nheather/opt/anaconda3/lib/python3.7/xml/dom/domreg.py'>,\n",
       "   'xml.dom.minidom': <module 'xml.dom.minidom' from '/Users/nheather/opt/anaconda3/lib/python3.7/xml/dom/minidom.py'>,\n",
       "   'xml.dom.minicompat': <module 'xml.dom.minicompat' from '/Users/nheather/opt/anaconda3/lib/python3.7/xml/dom/minicompat.py'>,\n",
       "   'xml.dom.xmlbuilder': <module 'xml.dom.xmlbuilder' from '/Users/nheather/opt/anaconda3/lib/python3.7/xml/dom/xmlbuilder.py'>,\n",
       "   'xml.dom.NodeFilter': <module 'xml.dom.NodeFilter' from '/Users/nheather/opt/anaconda3/lib/python3.7/xml/dom/NodeFilter.py'>,\n",
       "   'prompt_toolkit.formatted_text.pygments': <module 'prompt_toolkit.formatted_text.pygments' from '/Users/nheather/opt/anaconda3/lib/python3.7/site-packages/prompt_toolkit/formatted_text/pygments.py'>,\n",
       "   'prompt_toolkit.formatted_text.utils': <module 'prompt_toolkit.formatted_text.utils' from '/Users/nheather/opt/anaconda3/lib/python3.7/site-packages/prompt_toolkit/formatted_text/utils.py'>,\n",
       "   'prompt_toolkit.completion.filesystem': <module 'prompt_toolkit.completion.filesystem' from '/Users/nheather/opt/anaconda3/lib/python3.7/site-packages/prompt_toolkit/completion/filesystem.py'>,\n",
       "   'prompt_toolkit.completion.fuzzy_completer': <module 'prompt_toolkit.completion.fuzzy_completer' from '/Users/nheather/opt/anaconda3/lib/python3.7/site-packages/prompt_toolkit/completion/fuzzy_completer.py'>,\n",
       "   'prompt_toolkit.completion.word_completer': <module 'prompt_toolkit.completion.word_completer' from '/Users/nheather/opt/anaconda3/lib/python3.7/site-packages/prompt_toolkit/completion/word_completer.py'>,\n",
       "   'prompt_toolkit.completion.nested': <module 'prompt_toolkit.completion.nested' from '/Users/nheather/opt/anaconda3/lib/python3.7/site-packages/prompt_toolkit/completion/nested.py'>,\n",
       "   'prompt_toolkit.history': <module 'prompt_toolkit.history' from '/Users/nheather/opt/anaconda3/lib/python3.7/site-packages/prompt_toolkit/history.py'>,\n",
       "   'prompt_toolkit.search': <module 'prompt_toolkit.search' from '/Users/nheather/opt/anaconda3/lib/python3.7/site-packages/prompt_toolkit/search.py'>,\n",
       "   'prompt_toolkit.key_binding': <module 'prompt_toolkit.key_binding' from '/Users/nheather/opt/anaconda3/lib/python3.7/site-packages/prompt_toolkit/key_binding/__init__.py'>,\n",
       "   'prompt_toolkit.key_binding.key_bindings': <module 'prompt_toolkit.key_binding.key_bindings' from '/Users/nheather/opt/anaconda3/lib/python3.7/site-packages/prompt_toolkit/key_binding/key_bindings.py'>,\n",
       "   'prompt_toolkit.keys': <module 'prompt_toolkit.keys' from '/Users/nheather/opt/anaconda3/lib/python3.7/site-packages/prompt_toolkit/keys.py'>,\n",
       "   'prompt_toolkit.key_binding.key_processor': <module 'prompt_toolkit.key_binding.key_processor' from '/Users/nheather/opt/anaconda3/lib/python3.7/site-packages/prompt_toolkit/key_binding/key_processor.py'>,\n",
       "   'prompt_toolkit.key_binding.vi_state': <module 'prompt_toolkit.key_binding.vi_state' from '/Users/nheather/opt/anaconda3/lib/python3.7/site-packages/prompt_toolkit/key_binding/vi_state.py'>,\n",
       "   'prompt_toolkit.validation': <module 'prompt_toolkit.validation' from '/Users/nheather/opt/anaconda3/lib/python3.7/site-packages/prompt_toolkit/validation.py'>,\n",
       "   'prompt_toolkit.input': <module 'prompt_toolkit.input' from '/Users/nheather/opt/anaconda3/lib/python3.7/site-packages/prompt_toolkit/input/__init__.py'>,\n",
       "   'prompt_toolkit.input.base': <module 'prompt_toolkit.input.base' from '/Users/nheather/opt/anaconda3/lib/python3.7/site-packages/prompt_toolkit/input/base.py'>,\n",
       "   'prompt_toolkit.input.defaults': <module 'prompt_toolkit.input.defaults' from '/Users/nheather/opt/anaconda3/lib/python3.7/site-packages/prompt_toolkit/input/defaults.py'>,\n",
       "   'prompt_toolkit.input.typeahead': <module 'prompt_toolkit.input.typeahead' from '/Users/nheather/opt/anaconda3/lib/python3.7/site-packages/prompt_toolkit/input/typeahead.py'>,\n",
       "   'prompt_toolkit.key_binding.bindings': <module 'prompt_toolkit.key_binding.bindings' from '/Users/nheather/opt/anaconda3/lib/python3.7/site-packages/prompt_toolkit/key_binding/bindings/__init__.py'>,\n",
       "   'prompt_toolkit.key_binding.bindings.page_navigation': <module 'prompt_toolkit.key_binding.bindings.page_navigation' from '/Users/nheather/opt/anaconda3/lib/python3.7/site-packages/prompt_toolkit/key_binding/bindings/page_navigation.py'>,\n",
       "   'prompt_toolkit.key_binding.bindings.scroll': <module 'prompt_toolkit.key_binding.bindings.scroll' from '/Users/nheather/opt/anaconda3/lib/python3.7/site-packages/prompt_toolkit/key_binding/bindings/scroll.py'>,\n",
       "   'prompt_toolkit.key_binding.defaults': <module 'prompt_toolkit.key_binding.defaults' from '/Users/nheather/opt/anaconda3/lib/python3.7/site-packages/prompt_toolkit/key_binding/defaults.py'>,\n",
       "   'prompt_toolkit.key_binding.bindings.basic': <module 'prompt_toolkit.key_binding.bindings.basic' from '/Users/nheather/opt/anaconda3/lib/python3.7/site-packages/prompt_toolkit/key_binding/bindings/basic.py'>,\n",
       "   'prompt_toolkit.key_binding.bindings.named_commands': <module 'prompt_toolkit.key_binding.bindings.named_commands' from '/Users/nheather/opt/anaconda3/lib/python3.7/site-packages/prompt_toolkit/key_binding/bindings/named_commands.py'>,\n",
       "   'prompt_toolkit.layout': <module 'prompt_toolkit.layout' from '/Users/nheather/opt/anaconda3/lib/python3.7/site-packages/prompt_toolkit/layout/__init__.py'>,\n",
       "   'prompt_toolkit.layout.containers': <module 'prompt_toolkit.layout.containers' from '/Users/nheather/opt/anaconda3/lib/python3.7/site-packages/prompt_toolkit/layout/containers.py'>,\n",
       "   'prompt_toolkit.layout.controls': <module 'prompt_toolkit.layout.controls' from '/Users/nheather/opt/anaconda3/lib/python3.7/site-packages/prompt_toolkit/layout/controls.py'>,\n",
       "   'prompt_toolkit.lexers': <module 'prompt_toolkit.lexers' from '/Users/nheather/opt/anaconda3/lib/python3.7/site-packages/prompt_toolkit/lexers/__init__.py'>,\n",
       "   'prompt_toolkit.lexers.base': <module 'prompt_toolkit.lexers.base' from '/Users/nheather/opt/anaconda3/lib/python3.7/site-packages/prompt_toolkit/lexers/base.py'>,\n",
       "   'prompt_toolkit.lexers.pygments': <module 'prompt_toolkit.lexers.pygments' from '/Users/nheather/opt/anaconda3/lib/python3.7/site-packages/prompt_toolkit/lexers/pygments.py'>,\n",
       "   'prompt_toolkit.layout.processors': <module 'prompt_toolkit.layout.processors' from '/Users/nheather/opt/anaconda3/lib/python3.7/site-packages/prompt_toolkit/layout/processors.py'>,\n",
       "   'prompt_toolkit.layout.utils': <module 'prompt_toolkit.layout.utils' from '/Users/nheather/opt/anaconda3/lib/python3.7/site-packages/prompt_toolkit/layout/utils.py'>,\n",
       "   'prompt_toolkit.layout.dimension': <module 'prompt_toolkit.layout.dimension' from '/Users/nheather/opt/anaconda3/lib/python3.7/site-packages/prompt_toolkit/layout/dimension.py'>,\n",
       "   'prompt_toolkit.layout.margins': <module 'prompt_toolkit.layout.margins' from '/Users/nheather/opt/anaconda3/lib/python3.7/site-packages/prompt_toolkit/layout/margins.py'>,\n",
       "   'prompt_toolkit.layout.mouse_handlers': <module 'prompt_toolkit.layout.mouse_handlers' from '/Users/nheather/opt/anaconda3/lib/python3.7/site-packages/prompt_toolkit/layout/mouse_handlers.py'>,\n",
       "   'prompt_toolkit.layout.screen': <module 'prompt_toolkit.layout.screen' from '/Users/nheather/opt/anaconda3/lib/python3.7/site-packages/prompt_toolkit/layout/screen.py'>,\n",
       "   'prompt_toolkit.layout.layout': <module 'prompt_toolkit.layout.layout' from '/Users/nheather/opt/anaconda3/lib/python3.7/site-packages/prompt_toolkit/layout/layout.py'>,\n",
       "   'prompt_toolkit.layout.menus': <module 'prompt_toolkit.layout.menus' from '/Users/nheather/opt/anaconda3/lib/python3.7/site-packages/prompt_toolkit/layout/menus.py'>,\n",
       "   'prompt_toolkit.key_binding.bindings.completion': <module 'prompt_toolkit.key_binding.bindings.completion' from '/Users/nheather/opt/anaconda3/lib/python3.7/site-packages/prompt_toolkit/key_binding/bindings/completion.py'>,\n",
       "   'prompt_toolkit.key_binding.bindings.cpr': <module 'prompt_toolkit.key_binding.bindings.cpr' from '/Users/nheather/opt/anaconda3/lib/python3.7/site-packages/prompt_toolkit/key_binding/bindings/cpr.py'>,\n",
       "   'prompt_toolkit.key_binding.bindings.emacs': <module 'prompt_toolkit.key_binding.bindings.emacs' from '/Users/nheather/opt/anaconda3/lib/python3.7/site-packages/prompt_toolkit/key_binding/bindings/emacs.py'>,\n",
       "   'prompt_toolkit.key_binding.bindings.mouse': <module 'prompt_toolkit.key_binding.bindings.mouse' from '/Users/nheather/opt/anaconda3/lib/python3.7/site-packages/prompt_toolkit/key_binding/bindings/mouse.py'>,\n",
       "   'prompt_toolkit.key_binding.bindings.vi': <module 'prompt_toolkit.key_binding.bindings.vi' from '/Users/nheather/opt/anaconda3/lib/python3.7/site-packages/prompt_toolkit/key_binding/bindings/vi.py'>,\n",
       "   'prompt_toolkit.input.vt100_parser': <module 'prompt_toolkit.input.vt100_parser' from '/Users/nheather/opt/anaconda3/lib/python3.7/site-packages/prompt_toolkit/input/vt100_parser.py'>,\n",
       "   'prompt_toolkit.input.ansi_escape_sequences': <module 'prompt_toolkit.input.ansi_escape_sequences' from '/Users/nheather/opt/anaconda3/lib/python3.7/site-packages/prompt_toolkit/input/ansi_escape_sequences.py'>,\n",
       "   'prompt_toolkit.key_binding.digraphs': <module 'prompt_toolkit.key_binding.digraphs' from '/Users/nheather/opt/anaconda3/lib/python3.7/site-packages/prompt_toolkit/key_binding/digraphs.py'>,\n",
       "   'prompt_toolkit.key_binding.emacs_state': <module 'prompt_toolkit.key_binding.emacs_state' from '/Users/nheather/opt/anaconda3/lib/python3.7/site-packages/prompt_toolkit/key_binding/emacs_state.py'>,\n",
       "   'prompt_toolkit.layout.dummy': <module 'prompt_toolkit.layout.dummy' from '/Users/nheather/opt/anaconda3/lib/python3.7/site-packages/prompt_toolkit/layout/dummy.py'>,\n",
       "   'prompt_toolkit.renderer': <module 'prompt_toolkit.renderer' from '/Users/nheather/opt/anaconda3/lib/python3.7/site-packages/prompt_toolkit/renderer.py'>,\n",
       "   'prompt_toolkit.application.dummy': <module 'prompt_toolkit.application.dummy' from '/Users/nheather/opt/anaconda3/lib/python3.7/site-packages/prompt_toolkit/application/dummy.py'>,\n",
       "   'prompt_toolkit.shortcuts': <module 'prompt_toolkit.shortcuts' from '/Users/nheather/opt/anaconda3/lib/python3.7/site-packages/prompt_toolkit/shortcuts/__init__.py'>,\n",
       "   'prompt_toolkit.shortcuts.dialogs': <module 'prompt_toolkit.shortcuts.dialogs' from '/Users/nheather/opt/anaconda3/lib/python3.7/site-packages/prompt_toolkit/shortcuts/dialogs.py'>,\n",
       "   'prompt_toolkit.key_binding.bindings.focus': <module 'prompt_toolkit.key_binding.bindings.focus' from '/Users/nheather/opt/anaconda3/lib/python3.7/site-packages/prompt_toolkit/key_binding/bindings/focus.py'>,\n",
       "   'prompt_toolkit.widgets': <module 'prompt_toolkit.widgets' from '/Users/nheather/opt/anaconda3/lib/python3.7/site-packages/prompt_toolkit/widgets/__init__.py'>,\n",
       "   'prompt_toolkit.widgets.base': <module 'prompt_toolkit.widgets.base' from '/Users/nheather/opt/anaconda3/lib/python3.7/site-packages/prompt_toolkit/widgets/base.py'>,\n",
       "   'prompt_toolkit.widgets.toolbars': <module 'prompt_toolkit.widgets.toolbars' from '/Users/nheather/opt/anaconda3/lib/python3.7/site-packages/prompt_toolkit/widgets/toolbars.py'>,\n",
       "   'prompt_toolkit.widgets.dialogs': <module 'prompt_toolkit.widgets.dialogs' from '/Users/nheather/opt/anaconda3/lib/python3.7/site-packages/prompt_toolkit/widgets/dialogs.py'>,\n",
       "   'prompt_toolkit.widgets.menus': <module 'prompt_toolkit.widgets.menus' from '/Users/nheather/opt/anaconda3/lib/python3.7/site-packages/prompt_toolkit/widgets/menus.py'>,\n",
       "   'prompt_toolkit.shortcuts.progress_bar': <module 'prompt_toolkit.shortcuts.progress_bar' from '/Users/nheather/opt/anaconda3/lib/python3.7/site-packages/prompt_toolkit/shortcuts/progress_bar/__init__.py'>,\n",
       "   'prompt_toolkit.shortcuts.progress_bar.base': <module 'prompt_toolkit.shortcuts.progress_bar.base' from '/Users/nheather/opt/anaconda3/lib/python3.7/site-packages/prompt_toolkit/shortcuts/progress_bar/base.py'>,\n",
       "   'prompt_toolkit.shortcuts.progress_bar.formatters': <module 'prompt_toolkit.shortcuts.progress_bar.formatters' from '/Users/nheather/opt/anaconda3/lib/python3.7/site-packages/prompt_toolkit/shortcuts/progress_bar/formatters.py'>,\n",
       "   'prompt_toolkit.shortcuts.prompt': <module 'prompt_toolkit.shortcuts.prompt' from '/Users/nheather/opt/anaconda3/lib/python3.7/site-packages/prompt_toolkit/shortcuts/prompt.py'>,\n",
       "   'prompt_toolkit.key_binding.bindings.auto_suggest': <module 'prompt_toolkit.key_binding.bindings.auto_suggest' from '/Users/nheather/opt/anaconda3/lib/python3.7/site-packages/prompt_toolkit/key_binding/bindings/auto_suggest.py'>,\n",
       "   'prompt_toolkit.key_binding.bindings.open_in_editor': <module 'prompt_toolkit.key_binding.bindings.open_in_editor' from '/Users/nheather/opt/anaconda3/lib/python3.7/site-packages/prompt_toolkit/key_binding/bindings/open_in_editor.py'>,\n",
       "   'prompt_toolkit.shortcuts.utils': <module 'prompt_toolkit.shortcuts.utils' from '/Users/nheather/opt/anaconda3/lib/python3.7/site-packages/prompt_toolkit/shortcuts/utils.py'>,\n",
       "   'pygments.style': <module 'pygments.style' from '/Users/nheather/opt/anaconda3/lib/python3.7/site-packages/pygments/style.py'>,\n",
       "   'IPython.terminal.debugger': <module 'IPython.terminal.debugger' from '/Users/nheather/opt/anaconda3/lib/python3.7/site-packages/IPython/terminal/debugger.py'>,\n",
       "   'IPython.core.completer': <module 'IPython.core.completer' from '/Users/nheather/opt/anaconda3/lib/python3.7/site-packages/IPython/core/completer.py'>,\n",
       "   'unicodedata': <module 'unicodedata' from '/Users/nheather/opt/anaconda3/lib/python3.7/lib-dynload/unicodedata.cpython-37m-darwin.so'>,\n",
       "   'IPython.core.latex_symbols': <module 'IPython.core.latex_symbols' from '/Users/nheather/opt/anaconda3/lib/python3.7/site-packages/IPython/core/latex_symbols.py'>,\n",
       "   'IPython.utils.generics': <module 'IPython.utils.generics' from '/Users/nheather/opt/anaconda3/lib/python3.7/site-packages/IPython/utils/generics.py'>,\n",
       "   'jedi': <module 'jedi' from '/Users/nheather/opt/anaconda3/lib/python3.7/site-packages/jedi/__init__.py'>,\n",
       "   'jedi.api': <module 'jedi.api' from '/Users/nheather/opt/anaconda3/lib/python3.7/site-packages/jedi/api/__init__.py'>,\n",
       "   'parso': <module 'parso' from '/Users/nheather/opt/anaconda3/lib/python3.7/site-packages/parso/__init__.py'>,\n",
       "   'parso.parser': <module 'parso.parser' from '/Users/nheather/opt/anaconda3/lib/python3.7/site-packages/parso/parser.py'>,\n",
       "   'parso.tree': <module 'parso.tree' from '/Users/nheather/opt/anaconda3/lib/python3.7/site-packages/parso/tree.py'>,\n",
       "   'parso._compatibility': <module 'parso._compatibility' from '/Users/nheather/opt/anaconda3/lib/python3.7/site-packages/parso/_compatibility.py'>,\n",
       "   'parso.utils': <module 'parso.utils' from '/Users/nheather/opt/anaconda3/lib/python3.7/site-packages/parso/utils.py'>,\n",
       "   'parso.pgen2': <module 'parso.pgen2' from '/Users/nheather/opt/anaconda3/lib/python3.7/site-packages/parso/pgen2/__init__.py'>,\n",
       "   'parso.pgen2.generator': <module 'parso.pgen2.generator' from '/Users/nheather/opt/anaconda3/lib/python3.7/site-packages/parso/pgen2/generator.py'>,\n",
       "   'parso.pgen2.grammar_parser': <module 'parso.pgen2.grammar_parser' from '/Users/nheather/opt/anaconda3/lib/python3.7/site-packages/parso/pgen2/grammar_parser.py'>,\n",
       "   'parso.python': <module 'parso.python' from '/Users/nheather/opt/anaconda3/lib/python3.7/site-packages/parso/python/__init__.py'>,\n",
       "   'parso.python.tokenize': <module 'parso.python.tokenize' from '/Users/nheather/opt/anaconda3/lib/python3.7/site-packages/parso/python/tokenize.py'>,\n",
       "   'parso.python.token': <module 'parso.python.token' from '/Users/nheather/opt/anaconda3/lib/python3.7/site-packages/parso/python/token.py'>,\n",
       "   'parso.grammar': <module 'parso.grammar' from '/Users/nheather/opt/anaconda3/lib/python3.7/site-packages/parso/grammar.py'>,\n",
       "   'parso.python.diff': <module 'parso.python.diff' from '/Users/nheather/opt/anaconda3/lib/python3.7/site-packages/parso/python/diff.py'>,\n",
       "   'difflib': <module 'difflib' from '/Users/nheather/opt/anaconda3/lib/python3.7/difflib.py'>,\n",
       "   'parso.python.parser': <module 'parso.python.parser' from '/Users/nheather/opt/anaconda3/lib/python3.7/site-packages/parso/python/parser.py'>,\n",
       "   'parso.python.tree': <module 'parso.python.tree' from '/Users/nheather/opt/anaconda3/lib/python3.7/site-packages/parso/python/tree.py'>,\n",
       "   'parso.python.prefix': <module 'parso.python.prefix' from '/Users/nheather/opt/anaconda3/lib/python3.7/site-packages/parso/python/prefix.py'>,\n",
       "   'parso.cache': <module 'parso.cache' from '/Users/nheather/opt/anaconda3/lib/python3.7/site-packages/parso/cache.py'>,\n",
       "   'gc': <module 'gc' (built-in)>,\n",
       "   'parso.python.errors': <module 'parso.python.errors' from '/Users/nheather/opt/anaconda3/lib/python3.7/site-packages/parso/python/errors.py'>,\n",
       "   'parso.normalizer': <module 'parso.normalizer' from '/Users/nheather/opt/anaconda3/lib/python3.7/site-packages/parso/normalizer.py'>,\n",
       "   'parso.python.pep8': <module 'parso.python.pep8' from '/Users/nheather/opt/anaconda3/lib/python3.7/site-packages/parso/python/pep8.py'>,\n",
       "   'parso.file_io': <module 'parso.file_io' from '/Users/nheather/opt/anaconda3/lib/python3.7/site-packages/parso/file_io.py'>,\n",
       "   'jedi._compatibility': <module 'jedi._compatibility' from '/Users/nheather/opt/anaconda3/lib/python3.7/site-packages/jedi/_compatibility.py'>,\n",
       "   'jedi.file_io': <module 'jedi.file_io' from '/Users/nheather/opt/anaconda3/lib/python3.7/site-packages/jedi/file_io.py'>,\n",
       "   'queue': <module 'queue' from '/Users/nheather/opt/anaconda3/lib/python3.7/queue.py'>,\n",
       "   '_queue': <module '_queue' from '/Users/nheather/opt/anaconda3/lib/python3.7/lib-dynload/_queue.cpython-37m-darwin.so'>,\n",
       "   'jedi.parser_utils': <module 'jedi.parser_utils' from '/Users/nheather/opt/anaconda3/lib/python3.7/site-packages/jedi/parser_utils.py'>,\n",
       "   'jedi.debug': <module 'jedi.debug' from '/Users/nheather/opt/anaconda3/lib/python3.7/site-packages/jedi/debug.py'>,\n",
       "   'colorama': <module 'colorama' from '/Users/nheather/opt/anaconda3/lib/python3.7/site-packages/colorama/__init__.py'>,\n",
       "   'colorama.initialise': <module 'colorama.initialise' from '/Users/nheather/opt/anaconda3/lib/python3.7/site-packages/colorama/initialise.py'>,\n",
       "   'colorama.ansitowin32': <module 'colorama.ansitowin32' from '/Users/nheather/opt/anaconda3/lib/python3.7/site-packages/colorama/ansitowin32.py'>,\n",
       "   'colorama.ansi': <module 'colorama.ansi' from '/Users/nheather/opt/anaconda3/lib/python3.7/site-packages/colorama/ansi.py'>,\n",
       "   'colorama.winterm': <module 'colorama.winterm' from '/Users/nheather/opt/anaconda3/lib/python3.7/site-packages/colorama/winterm.py'>,\n",
       "   'colorama.win32': <module 'colorama.win32' from '/Users/nheather/opt/anaconda3/lib/python3.7/site-packages/colorama/win32.py'>,\n",
       "   'ctypes': <module 'ctypes' from '/Users/nheather/opt/anaconda3/lib/python3.7/ctypes/__init__.py'>,\n",
       "   '_ctypes': <module '_ctypes' from '/Users/nheather/opt/anaconda3/lib/python3.7/lib-dynload/_ctypes.cpython-37m-darwin.so'>,\n",
       "   'ctypes._endian': <module 'ctypes._endian' from '/Users/nheather/opt/anaconda3/lib/python3.7/ctypes/_endian.py'>,\n",
       "   'jedi.settings': <module 'jedi.settings' from '/Users/nheather/opt/anaconda3/lib/python3.7/site-packages/jedi/settings.py'>,\n",
       "   'jedi.cache': <module 'jedi.cache' from '/Users/nheather/opt/anaconda3/lib/python3.7/site-packages/jedi/cache.py'>,\n",
       "   'jedi.api.classes': <module 'jedi.api.classes' from '/Users/nheather/opt/anaconda3/lib/python3.7/site-packages/jedi/api/classes.py'>,\n",
       "   'jedi.evaluate': <module 'jedi.evaluate' from '/Users/nheather/opt/anaconda3/lib/python3.7/site-packages/jedi/evaluate/__init__.py'>,\n",
       "   'jedi.evaluate.utils': <module 'jedi.evaluate.utils' from '/Users/nheather/opt/anaconda3/lib/python3.7/site-packages/jedi/evaluate/utils.py'>,\n",
       "   'jedi.evaluate.imports': <module 'jedi.evaluate.imports' from '/Users/nheather/opt/anaconda3/lib/python3.7/site-packages/jedi/evaluate/imports.py'>,\n",
       "   'jedi.evaluate.sys_path': <module 'jedi.evaluate.sys_path' from '/Users/nheather/opt/anaconda3/lib/python3.7/site-packages/jedi/evaluate/sys_path.py'>,\n",
       "   'jedi.evaluate.cache': <module 'jedi.evaluate.cache' from '/Users/nheather/opt/anaconda3/lib/python3.7/site-packages/jedi/evaluate/cache.py'>,\n",
       "   'jedi.evaluate.base_context': <module 'jedi.evaluate.base_context' from '/Users/nheather/opt/anaconda3/lib/python3.7/site-packages/jedi/evaluate/base_context.py'>,\n",
       "   'jedi.common': <module 'jedi.common' from '/Users/nheather/opt/anaconda3/lib/python3.7/site-packages/jedi/common/__init__.py'>,\n",
       "   'jedi.common.context': <module 'jedi.common.context' from '/Users/nheather/opt/anaconda3/lib/python3.7/site-packages/jedi/common/context.py'>,\n",
       "   'jedi.evaluate.helpers': <module 'jedi.evaluate.helpers' from '/Users/nheather/opt/anaconda3/lib/python3.7/site-packages/jedi/evaluate/helpers.py'>,\n",
       "   'jedi.common.utils': <module 'jedi.common.utils' from '/Users/nheather/opt/anaconda3/lib/python3.7/site-packages/jedi/common/utils.py'>,\n",
       "   'jedi.evaluate.compiled': <module 'jedi.evaluate.compiled' from '/Users/nheather/opt/anaconda3/lib/python3.7/site-packages/jedi/evaluate/compiled/__init__.py'>,\n",
       "   'jedi.evaluate.compiled.context': <module 'jedi.evaluate.compiled.context' from '/Users/nheather/opt/anaconda3/lib/python3.7/site-packages/jedi/evaluate/compiled/context.py'>,\n",
       "   'jedi.evaluate.filters': <module 'jedi.evaluate.filters' from '/Users/nheather/opt/anaconda3/lib/python3.7/site-packages/jedi/evaluate/filters.py'>,\n",
       "   'jedi.evaluate.flow_analysis': <module 'jedi.evaluate.flow_analysis' from '/Users/nheather/opt/anaconda3/lib/python3.7/site-packages/jedi/evaluate/flow_analysis.py'>,\n",
       "   'jedi.evaluate.recursion': <module 'jedi.evaluate.recursion' from '/Users/nheather/opt/anaconda3/lib/python3.7/site-packages/jedi/evaluate/recursion.py'>,\n",
       "   'jedi.evaluate.names': <module 'jedi.evaluate.names' from '/Users/nheather/opt/anaconda3/lib/python3.7/site-packages/jedi/evaluate/names.py'>,\n",
       "   'jedi.evaluate.lazy_context': <module 'jedi.evaluate.lazy_context' from '/Users/nheather/opt/anaconda3/lib/python3.7/site-packages/jedi/evaluate/lazy_context.py'>,\n",
       "   'jedi.evaluate.compiled.access': <module 'jedi.evaluate.compiled.access' from '/Users/nheather/opt/anaconda3/lib/python3.7/site-packages/jedi/evaluate/compiled/access.py'>,\n",
       "   'jedi.evaluate.compiled.getattr_static': <module 'jedi.evaluate.compiled.getattr_static' from '/Users/nheather/opt/anaconda3/lib/python3.7/site-packages/jedi/evaluate/compiled/getattr_static.py'>,\n",
       "   'jedi.evaluate.signature': <module 'jedi.evaluate.signature' from '/Users/nheather/opt/anaconda3/lib/python3.7/site-packages/jedi/evaluate/signature.py'>,\n",
       "   'jedi.evaluate.analysis': <module 'jedi.evaluate.analysis' from '/Users/nheather/opt/anaconda3/lib/python3.7/site-packages/jedi/evaluate/analysis.py'>,\n",
       "   'jedi.evaluate.gradual': <module 'jedi.evaluate.gradual' from '/Users/nheather/opt/anaconda3/lib/python3.7/site-packages/jedi/evaluate/gradual/__init__.py'>,\n",
       "   'jedi.evaluate.gradual.typeshed': <module 'jedi.evaluate.gradual.typeshed' from '/Users/nheather/opt/anaconda3/lib/python3.7/site-packages/jedi/evaluate/gradual/typeshed.py'>,\n",
       "   'jedi.evaluate.gradual.stub_context': <module 'jedi.evaluate.gradual.stub_context' from '/Users/nheather/opt/anaconda3/lib/python3.7/site-packages/jedi/evaluate/gradual/stub_context.py'>,\n",
       "   'jedi.evaluate.context': <module 'jedi.evaluate.context' from '/Users/nheather/opt/anaconda3/lib/python3.7/site-packages/jedi/evaluate/context/__init__.py'>,\n",
       "   'jedi.evaluate.context.module': <module 'jedi.evaluate.context.module' from '/Users/nheather/opt/anaconda3/lib/python3.7/site-packages/jedi/evaluate/context/module.py'>,\n",
       "   'jedi.evaluate.context.klass': <module 'jedi.evaluate.context.klass' from '/Users/nheather/opt/anaconda3/lib/python3.7/site-packages/jedi/evaluate/context/klass.py'>,\n",
       "   'jedi.evaluate.arguments': <module 'jedi.evaluate.arguments' from '/Users/nheather/opt/anaconda3/lib/python3.7/site-packages/jedi/evaluate/arguments.py'>,\n",
       "   'jedi.evaluate.context.iterable': <module 'jedi.evaluate.context.iterable' from '/Users/nheather/opt/anaconda3/lib/python3.7/site-packages/jedi/evaluate/context/iterable.py'>,\n",
       "   'jedi.evaluate.param': <module 'jedi.evaluate.param' from '/Users/nheather/opt/anaconda3/lib/python3.7/site-packages/jedi/evaluate/param.py'>,\n",
       "   'jedi.evaluate.docstrings': <module 'jedi.evaluate.docstrings' from '/Users/nheather/opt/anaconda3/lib/python3.7/site-packages/jedi/evaluate/docstrings.py'>,\n",
       "   'jedi.evaluate.context.function': <module 'jedi.evaluate.context.function' from '/Users/nheather/opt/anaconda3/lib/python3.7/site-packages/jedi/evaluate/context/function.py'>,\n",
       "   'jedi.evaluate.parser_cache': <module 'jedi.evaluate.parser_cache' from '/Users/nheather/opt/anaconda3/lib/python3.7/site-packages/jedi/evaluate/parser_cache.py'>,\n",
       "   'jedi.evaluate.context.instance': <module 'jedi.evaluate.context.instance' from '/Users/nheather/opt/anaconda3/lib/python3.7/site-packages/jedi/evaluate/context/instance.py'>,\n",
       "   'jedi.evaluate.gradual.typing': <module 'jedi.evaluate.gradual.typing' from '/Users/nheather/opt/anaconda3/lib/python3.7/site-packages/jedi/evaluate/gradual/typing.py'>,\n",
       "   'jedi.evaluate.syntax_tree': <module 'jedi.evaluate.syntax_tree' from '/Users/nheather/opt/anaconda3/lib/python3.7/site-packages/jedi/evaluate/syntax_tree.py'>,\n",
       "   'jedi.evaluate.finder': <module 'jedi.evaluate.finder' from '/Users/nheather/opt/anaconda3/lib/python3.7/site-packages/jedi/evaluate/finder.py'>,\n",
       "   'jedi.evaluate.gradual.conversion': <module 'jedi.evaluate.gradual.conversion' from '/Users/nheather/opt/anaconda3/lib/python3.7/site-packages/jedi/evaluate/gradual/conversion.py'>,\n",
       "   'jedi.evaluate.gradual.annotation': <module 'jedi.evaluate.gradual.annotation' from '/Users/nheather/opt/anaconda3/lib/python3.7/site-packages/jedi/evaluate/gradual/annotation.py'>,\n",
       "   'jedi.api.keywords': <module 'jedi.api.keywords' from '/Users/nheather/opt/anaconda3/lib/python3.7/site-packages/jedi/api/keywords.py'>,\n",
       "   'pydoc_data': <module 'pydoc_data' from '/Users/nheather/opt/anaconda3/lib/python3.7/pydoc_data/__init__.py'>,\n",
       "   'pydoc_data.topics': <module 'pydoc_data.topics' from '/Users/nheather/opt/anaconda3/lib/python3.7/pydoc_data/topics.py'>,\n",
       "   'jedi.api.interpreter': <module 'jedi.api.interpreter' from '/Users/nheather/opt/anaconda3/lib/python3.7/site-packages/jedi/api/interpreter.py'>,\n",
       "   'jedi.evaluate.compiled.mixed': <module 'jedi.evaluate.compiled.mixed' from '/Users/nheather/opt/anaconda3/lib/python3.7/site-packages/jedi/evaluate/compiled/mixed.py'>,\n",
       "   'jedi.api.helpers': <module 'jedi.api.helpers' from '/Users/nheather/opt/anaconda3/lib/python3.7/site-packages/jedi/api/helpers.py'>,\n",
       "   'jedi.api.completion': <module 'jedi.api.completion' from '/Users/nheather/opt/anaconda3/lib/python3.7/site-packages/jedi/api/completion.py'>,\n",
       "   'jedi.api.environment': <module 'jedi.api.environment' from '/Users/nheather/opt/anaconda3/lib/python3.7/site-packages/jedi/api/environment.py'>,\n",
       "   'filecmp': <module 'filecmp' from '/Users/nheather/opt/anaconda3/lib/python3.7/filecmp.py'>,\n",
       "   'jedi.evaluate.compiled.subprocess': <module 'jedi.evaluate.compiled.subprocess' from '/Users/nheather/opt/anaconda3/lib/python3.7/site-packages/jedi/evaluate/compiled/subprocess/__init__.py'>,\n",
       "   'jedi.evaluate.compiled.subprocess.functions': <module 'jedi.evaluate.compiled.subprocess.functions' from '/Users/nheather/opt/anaconda3/lib/python3.7/site-packages/jedi/evaluate/compiled/subprocess/functions.py'>,\n",
       "   'jedi.api.exceptions': <module 'jedi.api.exceptions' from '/Users/nheather/opt/anaconda3/lib/python3.7/site-packages/jedi/api/exceptions.py'>,\n",
       "   'jedi.api.project': <module 'jedi.api.project' from '/Users/nheather/opt/anaconda3/lib/python3.7/site-packages/jedi/api/project.py'>,\n",
       "   'jedi.evaluate.usages': <module 'jedi.evaluate.usages' from '/Users/nheather/opt/anaconda3/lib/python3.7/site-packages/jedi/evaluate/usages.py'>,\n",
       "   'jedi.evaluate.gradual.utils': <module 'jedi.evaluate.gradual.utils' from '/Users/nheather/opt/anaconda3/lib/python3.7/site-packages/jedi/evaluate/gradual/utils.py'>,\n",
       "   'IPython.terminal.ptutils': <module 'IPython.terminal.ptutils' from '/Users/nheather/opt/anaconda3/lib/python3.7/site-packages/IPython/terminal/ptutils.py'>,\n",
       "   'IPython.terminal.shortcuts': <module 'IPython.terminal.shortcuts' from '/Users/nheather/opt/anaconda3/lib/python3.7/site-packages/IPython/terminal/shortcuts.py'>,\n",
       "   'IPython.terminal.magics': <module 'IPython.terminal.magics' from '/Users/nheather/opt/anaconda3/lib/python3.7/site-packages/IPython/terminal/magics.py'>,\n",
       "   'IPython.lib.clipboard': <module 'IPython.lib.clipboard' from '/Users/nheather/opt/anaconda3/lib/python3.7/site-packages/IPython/lib/clipboard.py'>,\n",
       "   'IPython.terminal.pt_inputhooks': <module 'IPython.terminal.pt_inputhooks' from '/Users/nheather/opt/anaconda3/lib/python3.7/site-packages/IPython/terminal/pt_inputhooks/__init__.py'>,\n",
       "   'IPython.terminal.prompts': <module 'IPython.terminal.prompts' from '/Users/nheather/opt/anaconda3/lib/python3.7/site-packages/IPython/terminal/prompts.py'>,\n",
       "   'IPython.terminal.ipapp': <module 'IPython.terminal.ipapp' from '/Users/nheather/opt/anaconda3/lib/python3.7/site-packages/IPython/terminal/ipapp.py'>,\n",
       "   'IPython.core.magics': <module 'IPython.core.magics' from '/Users/nheather/opt/anaconda3/lib/python3.7/site-packages/IPython/core/magics/__init__.py'>,\n",
       "   'IPython.core.magics.auto': <module 'IPython.core.magics.auto' from '/Users/nheather/opt/anaconda3/lib/python3.7/site-packages/IPython/core/magics/auto.py'>,\n",
       "   'IPython.core.magics.basic': <module 'IPython.core.magics.basic' from '/Users/nheather/opt/anaconda3/lib/python3.7/site-packages/IPython/core/magics/basic.py'>,\n",
       "   'IPython.core.magics.code': <module 'IPython.core.magics.code' from '/Users/nheather/opt/anaconda3/lib/python3.7/site-packages/IPython/core/magics/code.py'>,\n",
       "   'urllib.request': <module 'urllib.request' from '/Users/nheather/opt/anaconda3/lib/python3.7/urllib/request.py'>,\n",
       "   'email': <module 'email' from '/Users/nheather/opt/anaconda3/lib/python3.7/email/__init__.py'>,\n",
       "   'http': <module 'http' from '/Users/nheather/opt/anaconda3/lib/python3.7/http/__init__.py'>,\n",
       "   'http.client': <module 'http.client' from '/Users/nheather/opt/anaconda3/lib/python3.7/http/client.py'>,\n",
       "   'email.parser': <module 'email.parser' from '/Users/nheather/opt/anaconda3/lib/python3.7/email/parser.py'>,\n",
       "   'email.feedparser': <module 'email.feedparser' from '/Users/nheather/opt/anaconda3/lib/python3.7/email/feedparser.py'>,\n",
       "   'email.errors': <module 'email.errors' from '/Users/nheather/opt/anaconda3/lib/python3.7/email/errors.py'>,\n",
       "   'email._policybase': <module 'email._policybase' from '/Users/nheather/opt/anaconda3/lib/python3.7/email/_policybase.py'>,\n",
       "   'email.header': <module 'email.header' from '/Users/nheather/opt/anaconda3/lib/python3.7/email/header.py'>,\n",
       "   'email.quoprimime': <module 'email.quoprimime' from '/Users/nheather/opt/anaconda3/lib/python3.7/email/quoprimime.py'>,\n",
       "   'email.base64mime': <module 'email.base64mime' from '/Users/nheather/opt/anaconda3/lib/python3.7/email/base64mime.py'>,\n",
       "   'email.charset': <module 'email.charset' from '/Users/nheather/opt/anaconda3/lib/python3.7/email/charset.py'>,\n",
       "   'email.encoders': <module 'email.encoders' from '/Users/nheather/opt/anaconda3/lib/python3.7/email/encoders.py'>,\n",
       "   'quopri': <module 'quopri' from '/Users/nheather/opt/anaconda3/lib/python3.7/quopri.py'>,\n",
       "   'email.utils': <module 'email.utils' from '/Users/nheather/opt/anaconda3/lib/python3.7/email/utils.py'>,\n",
       "   'email._parseaddr': <module 'email._parseaddr' from '/Users/nheather/opt/anaconda3/lib/python3.7/email/_parseaddr.py'>,\n",
       "   'calendar': <module 'calendar' from '/Users/nheather/opt/anaconda3/lib/python3.7/calendar.py'>,\n",
       "   'email.message': <module 'email.message' from '/Users/nheather/opt/anaconda3/lib/python3.7/email/message.py'>,\n",
       "   'uu': <module 'uu' from '/Users/nheather/opt/anaconda3/lib/python3.7/uu.py'>,\n",
       "   'email._encoded_words': <module 'email._encoded_words' from '/Users/nheather/opt/anaconda3/lib/python3.7/email/_encoded_words.py'>,\n",
       "   'email.iterators': <module 'email.iterators' from '/Users/nheather/opt/anaconda3/lib/python3.7/email/iterators.py'>,\n",
       "   'urllib.error': <module 'urllib.error' from '/Users/nheather/opt/anaconda3/lib/python3.7/urllib/error.py'>,\n",
       "   'urllib.response': <module 'urllib.response' from '/Users/nheather/opt/anaconda3/lib/python3.7/urllib/response.py'>,\n",
       "   '_scproxy': <module '_scproxy' from '/Users/nheather/opt/anaconda3/lib/python3.7/lib-dynload/_scproxy.cpython-37m-darwin.so'>,\n",
       "   'IPython.core.magics.config': <module 'IPython.core.magics.config' from '/Users/nheather/opt/anaconda3/lib/python3.7/site-packages/IPython/core/magics/config.py'>,\n",
       "   'IPython.core.magics.display': <module 'IPython.core.magics.display' from '/Users/nheather/opt/anaconda3/lib/python3.7/site-packages/IPython/core/magics/display.py'>,\n",
       "   'IPython.core.magics.execution': <module 'IPython.core.magics.execution' from '/Users/nheather/opt/anaconda3/lib/python3.7/site-packages/IPython/core/magics/execution.py'>,\n",
       "   'timeit': <module 'timeit' from '/Users/nheather/opt/anaconda3/lib/python3.7/timeit.py'>,\n",
       "   'cProfile': <module 'cProfile' from '/Users/nheather/opt/anaconda3/lib/python3.7/cProfile.py'>,\n",
       "   '_lsprof': <module '_lsprof' from '/Users/nheather/opt/anaconda3/lib/python3.7/lib-dynload/_lsprof.cpython-37m-darwin.so'>,\n",
       "   'profile': <module 'profile' from '/Users/nheather/opt/anaconda3/lib/python3.7/profile.py'>,\n",
       "   'pstats': <module 'pstats' from '/Users/nheather/opt/anaconda3/lib/python3.7/pstats.py'>,\n",
       "   'IPython.utils.module_paths': <module 'IPython.utils.module_paths' from '/Users/nheather/opt/anaconda3/lib/python3.7/site-packages/IPython/utils/module_paths.py'>,\n",
       "   'IPython.utils.timing': <module 'IPython.utils.timing' from '/Users/nheather/opt/anaconda3/lib/python3.7/site-packages/IPython/utils/timing.py'>,\n",
       "   'IPython.core.magics.extension': <module 'IPython.core.magics.extension' from '/Users/nheather/opt/anaconda3/lib/python3.7/site-packages/IPython/core/magics/extension.py'>,\n",
       "   'IPython.core.magics.history': <module 'IPython.core.magics.history' from '/Users/nheather/opt/anaconda3/lib/python3.7/site-packages/IPython/core/magics/history.py'>,\n",
       "   'IPython.core.magics.logging': <module 'IPython.core.magics.logging' from '/Users/nheather/opt/anaconda3/lib/python3.7/site-packages/IPython/core/magics/logging.py'>,\n",
       "   'IPython.core.magics.namespace': <module 'IPython.core.magics.namespace' from '/Users/nheather/opt/anaconda3/lib/python3.7/site-packages/IPython/core/magics/namespace.py'>,\n",
       "   'IPython.core.magics.osm': <module 'IPython.core.magics.osm' from '/Users/nheather/opt/anaconda3/lib/python3.7/site-packages/IPython/core/magics/osm.py'>,\n",
       "   'IPython.core.magics.packaging': <module 'IPython.core.magics.packaging' from '/Users/nheather/opt/anaconda3/lib/python3.7/site-packages/IPython/core/magics/packaging.py'>,\n",
       "   'IPython.core.magics.pylab': <module 'IPython.core.magics.pylab' from '/Users/nheather/opt/anaconda3/lib/python3.7/site-packages/IPython/core/magics/pylab.py'>,\n",
       "   'IPython.core.pylabtools': <module 'IPython.core.pylabtools' from '/Users/nheather/opt/anaconda3/lib/python3.7/site-packages/IPython/core/pylabtools.py'>,\n",
       "   'IPython.core.magics.script': <module 'IPython.core.magics.script' from '/Users/nheather/opt/anaconda3/lib/python3.7/site-packages/IPython/core/magics/script.py'>,\n",
       "   'IPython.lib.backgroundjobs': <module 'IPython.lib.backgroundjobs' from '/Users/nheather/opt/anaconda3/lib/python3.7/site-packages/IPython/lib/backgroundjobs.py'>,\n",
       "   'IPython.core.shellapp': <module 'IPython.core.shellapp' from '/Users/nheather/opt/anaconda3/lib/python3.7/site-packages/IPython/core/shellapp.py'>,\n",
       "   'IPython.extensions': <module 'IPython.extensions' from '/Users/nheather/opt/anaconda3/lib/python3.7/site-packages/IPython/extensions/__init__.py'>,\n",
       "   'IPython.extensions.storemagic': <module 'IPython.extensions.storemagic' from '/Users/nheather/opt/anaconda3/lib/python3.7/site-packages/IPython/extensions/storemagic.py'>,\n",
       "   'IPython.utils.frame': <module 'IPython.utils.frame' from '/Users/nheather/opt/anaconda3/lib/python3.7/site-packages/IPython/utils/frame.py'>,\n",
       "   'jupyter_client': <module 'jupyter_client' from '/Users/nheather/opt/anaconda3/lib/python3.7/site-packages/jupyter_client/__init__.py'>,\n",
       "   'jupyter_client._version': <module 'jupyter_client._version' from '/Users/nheather/opt/anaconda3/lib/python3.7/site-packages/jupyter_client/_version.py'>,\n",
       "   'jupyter_client.connect': <module 'jupyter_client.connect' from '/Users/nheather/opt/anaconda3/lib/python3.7/site-packages/jupyter_client/connect.py'>,\n",
       "   'zmq': <module 'zmq' from '/Users/nheather/opt/anaconda3/lib/python3.7/site-packages/zmq/__init__.py'>,\n",
       "   'zmq.backend': <module 'zmq.backend' from '/Users/nheather/opt/anaconda3/lib/python3.7/site-packages/zmq/backend/__init__.py'>,\n",
       "   'zmq.backend.select': <module 'zmq.backend.select' from '/Users/nheather/opt/anaconda3/lib/python3.7/site-packages/zmq/backend/select.py'>,\n",
       "   'zmq.backend.cython': <module 'zmq.backend.cython' from '/Users/nheather/opt/anaconda3/lib/python3.7/site-packages/zmq/backend/cython/__init__.py'>,\n",
       "   'zmq.backend.cython.constants': <module 'zmq.backend.cython.constants' from '/Users/nheather/opt/anaconda3/lib/python3.7/site-packages/zmq/backend/cython/constants.cpython-37m-darwin.so'>,\n",
       "   'cython_runtime': <module 'cython_runtime'>,\n",
       "   'zmq.backend.cython.error': <module 'zmq.backend.cython.error' from '/Users/nheather/opt/anaconda3/lib/python3.7/site-packages/zmq/backend/cython/error.cpython-37m-darwin.so'>,\n",
       "   '_cython_0_29_14': <module '_cython_0_29_14'>,\n",
       "   'zmq.backend.cython.message': <module 'zmq.backend.cython.message' from '/Users/nheather/opt/anaconda3/lib/python3.7/site-packages/zmq/backend/cython/message.cpython-37m-darwin.so'>,\n",
       "   'zmq.error': <module 'zmq.error' from '/Users/nheather/opt/anaconda3/lib/python3.7/site-packages/zmq/error.py'>,\n",
       "   'zmq.backend.cython.context': <module 'zmq.backend.cython.context' from '/Users/nheather/opt/anaconda3/lib/python3.7/site-packages/zmq/backend/cython/context.cpython-37m-darwin.so'>,\n",
       "   'zmq.backend.cython.socket': <module 'zmq.backend.cython.socket' from '/Users/nheather/opt/anaconda3/lib/python3.7/site-packages/zmq/backend/cython/socket.cpython-37m-darwin.so'>,\n",
       "   'zmq.backend.cython.utils': <module 'zmq.backend.cython.utils' from '/Users/nheather/opt/anaconda3/lib/python3.7/site-packages/zmq/backend/cython/utils.cpython-37m-darwin.so'>,\n",
       "   'zmq.backend.cython._poll': <module 'zmq.backend.cython._poll' from '/Users/nheather/opt/anaconda3/lib/python3.7/site-packages/zmq/backend/cython/_poll.cpython-37m-darwin.so'>,\n",
       "   'zmq.backend.cython._version': <module 'zmq.backend.cython._version' from '/Users/nheather/opt/anaconda3/lib/python3.7/site-packages/zmq/backend/cython/_version.cpython-37m-darwin.so'>,\n",
       "   'zmq.backend.cython._device': <module 'zmq.backend.cython._device' from '/Users/nheather/opt/anaconda3/lib/python3.7/site-packages/zmq/backend/cython/_device.cpython-37m-darwin.so'>,\n",
       "   'zmq.backend.cython._proxy_steerable': <module 'zmq.backend.cython._proxy_steerable' from '/Users/nheather/opt/anaconda3/lib/python3.7/site-packages/zmq/backend/cython/_proxy_steerable.cpython-37m-darwin.so'>,\n",
       "   'zmq.sugar': <module 'zmq.sugar' from '/Users/nheather/opt/anaconda3/lib/python3.7/site-packages/zmq/sugar/__init__.py'>,\n",
       "   'zmq.sugar.constants': <module 'zmq.sugar.constants' from '/Users/nheather/opt/anaconda3/lib/python3.7/site-packages/zmq/sugar/constants.py'>,\n",
       "   'zmq.utils': <module 'zmq.utils' from '/Users/nheather/opt/anaconda3/lib/python3.7/site-packages/zmq/utils/__init__.py'>,\n",
       "   'zmq.utils.constant_names': <module 'zmq.utils.constant_names' from '/Users/nheather/opt/anaconda3/lib/python3.7/site-packages/zmq/utils/constant_names.py'>,\n",
       "   'zmq.sugar.context': <module 'zmq.sugar.context' from '/Users/nheather/opt/anaconda3/lib/python3.7/site-packages/zmq/sugar/context.py'>,\n",
       "   'zmq.sugar.attrsettr': <module 'zmq.sugar.attrsettr' from '/Users/nheather/opt/anaconda3/lib/python3.7/site-packages/zmq/sugar/attrsettr.py'>,\n",
       "   'zmq.sugar.socket': <module 'zmq.sugar.socket' from '/Users/nheather/opt/anaconda3/lib/python3.7/site-packages/zmq/sugar/socket.py'>,\n",
       "   'zmq.sugar.poll': <module 'zmq.sugar.poll' from '/Users/nheather/opt/anaconda3/lib/python3.7/site-packages/zmq/sugar/poll.py'>,\n",
       "   'zmq.utils.jsonapi': <module 'zmq.utils.jsonapi' from '/Users/nheather/opt/anaconda3/lib/python3.7/site-packages/zmq/utils/jsonapi.py'>,\n",
       "   'zmq.utils.strtypes': <module 'zmq.utils.strtypes' from '/Users/nheather/opt/anaconda3/lib/python3.7/site-packages/zmq/utils/strtypes.py'>,\n",
       "   'zmq.sugar.frame': <module 'zmq.sugar.frame' from '/Users/nheather/opt/anaconda3/lib/python3.7/site-packages/zmq/sugar/frame.py'>,\n",
       "   'zmq.sugar.tracker': <module 'zmq.sugar.tracker' from '/Users/nheather/opt/anaconda3/lib/python3.7/site-packages/zmq/sugar/tracker.py'>,\n",
       "   'zmq.sugar.version': <module 'zmq.sugar.version' from '/Users/nheather/opt/anaconda3/lib/python3.7/site-packages/zmq/sugar/version.py'>,\n",
       "   'zmq.sugar.stopwatch': <module 'zmq.sugar.stopwatch' from '/Users/nheather/opt/anaconda3/lib/python3.7/site-packages/zmq/sugar/stopwatch.py'>,\n",
       "   'jupyter_client.localinterfaces': <module 'jupyter_client.localinterfaces' from '/Users/nheather/opt/anaconda3/lib/python3.7/site-packages/jupyter_client/localinterfaces.py'>,\n",
       "   'jupyter_core': <module 'jupyter_core' from '/Users/nheather/opt/anaconda3/lib/python3.7/site-packages/jupyter_core/__init__.py'>,\n",
       "   'jupyter_core.version': <module 'jupyter_core.version' from '/Users/nheather/opt/anaconda3/lib/python3.7/site-packages/jupyter_core/version.py'>,\n",
       "   'jupyter_core.paths': <module 'jupyter_core.paths' from '/Users/nheather/opt/anaconda3/lib/python3.7/site-packages/jupyter_core/paths.py'>,\n",
       "   'jupyter_client.launcher': <module 'jupyter_client.launcher' from '/Users/nheather/opt/anaconda3/lib/python3.7/site-packages/jupyter_client/launcher.py'>,\n",
       "   'traitlets.log': <module 'traitlets.log' from '/Users/nheather/opt/anaconda3/lib/python3.7/site-packages/traitlets/log.py'>,\n",
       "   'jupyter_client.client': <module 'jupyter_client.client' from '/Users/nheather/opt/anaconda3/lib/python3.7/site-packages/jupyter_client/client.py'>,\n",
       "   'jupyter_client.channels': <module 'jupyter_client.channels' from '/Users/nheather/opt/anaconda3/lib/python3.7/site-packages/jupyter_client/channels.py'>,\n",
       "   'jupyter_client.channelsabc': <module 'jupyter_client.channelsabc' from '/Users/nheather/opt/anaconda3/lib/python3.7/site-packages/jupyter_client/channelsabc.py'>,\n",
       "   'jupyter_client.clientabc': <module 'jupyter_client.clientabc' from '/Users/nheather/opt/anaconda3/lib/python3.7/site-packages/jupyter_client/clientabc.py'>,\n",
       "   'jupyter_client.manager': <module 'jupyter_client.manager' from '/Users/nheather/opt/anaconda3/lib/python3.7/site-packages/jupyter_client/manager.py'>,\n",
       "   'jupyter_client.kernelspec': <module 'jupyter_client.kernelspec' from '/Users/nheather/opt/anaconda3/lib/python3.7/site-packages/jupyter_client/kernelspec.py'>,\n",
       "   'jupyter_client.managerabc': <module 'jupyter_client.managerabc' from '/Users/nheather/opt/anaconda3/lib/python3.7/site-packages/jupyter_client/managerabc.py'>,\n",
       "   'jupyter_client.blocking': <module 'jupyter_client.blocking' from '/Users/nheather/opt/anaconda3/lib/python3.7/site-packages/jupyter_client/blocking/__init__.py'>,\n",
       "   'jupyter_client.blocking.client': <module 'jupyter_client.blocking.client' from '/Users/nheather/opt/anaconda3/lib/python3.7/site-packages/jupyter_client/blocking/client.py'>,\n",
       "   'jupyter_client.blocking.channels': <module 'jupyter_client.blocking.channels' from '/Users/nheather/opt/anaconda3/lib/python3.7/site-packages/jupyter_client/blocking/channels.py'>,\n",
       "   'jupyter_client.multikernelmanager': <module 'jupyter_client.multikernelmanager' from '/Users/nheather/opt/anaconda3/lib/python3.7/site-packages/jupyter_client/multikernelmanager.py'>,\n",
       "   'uuid': <module 'uuid' from '/Users/nheather/opt/anaconda3/lib/python3.7/uuid.py'>,\n",
       "   '_uuid': <module '_uuid' from '/Users/nheather/opt/anaconda3/lib/python3.7/lib-dynload/_uuid.cpython-37m-darwin.so'>,\n",
       "   'ipykernel.kernelapp': <module 'ipykernel.kernelapp' from '/Users/nheather/opt/anaconda3/lib/python3.7/site-packages/ipykernel/kernelapp.py'>,\n",
       "   'tornado': <module 'tornado' from '/Users/nheather/opt/anaconda3/lib/python3.7/site-packages/tornado/__init__.py'>,\n",
       "   'tornado.ioloop': <module 'tornado.ioloop' from '/Users/nheather/opt/anaconda3/lib/python3.7/site-packages/tornado/ioloop.py'>,\n",
       "   'numbers': <module 'numbers' from '/Users/nheather/opt/anaconda3/lib/python3.7/numbers.py'>,\n",
       "   'tornado.concurrent': <module 'tornado.concurrent' from '/Users/nheather/opt/anaconda3/lib/python3.7/site-packages/tornado/concurrent.py'>,\n",
       "   'tornado.log': <module 'tornado.log' from '/Users/nheather/opt/anaconda3/lib/python3.7/site-packages/tornado/log.py'>,\n",
       "   'logging.handlers': <module 'logging.handlers' from '/Users/nheather/opt/anaconda3/lib/python3.7/logging/handlers.py'>,\n",
       "   'tornado.escape': <module 'tornado.escape' from '/Users/nheather/opt/anaconda3/lib/python3.7/site-packages/tornado/escape.py'>,\n",
       "   'tornado.util': <module 'tornado.util' from '/Users/nheather/opt/anaconda3/lib/python3.7/site-packages/tornado/util.py'>,\n",
       "   'tornado.speedups': <module 'tornado.speedups' from '/Users/nheather/opt/anaconda3/lib/python3.7/site-packages/tornado/speedups.cpython-37m-darwin.so'>,\n",
       "   'curses': <module 'curses' from '/Users/nheather/opt/anaconda3/lib/python3.7/curses/__init__.py'>,\n",
       "   '_curses': <module '_curses' from '/Users/nheather/opt/anaconda3/lib/python3.7/lib-dynload/_curses.cpython-37m-darwin.so'>,\n",
       "   'zmq.eventloop': <module 'zmq.eventloop' from '/Users/nheather/opt/anaconda3/lib/python3.7/site-packages/zmq/eventloop/__init__.py'>,\n",
       "   'zmq.eventloop.ioloop': <module 'zmq.eventloop.ioloop' from '/Users/nheather/opt/anaconda3/lib/python3.7/site-packages/zmq/eventloop/ioloop.py'>,\n",
       "   'tornado.platform': <module 'tornado.platform' from '/Users/nheather/opt/anaconda3/lib/python3.7/site-packages/tornado/platform/__init__.py'>,\n",
       "   'tornado.platform.asyncio': <module 'tornado.platform.asyncio' from '/Users/nheather/opt/anaconda3/lib/python3.7/site-packages/tornado/platform/asyncio.py'>,\n",
       "   'tornado.gen': <module 'tornado.gen' from '/Users/nheather/opt/anaconda3/lib/python3.7/site-packages/tornado/gen.py'>,\n",
       "   'zmq.eventloop.zmqstream': <module 'zmq.eventloop.zmqstream' from '/Users/nheather/opt/anaconda3/lib/python3.7/site-packages/zmq/eventloop/zmqstream.py'>,\n",
       "   'ipykernel.iostream': <module 'ipykernel.iostream' from '/Users/nheather/opt/anaconda3/lib/python3.7/site-packages/ipykernel/iostream.py'>,\n",
       "   'imp': <module 'imp' from '/Users/nheather/opt/anaconda3/lib/python3.7/imp.py'>,\n",
       "   'jupyter_client.session': <module 'jupyter_client.session' from '/Users/nheather/opt/anaconda3/lib/python3.7/site-packages/jupyter_client/session.py'>,\n",
       "   'hmac': <module 'hmac' from '/Users/nheather/opt/anaconda3/lib/python3.7/hmac.py'>,\n",
       "   'jupyter_client.jsonutil': <module 'jupyter_client.jsonutil' from '/Users/nheather/opt/anaconda3/lib/python3.7/site-packages/jupyter_client/jsonutil.py'>,\n",
       "   'dateutil': <module 'dateutil' from '/Users/nheather/opt/anaconda3/lib/python3.7/site-packages/dateutil/__init__.py'>,\n",
       "   'dateutil._version': <module 'dateutil._version' from '/Users/nheather/opt/anaconda3/lib/python3.7/site-packages/dateutil/_version.py'>,\n",
       "   'dateutil.parser': <module 'dateutil.parser' from '/Users/nheather/opt/anaconda3/lib/python3.7/site-packages/dateutil/parser/__init__.py'>,\n",
       "   'dateutil.parser._parser': <module 'dateutil.parser._parser' from '/Users/nheather/opt/anaconda3/lib/python3.7/site-packages/dateutil/parser/_parser.py'>,\n",
       "   'decimal': <module 'decimal' from '/Users/nheather/opt/anaconda3/lib/python3.7/decimal.py'>,\n",
       "   '_decimal': <module '_decimal' from '/Users/nheather/opt/anaconda3/lib/python3.7/lib-dynload/_decimal.cpython-37m-darwin.so'>,\n",
       "   'dateutil.relativedelta': <module 'dateutil.relativedelta' from '/Users/nheather/opt/anaconda3/lib/python3.7/site-packages/dateutil/relativedelta.py'>,\n",
       "   'dateutil._common': <module 'dateutil._common' from '/Users/nheather/opt/anaconda3/lib/python3.7/site-packages/dateutil/_common.py'>,\n",
       "   'dateutil.tz': <module 'dateutil.tz' from '/Users/nheather/opt/anaconda3/lib/python3.7/site-packages/dateutil/tz/__init__.py'>,\n",
       "   'dateutil.tz.tz': <module 'dateutil.tz.tz' from '/Users/nheather/opt/anaconda3/lib/python3.7/site-packages/dateutil/tz/tz.py'>,\n",
       "   'six.moves': <module 'six.moves' (<six._SixMetaPathImporter object at 0x7fac00316190>)>,\n",
       "   'dateutil.tz._common': <module 'dateutil.tz._common' from '/Users/nheather/opt/anaconda3/lib/python3.7/site-packages/dateutil/tz/_common.py'>,\n",
       "   'dateutil.tz._factories': <module 'dateutil.tz._factories' from '/Users/nheather/opt/anaconda3/lib/python3.7/site-packages/dateutil/tz/_factories.py'>,\n",
       "   'dateutil.parser.isoparser': <module 'dateutil.parser.isoparser' from '/Users/nheather/opt/anaconda3/lib/python3.7/site-packages/dateutil/parser/isoparser.py'>,\n",
       "   '_strptime': <module '_strptime' from '/Users/nheather/opt/anaconda3/lib/python3.7/_strptime.py'>,\n",
       "   'jupyter_client.adapter': <module 'jupyter_client.adapter' from '/Users/nheather/opt/anaconda3/lib/python3.7/site-packages/jupyter_client/adapter.py'>,\n",
       "   'ipykernel.heartbeat': <module 'ipykernel.heartbeat' from '/Users/nheather/opt/anaconda3/lib/python3.7/site-packages/ipykernel/heartbeat.py'>,\n",
       "   'ipykernel.ipkernel': <module 'ipykernel.ipkernel' from '/Users/nheather/opt/anaconda3/lib/python3.7/site-packages/ipykernel/ipkernel.py'>,\n",
       "   'IPython.utils.tokenutil': <module 'IPython.utils.tokenutil' from '/Users/nheather/opt/anaconda3/lib/python3.7/site-packages/IPython/utils/tokenutil.py'>,\n",
       "   'ipykernel.comm': <module 'ipykernel.comm' from '/Users/nheather/opt/anaconda3/lib/python3.7/site-packages/ipykernel/comm/__init__.py'>,\n",
       "   'ipykernel.comm.manager': <module 'ipykernel.comm.manager' from '/Users/nheather/opt/anaconda3/lib/python3.7/site-packages/ipykernel/comm/manager.py'>,\n",
       "   'ipykernel.comm.comm': <module 'ipykernel.comm.comm' from '/Users/nheather/opt/anaconda3/lib/python3.7/site-packages/ipykernel/comm/comm.py'>,\n",
       "   'ipykernel.kernelbase': <module 'ipykernel.kernelbase' from '/Users/nheather/opt/anaconda3/lib/python3.7/site-packages/ipykernel/kernelbase.py'>,\n",
       "   'tornado.queues': <module 'tornado.queues' from '/Users/nheather/opt/anaconda3/lib/python3.7/site-packages/tornado/queues.py'>,\n",
       "   'tornado.locks': <module 'tornado.locks' from '/Users/nheather/opt/anaconda3/lib/python3.7/site-packages/tornado/locks.py'>,\n",
       "   'ipykernel.jsonutil': <module 'ipykernel.jsonutil' from '/Users/nheather/opt/anaconda3/lib/python3.7/site-packages/ipykernel/jsonutil.py'>,\n",
       "   'ipykernel.zmqshell': <module 'ipykernel.zmqshell' from '/Users/nheather/opt/anaconda3/lib/python3.7/site-packages/ipykernel/zmqshell.py'>,\n",
       "   'IPython.core.payloadpage': <module 'IPython.core.payloadpage' from '/Users/nheather/opt/anaconda3/lib/python3.7/site-packages/IPython/core/payloadpage.py'>,\n",
       "   'ipykernel.displayhook': <module 'ipykernel.displayhook' from '/Users/nheather/opt/anaconda3/lib/python3.7/site-packages/ipykernel/displayhook.py'>,\n",
       "   'ipykernel.eventloops': <module 'ipykernel.eventloops' from '/Users/nheather/opt/anaconda3/lib/python3.7/site-packages/ipykernel/eventloops.py'>,\n",
       "   'distutils': <module 'distutils' from '/Users/nheather/opt/anaconda3/lib/python3.7/distutils/__init__.py'>,\n",
       "   'distutils.version': <module 'distutils.version' from '/Users/nheather/opt/anaconda3/lib/python3.7/distutils/version.py'>,\n",
       "   'ipykernel.parentpoller': <module 'ipykernel.parentpoller' from '/Users/nheather/opt/anaconda3/lib/python3.7/site-packages/ipykernel/parentpoller.py'>,\n",
       "   'faulthandler': <module 'faulthandler' (built-in)>,\n",
       "   'ipykernel.datapub': <module 'ipykernel.datapub' from '/Users/nheather/opt/anaconda3/lib/python3.7/site-packages/ipykernel/datapub.py'>,\n",
       "   'ipykernel.serialize': <module 'ipykernel.serialize' from '/Users/nheather/opt/anaconda3/lib/python3.7/site-packages/ipykernel/serialize.py'>,\n",
       "   'ipykernel.pickleutil': <module 'ipykernel.pickleutil' from '/Users/nheather/opt/anaconda3/lib/python3.7/site-packages/ipykernel/pickleutil.py'>,\n",
       "   'ipykernel.codeutil': <module 'ipykernel.codeutil' from '/Users/nheather/opt/anaconda3/lib/python3.7/site-packages/ipykernel/codeutil.py'>,\n",
       "   'IPython.core.completerlib': <module 'IPython.core.completerlib' from '/Users/nheather/opt/anaconda3/lib/python3.7/site-packages/IPython/core/completerlib.py'>,\n",
       "   'plistlib': <module 'plistlib' from '/Users/nheather/opt/anaconda3/lib/python3.7/plistlib.py'>,\n",
       "   'xml.parsers': <module 'xml.parsers' from '/Users/nheather/opt/anaconda3/lib/python3.7/xml/parsers/__init__.py'>,\n",
       "   'xml.parsers.expat': <module 'xml.parsers.expat' from '/Users/nheather/opt/anaconda3/lib/python3.7/xml/parsers/expat.py'>,\n",
       "   'pyexpat.errors': <module 'pyexpat.errors'>,\n",
       "   'pyexpat.model': <module 'pyexpat.model'>,\n",
       "   'pyexpat': <module 'pyexpat' from '/Users/nheather/opt/anaconda3/lib/python3.7/lib-dynload/pyexpat.cpython-37m-darwin.so'>,\n",
       "   'xml.parsers.expat.model': <module 'pyexpat.model'>,\n",
       "   'xml.parsers.expat.errors': <module 'pyexpat.errors'>,\n",
       "   'appnope': <module 'appnope' from '/Users/nheather/opt/anaconda3/lib/python3.7/site-packages/appnope/__init__.py'>,\n",
       "   'appnope._nope': <module 'appnope._nope' from '/Users/nheather/opt/anaconda3/lib/python3.7/site-packages/appnope/_nope.py'>,\n",
       "   'ctypes.util': <module 'ctypes.util' from '/Users/nheather/opt/anaconda3/lib/python3.7/ctypes/util.py'>,\n",
       "   'ctypes.macholib': <module 'ctypes.macholib' from '/Users/nheather/opt/anaconda3/lib/python3.7/ctypes/macholib/__init__.py'>,\n",
       "   'ctypes.macholib.dyld': <module 'ctypes.macholib.dyld' from '/Users/nheather/opt/anaconda3/lib/python3.7/ctypes/macholib/dyld.py'>,\n",
       "   'ctypes.macholib.framework': <module 'ctypes.macholib.framework' from '/Users/nheather/opt/anaconda3/lib/python3.7/ctypes/macholib/framework.py'>,\n",
       "   'ctypes.macholib.dylib': <module 'ctypes.macholib.dylib' from '/Users/nheather/opt/anaconda3/lib/python3.7/ctypes/macholib/dylib.py'>,\n",
       "   'storemagic': <module 'storemagic' from '/Users/nheather/opt/anaconda3/lib/python3.7/site-packages/IPython/extensions/storemagic.py'>,\n",
       "   'pandas': <module 'pandas' from '/Users/nheather/opt/anaconda3/lib/python3.7/site-packages/pandas/__init__.py'>,\n",
       "   'numpy': <module 'numpy' from '/Users/nheather/opt/anaconda3/lib/python3.7/site-packages/numpy/__init__.py'>,\n",
       "   'numpy._globals': <module 'numpy._globals' from '/Users/nheather/opt/anaconda3/lib/python3.7/site-packages/numpy/_globals.py'>,\n",
       "   'numpy.__config__': <module 'numpy.__config__' from '/Users/nheather/opt/anaconda3/lib/python3.7/site-packages/numpy/__config__.py'>,\n",
       "   'numpy.version': <module 'numpy.version' from '/Users/nheather/opt/anaconda3/lib/python3.7/site-packages/numpy/version.py'>,\n",
       "   'numpy._distributor_init': <module 'numpy._distributor_init' from '/Users/nheather/opt/anaconda3/lib/python3.7/site-packages/numpy/_distributor_init.py'>,\n",
       "   'mkl': <module 'mkl' from '/Users/nheather/opt/anaconda3/lib/python3.7/site-packages/mkl/__init__.py'>,\n",
       "   'mkl._mklinit': <module 'mkl._mklinit' from '/Users/nheather/opt/anaconda3/lib/python3.7/site-packages/mkl/_mklinit.cpython-37m-darwin.so'>,\n",
       "   'mkl._py_mkl_service': <module 'mkl._py_mkl_service' from '/Users/nheather/opt/anaconda3/lib/python3.7/site-packages/mkl/_py_mkl_service.cpython-37m-darwin.so'>,\n",
       "   'numpy.core': <module 'numpy.core' from '/Users/nheather/opt/anaconda3/lib/python3.7/site-packages/numpy/core/__init__.py'>,\n",
       "   'numpy.core.multiarray': <module 'numpy.core.multiarray' from '/Users/nheather/opt/anaconda3/lib/python3.7/site-packages/numpy/core/multiarray.py'>,\n",
       "   'numpy.core.overrides': <module 'numpy.core.overrides' from '/Users/nheather/opt/anaconda3/lib/python3.7/site-packages/numpy/core/overrides.py'>,\n",
       "   'numpy.core._multiarray_umath': <module 'numpy.core._multiarray_umath' from '/Users/nheather/opt/anaconda3/lib/python3.7/site-packages/numpy/core/_multiarray_umath.cpython-37m-darwin.so'>,\n",
       "   'numpy.compat': <module 'numpy.compat' from '/Users/nheather/opt/anaconda3/lib/python3.7/site-packages/numpy/compat/__init__.py'>,\n",
       "   'numpy.compat._inspect': <module 'numpy.compat._inspect' from '/Users/nheather/opt/anaconda3/lib/python3.7/site-packages/numpy/compat/_inspect.py'>,\n",
       "   'numpy.compat.py3k': <module 'numpy.compat.py3k' from '/Users/nheather/opt/anaconda3/lib/python3.7/site-packages/numpy/compat/py3k.py'>,\n",
       "   'numpy.core.umath': <module 'numpy.core.umath' from '/Users/nheather/opt/anaconda3/lib/python3.7/site-packages/numpy/core/umath.py'>,\n",
       "   'numpy.core.numerictypes': <module 'numpy.core.numerictypes' from '/Users/nheather/opt/anaconda3/lib/python3.7/site-packages/numpy/core/numerictypes.py'>,\n",
       "   'numpy.core._string_helpers': <module 'numpy.core._string_helpers' from '/Users/nheather/opt/anaconda3/lib/python3.7/site-packages/numpy/core/_string_helpers.py'>,\n",
       "   'numpy.core._type_aliases': <module 'numpy.core._type_aliases' from '/Users/nheather/opt/anaconda3/lib/python3.7/site-packages/numpy/core/_type_aliases.py'>,\n",
       "   'numpy.core._dtype': <module 'numpy.core._dtype' from '/Users/nheather/opt/anaconda3/lib/python3.7/site-packages/numpy/core/_dtype.py'>,\n",
       "   'numpy.core.numeric': <module 'numpy.core.numeric' from '/Users/nheather/opt/anaconda3/lib/python3.7/site-packages/numpy/core/numeric.py'>,\n",
       "   'numpy.core.shape_base': <module 'numpy.core.shape_base' from '/Users/nheather/opt/anaconda3/lib/python3.7/site-packages/numpy/core/shape_base.py'>,\n",
       "   'numpy.core._asarray': <module 'numpy.core._asarray' from '/Users/nheather/opt/anaconda3/lib/python3.7/site-packages/numpy/core/_asarray.py'>,\n",
       "   'numpy.core.fromnumeric': <module 'numpy.core.fromnumeric' from '/Users/nheather/opt/anaconda3/lib/python3.7/site-packages/numpy/core/fromnumeric.py'>,\n",
       "   'numpy.core._methods': <module 'numpy.core._methods' from '/Users/nheather/opt/anaconda3/lib/python3.7/site-packages/numpy/core/_methods.py'>,\n",
       "   'numpy.core._exceptions': <module 'numpy.core._exceptions' from '/Users/nheather/opt/anaconda3/lib/python3.7/site-packages/numpy/core/_exceptions.py'>,\n",
       "   'numpy.core._ufunc_config': <module 'numpy.core._ufunc_config' from '/Users/nheather/opt/anaconda3/lib/python3.7/site-packages/numpy/core/_ufunc_config.py'>,\n",
       "   'numpy.core.arrayprint': <module 'numpy.core.arrayprint' from '/Users/nheather/opt/anaconda3/lib/python3.7/site-packages/numpy/core/arrayprint.py'>,\n",
       "   'numpy.core.defchararray': <module 'numpy.core.defchararray' from '/Users/nheather/opt/anaconda3/lib/python3.7/site-packages/numpy/core/defchararray.py'>,\n",
       "   'numpy.core.records': <module 'numpy.core.records' from '/Users/nheather/opt/anaconda3/lib/python3.7/site-packages/numpy/core/records.py'>,\n",
       "   'numpy.core.memmap': <module 'numpy.core.memmap' from '/Users/nheather/opt/anaconda3/lib/python3.7/site-packages/numpy/core/memmap.py'>,\n",
       "   'numpy.core.function_base': <module 'numpy.core.function_base' from '/Users/nheather/opt/anaconda3/lib/python3.7/site-packages/numpy/core/function_base.py'>,\n",
       "   'numpy.core.machar': <module 'numpy.core.machar' from '/Users/nheather/opt/anaconda3/lib/python3.7/site-packages/numpy/core/machar.py'>,\n",
       "   'numpy.core.getlimits': <module 'numpy.core.getlimits' from '/Users/nheather/opt/anaconda3/lib/python3.7/site-packages/numpy/core/getlimits.py'>,\n",
       "   'numpy.core.einsumfunc': <module 'numpy.core.einsumfunc' from '/Users/nheather/opt/anaconda3/lib/python3.7/site-packages/numpy/core/einsumfunc.py'>,\n",
       "   'numpy.core._add_newdocs': <module 'numpy.core._add_newdocs' from '/Users/nheather/opt/anaconda3/lib/python3.7/site-packages/numpy/core/_add_newdocs.py'>,\n",
       "   'numpy.core._multiarray_tests': <module 'numpy.core._multiarray_tests' from '/Users/nheather/opt/anaconda3/lib/python3.7/site-packages/numpy/core/_multiarray_tests.cpython-37m-darwin.so'>,\n",
       "   'numpy.core._dtype_ctypes': <module 'numpy.core._dtype_ctypes' from '/Users/nheather/opt/anaconda3/lib/python3.7/site-packages/numpy/core/_dtype_ctypes.py'>,\n",
       "   'numpy.core._internal': <module 'numpy.core._internal' from '/Users/nheather/opt/anaconda3/lib/python3.7/site-packages/numpy/core/_internal.py'>,\n",
       "   'numpy._pytesttester': <module 'numpy._pytesttester' from '/Users/nheather/opt/anaconda3/lib/python3.7/site-packages/numpy/_pytesttester.py'>,\n",
       "   'numpy.lib': <module 'numpy.lib' from '/Users/nheather/opt/anaconda3/lib/python3.7/site-packages/numpy/lib/__init__.py'>,\n",
       "   'numpy.lib.mixins': <module 'numpy.lib.mixins' from '/Users/nheather/opt/anaconda3/lib/python3.7/site-packages/numpy/lib/mixins.py'>,\n",
       "   'numpy.lib.scimath': <module 'numpy.lib.scimath' from '/Users/nheather/opt/anaconda3/lib/python3.7/site-packages/numpy/lib/scimath.py'>,\n",
       "   'numpy.lib.type_check': <module 'numpy.lib.type_check' from '/Users/nheather/opt/anaconda3/lib/python3.7/site-packages/numpy/lib/type_check.py'>,\n",
       "   'numpy.lib.ufunclike': <module 'numpy.lib.ufunclike' from '/Users/nheather/opt/anaconda3/lib/python3.7/site-packages/numpy/lib/ufunclike.py'>,\n",
       "   'numpy.lib.index_tricks': <module 'numpy.lib.index_tricks' from '/Users/nheather/opt/anaconda3/lib/python3.7/site-packages/numpy/lib/index_tricks.py'>,\n",
       "   'numpy.matrixlib': <module 'numpy.matrixlib' from '/Users/nheather/opt/anaconda3/lib/python3.7/site-packages/numpy/matrixlib/__init__.py'>,\n",
       "   'numpy.matrixlib.defmatrix': <module 'numpy.matrixlib.defmatrix' from '/Users/nheather/opt/anaconda3/lib/python3.7/site-packages/numpy/matrixlib/defmatrix.py'>,\n",
       "   'numpy.linalg': <module 'numpy.linalg' from '/Users/nheather/opt/anaconda3/lib/python3.7/site-packages/numpy/linalg/__init__.py'>,\n",
       "   'numpy.linalg.linalg': <module 'numpy.linalg.linalg' from '/Users/nheather/opt/anaconda3/lib/python3.7/site-packages/numpy/linalg/linalg.py'>,\n",
       "   'numpy.lib.twodim_base': <module 'numpy.lib.twodim_base' from '/Users/nheather/opt/anaconda3/lib/python3.7/site-packages/numpy/lib/twodim_base.py'>,\n",
       "   'numpy.linalg.lapack_lite': <module 'numpy.linalg.lapack_lite' from '/Users/nheather/opt/anaconda3/lib/python3.7/site-packages/numpy/linalg/lapack_lite.cpython-37m-darwin.so'>,\n",
       "   'numpy.linalg._umath_linalg': <module 'numpy.linalg._umath_linalg' from '/Users/nheather/opt/anaconda3/lib/python3.7/site-packages/numpy/linalg/_umath_linalg.cpython-37m-darwin.so'>,\n",
       "   'numpy.lib.function_base': <module 'numpy.lib.function_base' from '/Users/nheather/opt/anaconda3/lib/python3.7/site-packages/numpy/lib/function_base.py'>,\n",
       "   'numpy.lib.histograms': <module 'numpy.lib.histograms' from '/Users/nheather/opt/anaconda3/lib/python3.7/site-packages/numpy/lib/histograms.py'>,\n",
       "   'numpy.lib.stride_tricks': <module 'numpy.lib.stride_tricks' from '/Users/nheather/opt/anaconda3/lib/python3.7/site-packages/numpy/lib/stride_tricks.py'>,\n",
       "   'numpy.lib.nanfunctions': <module 'numpy.lib.nanfunctions' from '/Users/nheather/opt/anaconda3/lib/python3.7/site-packages/numpy/lib/nanfunctions.py'>,\n",
       "   'numpy.lib.shape_base': <module 'numpy.lib.shape_base' from '/Users/nheather/opt/anaconda3/lib/python3.7/site-packages/numpy/lib/shape_base.py'>,\n",
       "   'numpy.lib.polynomial': <module 'numpy.lib.polynomial' from '/Users/nheather/opt/anaconda3/lib/python3.7/site-packages/numpy/lib/polynomial.py'>,\n",
       "   'numpy.lib.utils': <module 'numpy.lib.utils' from '/Users/nheather/opt/anaconda3/lib/python3.7/site-packages/numpy/lib/utils.py'>,\n",
       "   'numpy.lib.arraysetops': <module 'numpy.lib.arraysetops' from '/Users/nheather/opt/anaconda3/lib/python3.7/site-packages/numpy/lib/arraysetops.py'>,\n",
       "   'numpy.lib.npyio': <module 'numpy.lib.npyio' from '/Users/nheather/opt/anaconda3/lib/python3.7/site-packages/numpy/lib/npyio.py'>,\n",
       "   'numpy.lib.format': <module 'numpy.lib.format' from '/Users/nheather/opt/anaconda3/lib/python3.7/site-packages/numpy/lib/format.py'>,\n",
       "   'numpy.lib._datasource': <module 'numpy.lib._datasource' from '/Users/nheather/opt/anaconda3/lib/python3.7/site-packages/numpy/lib/_datasource.py'>,\n",
       "   'numpy.lib._iotools': <module 'numpy.lib._iotools' from '/Users/nheather/opt/anaconda3/lib/python3.7/site-packages/numpy/lib/_iotools.py'>,\n",
       "   'numpy.lib.financial': <module 'numpy.lib.financial' from '/Users/nheather/opt/anaconda3/lib/python3.7/site-packages/numpy/lib/financial.py'>,\n",
       "   'numpy.lib.arrayterator': <module 'numpy.lib.arrayterator' from '/Users/nheather/opt/anaconda3/lib/python3.7/site-packages/numpy/lib/arrayterator.py'>,\n",
       "   'numpy.lib.arraypad': <module 'numpy.lib.arraypad' from '/Users/nheather/opt/anaconda3/lib/python3.7/site-packages/numpy/lib/arraypad.py'>,\n",
       "   'numpy.lib._version': <module 'numpy.lib._version' from '/Users/nheather/opt/anaconda3/lib/python3.7/site-packages/numpy/lib/_version.py'>,\n",
       "   'numpy.fft': <module 'numpy.fft' from '/Users/nheather/opt/anaconda3/lib/python3.7/site-packages/numpy/fft/__init__.py'>,\n",
       "   'numpy.fft._pocketfft': <module 'numpy.fft._pocketfft' from '/Users/nheather/opt/anaconda3/lib/python3.7/site-packages/numpy/fft/_pocketfft.py'>,\n",
       "   'numpy.fft._pocketfft_internal': <module 'numpy.fft._pocketfft_internal' from '/Users/nheather/opt/anaconda3/lib/python3.7/site-packages/numpy/fft/_pocketfft_internal.cpython-37m-darwin.so'>,\n",
       "   'numpy.fft.helper': <module 'numpy.fft.helper' from '/Users/nheather/opt/anaconda3/lib/python3.7/site-packages/numpy/fft/helper.py'>,\n",
       "   'numpy.polynomial': <module 'numpy.polynomial' from '/Users/nheather/opt/anaconda3/lib/python3.7/site-packages/numpy/polynomial/__init__.py'>,\n",
       "   'numpy.polynomial.polynomial': <module 'numpy.polynomial.polynomial' from '/Users/nheather/opt/anaconda3/lib/python3.7/site-packages/numpy/polynomial/polynomial.py'>,\n",
       "   'numpy.polynomial.polyutils': <module 'numpy.polynomial.polyutils' from '/Users/nheather/opt/anaconda3/lib/python3.7/site-packages/numpy/polynomial/polyutils.py'>,\n",
       "   'numpy.polynomial._polybase': <module 'numpy.polynomial._polybase' from '/Users/nheather/opt/anaconda3/lib/python3.7/site-packages/numpy/polynomial/_polybase.py'>,\n",
       "   'numpy.polynomial.chebyshev': <module 'numpy.polynomial.chebyshev' from '/Users/nheather/opt/anaconda3/lib/python3.7/site-packages/numpy/polynomial/chebyshev.py'>,\n",
       "   'numpy.polynomial.legendre': <module 'numpy.polynomial.legendre' from '/Users/nheather/opt/anaconda3/lib/python3.7/site-packages/numpy/polynomial/legendre.py'>,\n",
       "   'numpy.polynomial.hermite': <module 'numpy.polynomial.hermite' from '/Users/nheather/opt/anaconda3/lib/python3.7/site-packages/numpy/polynomial/hermite.py'>,\n",
       "   'numpy.polynomial.hermite_e': <module 'numpy.polynomial.hermite_e' from '/Users/nheather/opt/anaconda3/lib/python3.7/site-packages/numpy/polynomial/hermite_e.py'>,\n",
       "   'numpy.polynomial.laguerre': <module 'numpy.polynomial.laguerre' from '/Users/nheather/opt/anaconda3/lib/python3.7/site-packages/numpy/polynomial/laguerre.py'>,\n",
       "   'numpy.random': <module 'numpy.random' from '/Users/nheather/opt/anaconda3/lib/python3.7/site-packages/numpy/random/__init__.py'>,\n",
       "   'numpy.random._pickle': <module 'numpy.random._pickle' from '/Users/nheather/opt/anaconda3/lib/python3.7/site-packages/numpy/random/_pickle.py'>,\n",
       "   'numpy.random.mtrand': <module 'numpy.random.mtrand' from '/Users/nheather/opt/anaconda3/lib/python3.7/site-packages/numpy/random/mtrand.cpython-37m-darwin.so'>,\n",
       "   'numpy.random._bit_generator': <module 'numpy.random._bit_generator' from '/Users/nheather/opt/anaconda3/lib/python3.7/site-packages/numpy/random/_bit_generator.cpython-37m-darwin.so'>,\n",
       "   'numpy.random._common': <module 'numpy.random._common' from '/Users/nheather/opt/anaconda3/lib/python3.7/site-packages/numpy/random/_common.cpython-37m-darwin.so'>,\n",
       "   'secrets': <module 'secrets' from '/Users/nheather/opt/anaconda3/lib/python3.7/secrets.py'>,\n",
       "   'numpy.random._bounded_integers': <module 'numpy.random._bounded_integers' from '/Users/nheather/opt/anaconda3/lib/python3.7/site-packages/numpy/random/_bounded_integers.cpython-37m-darwin.so'>,\n",
       "   'numpy.random._mt19937': <module 'numpy.random._mt19937' from '/Users/nheather/opt/anaconda3/lib/python3.7/site-packages/numpy/random/_mt19937.cpython-37m-darwin.so'>,\n",
       "   'numpy.random._philox': <module 'numpy.random._philox' from '/Users/nheather/opt/anaconda3/lib/python3.7/site-packages/numpy/random/_philox.cpython-37m-darwin.so'>,\n",
       "   'numpy.random._pcg64': <module 'numpy.random._pcg64' from '/Users/nheather/opt/anaconda3/lib/python3.7/site-packages/numpy/random/_pcg64.cpython-37m-darwin.so'>,\n",
       "   'numpy.random._sfc64': <module 'numpy.random._sfc64' from '/Users/nheather/opt/anaconda3/lib/python3.7/site-packages/numpy/random/_sfc64.cpython-37m-darwin.so'>,\n",
       "   'numpy.random._generator': <module 'numpy.random._generator' from '/Users/nheather/opt/anaconda3/lib/python3.7/site-packages/numpy/random/_generator.cpython-37m-darwin.so'>,\n",
       "   'numpy.ctypeslib': <module 'numpy.ctypeslib' from '/Users/nheather/opt/anaconda3/lib/python3.7/site-packages/numpy/ctypeslib.py'>,\n",
       "   'numpy.ma': <module 'numpy.ma' from '/Users/nheather/opt/anaconda3/lib/python3.7/site-packages/numpy/ma/__init__.py'>,\n",
       "   'numpy.ma.core': <module 'numpy.ma.core' from '/Users/nheather/opt/anaconda3/lib/python3.7/site-packages/numpy/ma/core.py'>,\n",
       "   'numpy.ma.extras': <module 'numpy.ma.extras' from '/Users/nheather/opt/anaconda3/lib/python3.7/site-packages/numpy/ma/extras.py'>,\n",
       "   'pytz': <module 'pytz' from '/Users/nheather/opt/anaconda3/lib/python3.7/site-packages/pytz/__init__.py'>,\n",
       "   'pytz.exceptions': <module 'pytz.exceptions' from '/Users/nheather/opt/anaconda3/lib/python3.7/site-packages/pytz/exceptions.py'>,\n",
       "   'pytz.lazy': <module 'pytz.lazy' from '/Users/nheather/opt/anaconda3/lib/python3.7/site-packages/pytz/lazy.py'>,\n",
       "   'pytz.tzinfo': <module 'pytz.tzinfo' from '/Users/nheather/opt/anaconda3/lib/python3.7/site-packages/pytz/tzinfo.py'>,\n",
       "   'pytz.tzfile': <module 'pytz.tzfile' from '/Users/nheather/opt/anaconda3/lib/python3.7/site-packages/pytz/tzfile.py'>,\n",
       "   'pandas.compat': <module 'pandas.compat' from '/Users/nheather/opt/anaconda3/lib/python3.7/site-packages/pandas/compat/__init__.py'>,\n",
       "   'pandas.compat.numpy': <module 'pandas.compat.numpy' from '/Users/nheather/opt/anaconda3/lib/python3.7/site-packages/pandas/compat/numpy/__init__.py'>,\n",
       "   'pandas._libs': <module 'pandas._libs' from '/Users/nheather/opt/anaconda3/lib/python3.7/site-packages/pandas/_libs/__init__.py'>,\n",
       "   'pandas._libs.tslibs': <module 'pandas._libs.tslibs' from '/Users/nheather/opt/anaconda3/lib/python3.7/site-packages/pandas/_libs/tslibs/__init__.py'>,\n",
       "   'pandas._libs.tslibs.conversion': <module 'pandas._libs.tslibs.conversion' from '/Users/nheather/opt/anaconda3/lib/python3.7/site-packages/pandas/_libs/tslibs/conversion.cpython-37m-darwin.so'>,\n",
       "   'pandas._libs.tslibs.c_timestamp': <module 'pandas._libs.tslibs.c_timestamp' from '/Users/nheather/opt/anaconda3/lib/python3.7/site-packages/pandas/_libs/tslibs/c_timestamp.cpython-37m-darwin.so'>,\n",
       "   'pandas._libs.tslibs.nattype': <module 'pandas._libs.tslibs.nattype' from '/Users/nheather/opt/anaconda3/lib/python3.7/site-packages/pandas/_libs/tslibs/nattype.cpython-37m-darwin.so'>,\n",
       "   '_cython_0_29_15': <module '_cython_0_29_15'>,\n",
       "   'pandas._libs.tslibs.np_datetime': <module 'pandas._libs.tslibs.np_datetime' from '/Users/nheather/opt/anaconda3/lib/python3.7/site-packages/pandas/_libs/tslibs/np_datetime.cpython-37m-darwin.so'>,\n",
       "   'pandas._libs.tslibs.timezones': <module 'pandas._libs.tslibs.timezones' from '/Users/nheather/opt/anaconda3/lib/python3.7/site-packages/pandas/_libs/tslibs/timezones.cpython-37m-darwin.so'>,\n",
       "   'pandas._libs.tslibs.tzconversion': <module 'pandas._libs.tslibs.tzconversion' from '/Users/nheather/opt/anaconda3/lib/python3.7/site-packages/pandas/_libs/tslibs/tzconversion.cpython-37m-darwin.so'>,\n",
       "   'pandas._libs.tslibs.timedeltas': <module 'pandas._libs.tslibs.timedeltas' from '/Users/nheather/opt/anaconda3/lib/python3.7/site-packages/pandas/_libs/tslibs/timedeltas.cpython-37m-darwin.so'>,\n",
       "   'pandas._libs.tslibs.offsets': <module 'pandas._libs.tslibs.offsets' from '/Users/nheather/opt/anaconda3/lib/python3.7/site-packages/pandas/_libs/tslibs/offsets.cpython-37m-darwin.so'>,\n",
       "   'pandas._libs.tslibs.ccalendar': <module 'pandas._libs.tslibs.ccalendar' from '/Users/nheather/opt/anaconda3/lib/python3.7/site-packages/pandas/_libs/tslibs/ccalendar.cpython-37m-darwin.so'>,\n",
       "   'pandas._config': <module 'pandas._config' from '/Users/nheather/opt/anaconda3/lib/python3.7/site-packages/pandas/_config/__init__.py'>,\n",
       "   'pandas._config.config': <module 'pandas._config.config' from '/Users/nheather/opt/anaconda3/lib/python3.7/site-packages/pandas/_config/config.py'>,\n",
       "   'pandas._config.dates': <module 'pandas._config.dates' from '/Users/nheather/opt/anaconda3/lib/python3.7/site-packages/pandas/_config/dates.py'>,\n",
       "   'pandas._config.display': <module 'pandas._config.display' from '/Users/nheather/opt/anaconda3/lib/python3.7/site-packages/pandas/_config/display.py'>,\n",
       "   'pandas._config.localization': <module 'pandas._config.localization' from '/Users/nheather/opt/anaconda3/lib/python3.7/site-packages/pandas/_config/localization.py'>,\n",
       "   'pandas._libs.tslibs.strptime': <module 'pandas._libs.tslibs.strptime' from '/Users/nheather/opt/anaconda3/lib/python3.7/site-packages/pandas/_libs/tslibs/strptime.cpython-37m-darwin.so'>,\n",
       "   'pandas._libs.tslibs.fields': <module 'pandas._libs.tslibs.fields' from '/Users/nheather/opt/anaconda3/lib/python3.7/site-packages/pandas/_libs/tslibs/fields.cpython-37m-darwin.so'>,\n",
       "   'pandas._libs.tslibs.parsing': <module 'pandas._libs.tslibs.parsing' from '/Users/nheather/opt/anaconda3/lib/python3.7/site-packages/pandas/_libs/tslibs/parsing.cpython-37m-darwin.so'>,\n",
       "   'pandas._libs.tslibs.frequencies': <module 'pandas._libs.tslibs.frequencies' from '/Users/nheather/opt/anaconda3/lib/python3.7/site-packages/pandas/_libs/tslibs/frequencies.cpython-37m-darwin.so'>,\n",
       "   'pandas._libs.tslibs.period': <module 'pandas._libs.tslibs.period' from '/Users/nheather/opt/anaconda3/lib/python3.7/site-packages/pandas/_libs/tslibs/period.cpython-37m-darwin.so'>,\n",
       "   'pandas._libs.tslibs.timestamps': <module 'pandas._libs.tslibs.timestamps' from '/Users/nheather/opt/anaconda3/lib/python3.7/site-packages/pandas/_libs/tslibs/timestamps.cpython-37m-darwin.so'>,\n",
       "   'pandas._libs.tslibs.resolution': <module 'pandas._libs.tslibs.resolution' from '/Users/nheather/opt/anaconda3/lib/python3.7/site-packages/pandas/_libs/tslibs/resolution.cpython-37m-darwin.so'>,\n",
       "   'pandas._libs.hashtable': <module 'pandas._libs.hashtable' from '/Users/nheather/opt/anaconda3/lib/python3.7/site-packages/pandas/_libs/hashtable.cpython-37m-darwin.so'>,\n",
       "   'pandas._libs.missing': <module 'pandas._libs.missing' from '/Users/nheather/opt/anaconda3/lib/python3.7/site-packages/pandas/_libs/missing.cpython-37m-darwin.so'>,\n",
       "   'pandas._libs.ops_dispatch': <module 'pandas._libs.ops_dispatch' from '/Users/nheather/opt/anaconda3/lib/python3.7/site-packages/pandas/_libs/ops_dispatch.cpython-37m-darwin.so'>,\n",
       "   'pandas._libs.lib': <module 'pandas._libs.lib' from '/Users/nheather/opt/anaconda3/lib/python3.7/site-packages/pandas/_libs/lib.cpython-37m-darwin.so'>,\n",
       "   'fractions': <module 'fractions' from '/Users/nheather/opt/anaconda3/lib/python3.7/fractions.py'>,\n",
       "   'pandas._libs.tslib': <module 'pandas._libs.tslib' from '/Users/nheather/opt/anaconda3/lib/python3.7/site-packages/pandas/_libs/tslib.cpython-37m-darwin.so'>,\n",
       "   'pandas.core': <module 'pandas.core' from '/Users/nheather/opt/anaconda3/lib/python3.7/site-packages/pandas/core/__init__.py'>,\n",
       "   'pandas.core.config_init': <module 'pandas.core.config_init' from '/Users/nheather/opt/anaconda3/lib/python3.7/site-packages/pandas/core/config_init.py'>,\n",
       "   'pandas.core.api': <module 'pandas.core.api' from '/Users/nheather/opt/anaconda3/lib/python3.7/site-packages/pandas/core/api.py'>,\n",
       "   'pandas.core.dtypes': <module 'pandas.core.dtypes' from '/Users/nheather/opt/anaconda3/lib/python3.7/site-packages/pandas/core/dtypes/__init__.py'>,\n",
       "   'pandas.core.dtypes.dtypes': <module 'pandas.core.dtypes.dtypes' from '/Users/nheather/opt/anaconda3/lib/python3.7/site-packages/pandas/core/dtypes/dtypes.py'>,\n",
       "   'pandas._libs.interval': <module 'pandas._libs.interval' from '/Users/nheather/opt/anaconda3/lib/python3.7/site-packages/pandas/_libs/interval.cpython-37m-darwin.so'>,\n",
       "   'pandas._libs.algos': <module 'pandas._libs.algos' from '/Users/nheather/opt/anaconda3/lib/python3.7/site-packages/pandas/_libs/algos.cpython-37m-darwin.so'>,\n",
       "   'pandas._typing': <module 'pandas._typing' from '/Users/nheather/opt/anaconda3/lib/python3.7/site-packages/pandas/_typing.py'>,\n",
       "   'pandas.core.dtypes.base': <module 'pandas.core.dtypes.base' from '/Users/nheather/opt/anaconda3/lib/python3.7/site-packages/pandas/core/dtypes/base.py'>,\n",
       "   'pandas.errors': <module 'pandas.errors' from '/Users/nheather/opt/anaconda3/lib/python3.7/site-packages/pandas/errors/__init__.py'>,\n",
       "   'pandas.core.dtypes.generic': <module 'pandas.core.dtypes.generic' from '/Users/nheather/opt/anaconda3/lib/python3.7/site-packages/pandas/core/dtypes/generic.py'>,\n",
       "   'pandas.core.dtypes.inference': <module 'pandas.core.dtypes.inference' from '/Users/nheather/opt/anaconda3/lib/python3.7/site-packages/pandas/core/dtypes/inference.py'>,\n",
       "   'pandas.core.dtypes.missing': <module 'pandas.core.dtypes.missing' from '/Users/nheather/opt/anaconda3/lib/python3.7/site-packages/pandas/core/dtypes/missing.py'>,\n",
       "   'pandas.core.dtypes.common': <module 'pandas.core.dtypes.common' from '/Users/nheather/opt/anaconda3/lib/python3.7/site-packages/pandas/core/dtypes/common.py'>,\n",
       "   'pandas.core.algorithms': <module 'pandas.core.algorithms' from '/Users/nheather/opt/anaconda3/lib/python3.7/site-packages/pandas/core/algorithms.py'>,\n",
       "   'pandas.util': <module 'pandas.util' from '/Users/nheather/opt/anaconda3/lib/python3.7/site-packages/pandas/util/__init__.py'>,\n",
       "   'pandas.util._decorators': <module 'pandas.util._decorators' from '/Users/nheather/opt/anaconda3/lib/python3.7/site-packages/pandas/util/_decorators.py'>,\n",
       "   'pandas._libs.properties': <module 'pandas._libs.properties' from '/Users/nheather/opt/anaconda3/lib/python3.7/site-packages/pandas/_libs/properties.cpython-37m-darwin.so'>,\n",
       "   'pandas.core.util': <module 'pandas.core.util' from '/Users/nheather/opt/anaconda3/lib/python3.7/site-packages/pandas/core/util/__init__.py'>,\n",
       "   'pandas.core.util.hashing': <module 'pandas.core.util.hashing' from '/Users/nheather/opt/anaconda3/lib/python3.7/site-packages/pandas/core/util/hashing.py'>,\n",
       "   'pandas._libs.hashing': <module 'pandas._libs.hashing' from '/Users/nheather/opt/anaconda3/lib/python3.7/site-packages/pandas/_libs/hashing.cpython-37m-darwin.so'>,\n",
       "   'pandas.core.dtypes.cast': <module 'pandas.core.dtypes.cast' from '/Users/nheather/opt/anaconda3/lib/python3.7/site-packages/pandas/core/dtypes/cast.py'>,\n",
       "   'pandas.util._validators': <module 'pandas.util._validators' from '/Users/nheather/opt/anaconda3/lib/python3.7/site-packages/pandas/util/_validators.py'>,\n",
       "   'pandas.core.common': <module 'pandas.core.common' from '/Users/nheather/opt/anaconda3/lib/python3.7/site-packages/pandas/core/common.py'>,\n",
       "   'pandas.core.construction': <module 'pandas.core.construction' from '/Users/nheather/opt/anaconda3/lib/python3.7/site-packages/pandas/core/construction.py'>,\n",
       "   'pandas.core.indexers': <module 'pandas.core.indexers' from '/Users/nheather/opt/anaconda3/lib/python3.7/site-packages/pandas/core/indexers.py'>,\n",
       "   'pandas.core.arrays': <module 'pandas.core.arrays' from '/Users/nheather/opt/anaconda3/lib/python3.7/site-packages/pandas/core/arrays/__init__.py'>,\n",
       "   'pandas.core.arrays.base': <module 'pandas.core.arrays.base' from '/Users/nheather/opt/anaconda3/lib/python3.7/site-packages/pandas/core/arrays/base.py'>,\n",
       "   'pandas.compat.numpy.function': <module 'pandas.compat.numpy.function' from '/Users/nheather/opt/anaconda3/lib/python3.7/site-packages/pandas/compat/numpy/function.py'>,\n",
       "   'pandas.core.ops': <module 'pandas.core.ops' from '/Users/nheather/opt/anaconda3/lib/python3.7/site-packages/pandas/core/ops/__init__.py'>,\n",
       "   'pandas.core.ops.array_ops': <module 'pandas.core.ops.array_ops' from '/Users/nheather/opt/anaconda3/lib/python3.7/site-packages/pandas/core/ops/array_ops.py'>,\n",
       "   'pandas._libs.ops': <module 'pandas._libs.ops' from '/Users/nheather/opt/anaconda3/lib/python3.7/site-packages/pandas/_libs/ops.cpython-37m-darwin.so'>,\n",
       "   'pandas.core.ops.missing': <module 'pandas.core.ops.missing' from '/Users/nheather/opt/anaconda3/lib/python3.7/site-packages/pandas/core/ops/missing.py'>,\n",
       "   'pandas.core.ops.roperator': <module 'pandas.core.ops.roperator' from '/Users/nheather/opt/anaconda3/lib/python3.7/site-packages/pandas/core/ops/roperator.py'>,\n",
       "   'pandas.core.ops.dispatch': <module 'pandas.core.ops.dispatch' from '/Users/nheather/opt/anaconda3/lib/python3.7/site-packages/pandas/core/ops/dispatch.py'>,\n",
       "   'pandas.core.ops.invalid': <module 'pandas.core.ops.invalid' from '/Users/nheather/opt/anaconda3/lib/python3.7/site-packages/pandas/core/ops/invalid.py'>,\n",
       "   'pandas.core.ops.common': <module 'pandas.core.ops.common' from '/Users/nheather/opt/anaconda3/lib/python3.7/site-packages/pandas/core/ops/common.py'>,\n",
       "   'pandas.core.ops.docstrings': <module 'pandas.core.ops.docstrings' from '/Users/nheather/opt/anaconda3/lib/python3.7/site-packages/pandas/core/ops/docstrings.py'>,\n",
       "   'pandas.core.ops.mask_ops': <module 'pandas.core.ops.mask_ops' from '/Users/nheather/opt/anaconda3/lib/python3.7/site-packages/pandas/core/ops/mask_ops.py'>,\n",
       "   'pandas.core.ops.methods': <module 'pandas.core.ops.methods' from '/Users/nheather/opt/anaconda3/lib/python3.7/site-packages/pandas/core/ops/methods.py'>,\n",
       "   'pandas.core.missing': <module 'pandas.core.missing' from '/Users/nheather/opt/anaconda3/lib/python3.7/site-packages/pandas/core/missing.py'>,\n",
       "   'pandas.compat._optional': <module 'pandas.compat._optional' from '/Users/nheather/opt/anaconda3/lib/python3.7/site-packages/pandas/compat/_optional.py'>,\n",
       "   'pandas.core.sorting': <module 'pandas.core.sorting' from '/Users/nheather/opt/anaconda3/lib/python3.7/site-packages/pandas/core/sorting.py'>,\n",
       "   'pandas.core.arrays.boolean': <module 'pandas.core.arrays.boolean' from '/Users/nheather/opt/anaconda3/lib/python3.7/site-packages/pandas/core/arrays/boolean.py'>,\n",
       "   'pandas.core.nanops': <module 'pandas.core.nanops' from '/Users/nheather/opt/anaconda3/lib/python3.7/site-packages/pandas/core/nanops.py'>,\n",
       "   'bottleneck': <module 'bottleneck' from '/Users/nheather/opt/anaconda3/lib/python3.7/site-packages/bottleneck/__init__.py'>,\n",
       "   'bottleneck.reduce': <module 'bottleneck.reduce' from '/Users/nheather/opt/anaconda3/lib/python3.7/site-packages/bottleneck/reduce.cpython-37m-darwin.so'>,\n",
       "   'bottleneck.nonreduce': <module 'bottleneck.nonreduce' from '/Users/nheather/opt/anaconda3/lib/python3.7/site-packages/bottleneck/nonreduce.cpython-37m-darwin.so'>,\n",
       "   'bottleneck.nonreduce_axis': <module 'bottleneck.nonreduce_axis' from '/Users/nheather/opt/anaconda3/lib/python3.7/site-packages/bottleneck/nonreduce_axis.cpython-37m-darwin.so'>,\n",
       "   'bottleneck.move': <module 'bottleneck.move' from '/Users/nheather/opt/anaconda3/lib/python3.7/site-packages/bottleneck/move.cpython-37m-darwin.so'>,\n",
       "   'bottleneck.slow': <module 'bottleneck.slow' from '/Users/nheather/opt/anaconda3/lib/python3.7/site-packages/bottleneck/slow/__init__.py'>,\n",
       "   'bottleneck.slow.reduce': <module 'bottleneck.slow.reduce' from '/Users/nheather/opt/anaconda3/lib/python3.7/site-packages/bottleneck/slow/reduce.py'>,\n",
       "   'bottleneck.slow.nonreduce': <module 'bottleneck.slow.nonreduce' from '/Users/nheather/opt/anaconda3/lib/python3.7/site-packages/bottleneck/slow/nonreduce.py'>,\n",
       "   'bottleneck.slow.nonreduce_axis': <module 'bottleneck.slow.nonreduce_axis' from '/Users/nheather/opt/anaconda3/lib/python3.7/site-packages/bottleneck/slow/nonreduce_axis.py'>,\n",
       "   'bottleneck.slow.move': <module 'bottleneck.slow.move' from '/Users/nheather/opt/anaconda3/lib/python3.7/site-packages/bottleneck/slow/move.py'>,\n",
       "   'bottleneck.benchmark': <module 'bottleneck.benchmark' from '/Users/nheather/opt/anaconda3/lib/python3.7/site-packages/bottleneck/benchmark/__init__.py'>,\n",
       "   'bottleneck.benchmark.bench': <module 'bottleneck.benchmark.bench' from '/Users/nheather/opt/anaconda3/lib/python3.7/site-packages/bottleneck/benchmark/bench.py'>,\n",
       "   'bottleneck.benchmark.autotimeit': <module 'bottleneck.benchmark.autotimeit' from '/Users/nheather/opt/anaconda3/lib/python3.7/site-packages/bottleneck/benchmark/autotimeit.py'>,\n",
       "   'bottleneck.benchmark.bench_detailed': <module 'bottleneck.benchmark.bench_detailed' from '/Users/nheather/opt/anaconda3/lib/python3.7/site-packages/bottleneck/benchmark/bench_detailed.py'>,\n",
       "   'bottleneck.tests': <module 'bottleneck.tests' from '/Users/nheather/opt/anaconda3/lib/python3.7/site-packages/bottleneck/tests/__init__.py'>,\n",
       "   'bottleneck.tests.util': <module 'bottleneck.tests.util' from '/Users/nheather/opt/anaconda3/lib/python3.7/site-packages/bottleneck/tests/util.py'>,\n",
       "   'bottleneck._pytesttester': <module 'bottleneck._pytesttester' from '/Users/nheather/opt/anaconda3/lib/python3.7/site-packages/bottleneck/_pytesttester.py'>,\n",
       "   'bottleneck._version': <module 'bottleneck._version' from '/Users/nheather/opt/anaconda3/lib/python3.7/site-packages/bottleneck/_version.py'>,\n",
       "   'pandas.core.arrays.masked': <module 'pandas.core.arrays.masked' from '/Users/nheather/opt/anaconda3/lib/python3.7/site-packages/pandas/core/arrays/masked.py'>,\n",
       "   'pandas.core.arrays.categorical': <module 'pandas.core.arrays.categorical' from '/Users/nheather/opt/anaconda3/lib/python3.7/site-packages/pandas/core/arrays/categorical.py'>,\n",
       "   'pandas.core.accessor': <module 'pandas.core.accessor' from '/Users/nheather/opt/anaconda3/lib/python3.7/site-packages/pandas/core/accessor.py'>,\n",
       "   'pandas.core.base': <module 'pandas.core.base' from '/Users/nheather/opt/anaconda3/lib/python3.7/site-packages/pandas/core/base.py'>,\n",
       "   'pandas.io': <module 'pandas.io' from '/Users/nheather/opt/anaconda3/lib/python3.7/site-packages/pandas/io/__init__.py'>,\n",
       "   'pandas.io.formats': <module 'pandas.io.formats' from '/Users/nheather/opt/anaconda3/lib/python3.7/site-packages/pandas/io/formats/__init__.py'>,\n",
       "   'pandas.io.formats.console': <module 'pandas.io.formats.console' from '/Users/nheather/opt/anaconda3/lib/python3.7/site-packages/pandas/io/formats/console.py'>,\n",
       "   'pandas.core.arrays.datetimes': <module 'pandas.core.arrays.datetimes' from '/Users/nheather/opt/anaconda3/lib/python3.7/site-packages/pandas/core/arrays/datetimes.py'>,\n",
       "   'pandas.core.arrays.datetimelike': <module 'pandas.core.arrays.datetimelike' from '/Users/nheather/opt/anaconda3/lib/python3.7/site-packages/pandas/core/arrays/datetimelike.py'>,\n",
       "   'pandas.tseries': <module 'pandas.tseries' from '/Users/nheather/opt/anaconda3/lib/python3.7/site-packages/pandas/tseries/__init__.py'>,\n",
       "   'pandas.tseries.frequencies': <module 'pandas.tseries.frequencies' from '/Users/nheather/opt/anaconda3/lib/python3.7/site-packages/pandas/tseries/frequencies.py'>,\n",
       "   'pandas.tseries.offsets': <module 'pandas.tseries.offsets' from '/Users/nheather/opt/anaconda3/lib/python3.7/site-packages/pandas/tseries/offsets.py'>,\n",
       "   'dateutil.easter': <module 'dateutil.easter' from '/Users/nheather/opt/anaconda3/lib/python3.7/site-packages/dateutil/easter.py'>,\n",
       "   'pandas.core.arrays._ranges': <module 'pandas.core.arrays._ranges' from '/Users/nheather/opt/anaconda3/lib/python3.7/site-packages/pandas/core/arrays/_ranges.py'>,\n",
       "   'pandas.core.arrays.integer': <module 'pandas.core.arrays.integer' from '/Users/nheather/opt/anaconda3/lib/python3.7/site-packages/pandas/core/arrays/integer.py'>,\n",
       "   'pandas.core.tools': <module 'pandas.core.tools' from '/Users/nheather/opt/anaconda3/lib/python3.7/site-packages/pandas/core/tools/__init__.py'>,\n",
       "   'pandas.core.tools.numeric': <module 'pandas.core.tools.numeric' from '/Users/nheather/opt/anaconda3/lib/python3.7/site-packages/pandas/core/tools/numeric.py'>,\n",
       "   'pandas.core.arrays.interval': <module 'pandas.core.arrays.interval' from '/Users/nheather/opt/anaconda3/lib/python3.7/site-packages/pandas/core/arrays/interval.py'>,\n",
       "   'pandas.core.indexes': <module 'pandas.core.indexes' from '/Users/nheather/opt/anaconda3/lib/python3.7/site-packages/pandas/core/indexes/__init__.py'>,\n",
       "   'pandas.core.indexes.base': <module 'pandas.core.indexes.base' from '/Users/nheather/opt/anaconda3/lib/python3.7/site-packages/pandas/core/indexes/base.py'>,\n",
       "   'pandas._libs.index': <module 'pandas._libs.index' from '/Users/nheather/opt/anaconda3/lib/python3.7/site-packages/pandas/_libs/index.cpython-37m-darwin.so'>,\n",
       "   'pandas._libs.join': <module 'pandas._libs.join' from '/Users/nheather/opt/anaconda3/lib/python3.7/site-packages/pandas/_libs/join.cpython-37m-darwin.so'>,\n",
       "   'pandas.core.dtypes.concat': <module 'pandas.core.dtypes.concat' from '/Users/nheather/opt/anaconda3/lib/python3.7/site-packages/pandas/core/dtypes/concat.py'>,\n",
       "   'pandas.core.indexes.frozen': <module 'pandas.core.indexes.frozen' from '/Users/nheather/opt/anaconda3/lib/python3.7/site-packages/pandas/core/indexes/frozen.py'>,\n",
       "   'pandas.io.formats.printing': <module 'pandas.io.formats.printing' from '/Users/nheather/opt/anaconda3/lib/python3.7/site-packages/pandas/io/formats/printing.py'>,\n",
       "   'pandas.core.strings': <module 'pandas.core.strings' from '/Users/nheather/opt/anaconda3/lib/python3.7/site-packages/pandas/core/strings.py'>,\n",
       "   'pandas.core.arrays.numpy_': <module 'pandas.core.arrays.numpy_' from '/Users/nheather/opt/anaconda3/lib/python3.7/site-packages/pandas/core/arrays/numpy_.py'>,\n",
       "   'pandas.core.arrays.period': <module 'pandas.core.arrays.period' from '/Users/nheather/opt/anaconda3/lib/python3.7/site-packages/pandas/core/arrays/period.py'>,\n",
       "   'pandas.core.arrays.sparse': <module 'pandas.core.arrays.sparse' from '/Users/nheather/opt/anaconda3/lib/python3.7/site-packages/pandas/core/arrays/sparse/__init__.py'>,\n",
       "   'pandas.core.arrays.sparse.accessor': <module 'pandas.core.arrays.sparse.accessor' from '/Users/nheather/opt/anaconda3/lib/python3.7/site-packages/pandas/core/arrays/sparse/accessor.py'>,\n",
       "   'pandas.core.arrays.sparse.array': <module 'pandas.core.arrays.sparse.array' from '/Users/nheather/opt/anaconda3/lib/python3.7/site-packages/pandas/core/arrays/sparse/array.py'>,\n",
       "   'pandas._libs.sparse': <module 'pandas._libs.sparse' from '/Users/nheather/opt/anaconda3/lib/python3.7/site-packages/pandas/_libs/sparse.cpython-37m-darwin.so'>,\n",
       "   'pandas.core.arrays.sparse.dtype': <module 'pandas.core.arrays.sparse.dtype' from '/Users/nheather/opt/anaconda3/lib/python3.7/site-packages/pandas/core/arrays/sparse/dtype.py'>,\n",
       "   'pandas.core.arrays.string_': <module 'pandas.core.arrays.string_' from '/Users/nheather/opt/anaconda3/lib/python3.7/site-packages/pandas/core/arrays/string_.py'>,\n",
       "   'pandas.core.arrays.timedeltas': <module 'pandas.core.arrays.timedeltas' from '/Users/nheather/opt/anaconda3/lib/python3.7/site-packages/pandas/core/arrays/timedeltas.py'>,\n",
       "   'pandas.core.groupby': <module 'pandas.core.groupby' from '/Users/nheather/opt/anaconda3/lib/python3.7/site-packages/pandas/core/groupby/__init__.py'>,\n",
       "   'pandas.core.groupby.generic': <module 'pandas.core.groupby.generic' from '/Users/nheather/opt/anaconda3/lib/python3.7/site-packages/pandas/core/groupby/generic.py'>,\n",
       "   'pandas.core.frame': <module 'pandas.core.frame' from '/Users/nheather/opt/anaconda3/lib/python3.7/site-packages/pandas/core/frame.py'>,\n",
       "   'pandas.core.generic': <module 'pandas.core.generic' from '/Users/nheather/opt/anaconda3/lib/python3.7/site-packages/pandas/core/generic.py'>,\n",
       "   'pandas.core.indexes.api': <module 'pandas.core.indexes.api' from '/Users/nheather/opt/anaconda3/lib/python3.7/site-packages/pandas/core/indexes/api.py'>,\n",
       "   'pandas.core.indexes.category': <module 'pandas.core.indexes.category' from '/Users/nheather/opt/anaconda3/lib/python3.7/site-packages/pandas/core/indexes/category.py'>,\n",
       "   'pandas.core.indexes.extension': <module 'pandas.core.indexes.extension' from '/Users/nheather/opt/anaconda3/lib/python3.7/site-packages/pandas/core/indexes/extension.py'>,\n",
       "   'pandas.core.indexes.datetimes': <module 'pandas.core.indexes.datetimes' from '/Users/nheather/opt/anaconda3/lib/python3.7/site-packages/pandas/core/indexes/datetimes.py'>,\n",
       "   'pandas.core.indexes.datetimelike': <module 'pandas.core.indexes.datetimelike' from '/Users/nheather/opt/anaconda3/lib/python3.7/site-packages/pandas/core/indexes/datetimelike.py'>,\n",
       "   'pandas.core.indexes.numeric': <module 'pandas.core.indexes.numeric' from '/Users/nheather/opt/anaconda3/lib/python3.7/site-packages/pandas/core/indexes/numeric.py'>,\n",
       "   'pandas.core.tools.timedeltas': <module 'pandas.core.tools.timedeltas' from '/Users/nheather/opt/anaconda3/lib/python3.7/site-packages/pandas/core/tools/timedeltas.py'>,\n",
       "   'pandas.core.tools.datetimes': <module 'pandas.core.tools.datetimes' from '/Users/nheather/opt/anaconda3/lib/python3.7/site-packages/pandas/core/tools/datetimes.py'>,\n",
       "   'pandas.arrays': <module 'pandas.arrays' from '/Users/nheather/opt/anaconda3/lib/python3.7/site-packages/pandas/arrays/__init__.py'>,\n",
       "   'pandas.core.indexes.interval': <module 'pandas.core.indexes.interval' from '/Users/nheather/opt/anaconda3/lib/python3.7/site-packages/pandas/core/indexes/interval.py'>,\n",
       "   'pandas.util._exceptions': <module 'pandas.util._exceptions' from '/Users/nheather/opt/anaconda3/lib/python3.7/site-packages/pandas/util/_exceptions.py'>,\n",
       "   'pandas.core.indexes.multi': <module 'pandas.core.indexes.multi' from '/Users/nheather/opt/anaconda3/lib/python3.7/site-packages/pandas/core/indexes/multi.py'>,\n",
       "   'pandas.core.indexes.timedeltas': <module 'pandas.core.indexes.timedeltas' from '/Users/nheather/opt/anaconda3/lib/python3.7/site-packages/pandas/core/indexes/timedeltas.py'>,\n",
       "   'pandas.core.indexes.period': <module 'pandas.core.indexes.period' from '/Users/nheather/opt/anaconda3/lib/python3.7/site-packages/pandas/core/indexes/period.py'>,\n",
       "   'pandas.core.indexes.range': <module 'pandas.core.indexes.range' from '/Users/nheather/opt/anaconda3/lib/python3.7/site-packages/pandas/core/indexes/range.py'>,\n",
       "   'pandas.core.indexing': <module 'pandas.core.indexing' from '/Users/nheather/opt/anaconda3/lib/python3.7/site-packages/pandas/core/indexing.py'>,\n",
       "   'pandas._libs.indexing': <module 'pandas._libs.indexing' from '/Users/nheather/opt/anaconda3/lib/python3.7/site-packages/pandas/_libs/indexing.cpython-37m-darwin.so'>,\n",
       "   'pandas.core.internals': <module 'pandas.core.internals' from '/Users/nheather/opt/anaconda3/lib/python3.7/site-packages/pandas/core/internals/__init__.py'>,\n",
       "   'pandas.core.internals.blocks': <module 'pandas.core.internals.blocks' from '/Users/nheather/opt/anaconda3/lib/python3.7/site-packages/pandas/core/internals/blocks.py'>,\n",
       "   'pandas._libs.writers': <module 'pandas._libs.writers' from '/Users/nheather/opt/anaconda3/lib/python3.7/site-packages/pandas/_libs/writers.cpython-37m-darwin.so'>,\n",
       "   'pandas._libs.internals': <module 'pandas._libs.internals' from '/Users/nheather/opt/anaconda3/lib/python3.7/site-packages/pandas/_libs/internals.cpython-37m-darwin.so'>,\n",
       "   'pandas.core.internals.managers': <module 'pandas.core.internals.managers' from '/Users/nheather/opt/anaconda3/lib/python3.7/site-packages/pandas/core/internals/managers.py'>,\n",
       "   'pandas.core.internals.concat': <module 'pandas.core.internals.concat' from '/Users/nheather/opt/anaconda3/lib/python3.7/site-packages/pandas/core/internals/concat.py'>,\n",
       "   ...}),\n",
       " ('path',\n",
       "  ['/Users/nheather/Code/MLProjects',\n",
       "   '/Users/nheather/opt/anaconda3/lib/python37.zip',\n",
       "   '/Users/nheather/opt/anaconda3/lib/python3.7',\n",
       "   '/Users/nheather/opt/anaconda3/lib/python3.7/lib-dynload',\n",
       "   '',\n",
       "   '/Users/nheather/opt/anaconda3/lib/python3.7/site-packages',\n",
       "   '/Users/nheather/opt/anaconda3/lib/python3.7/site-packages/aeosa',\n",
       "   '/Users/nheather/opt/anaconda3/lib/python3.7/site-packages/IPython/extensions',\n",
       "   '/Users/nheather/.ipython']),\n",
       " ('path_hooks',\n",
       "  [zipimport.zipimporter,\n",
       "   <function _frozen_importlib_external.FileFinder.path_hook.<locals>.path_hook_for_FileFinder(path)>]),\n",
       " ('path_importer_cache',\n",
       "  {'/Users/nheather/opt/anaconda3/lib/python37.zip': None,\n",
       "   '/Users/nheather/opt/anaconda3/lib/python3.7': FileFinder('/Users/nheather/opt/anaconda3/lib/python3.7'),\n",
       "   '/Users/nheather/opt/anaconda3/lib/python3.7/encodings': FileFinder('/Users/nheather/opt/anaconda3/lib/python3.7/encodings'),\n",
       "   '/Users/nheather/opt/anaconda3/lib/python3.7/importlib': FileFinder('/Users/nheather/opt/anaconda3/lib/python3.7/importlib'),\n",
       "   '/Users/nheather/opt/anaconda3/lib/python3.7/lib-dynload': FileFinder('/Users/nheather/opt/anaconda3/lib/python3.7/lib-dynload'),\n",
       "   '/Users/nheather/opt/anaconda3/lib/python3.7/site-packages': FileFinder('/Users/nheather/opt/anaconda3/lib/python3.7/site-packages'),\n",
       "   '/Users/nheather/opt/anaconda3/lib/python3.7/site-packages/aeosa': FileFinder('/Users/nheather/opt/anaconda3/lib/python3.7/site-packages/aeosa'),\n",
       "   '/Users/nheather/Code/MLProjects': FileFinder('/Users/nheather/Code/MLProjects'),\n",
       "   '/Users/nheather/opt/anaconda3/lib/python3.7/site-packages/ipykernel': FileFinder('/Users/nheather/opt/anaconda3/lib/python3.7/site-packages/ipykernel'),\n",
       "   '/Users/nheather/opt/anaconda3/lib/python3.7/json': FileFinder('/Users/nheather/opt/anaconda3/lib/python3.7/json'),\n",
       "   '/Users/nheather/opt/anaconda3/lib/python3.7/collections': FileFinder('/Users/nheather/opt/anaconda3/lib/python3.7/collections'),\n",
       "   '/Users/nheather/opt/anaconda3/lib/python3.7/site-packages/IPython': FileFinder('/Users/nheather/opt/anaconda3/lib/python3.7/site-packages/IPython'),\n",
       "   '/Users/nheather/opt/anaconda3/lib/python3.7/site-packages/IPython/core': FileFinder('/Users/nheather/opt/anaconda3/lib/python3.7/site-packages/IPython/core'),\n",
       "   '/Users/nheather/opt/anaconda3/lib/python3.7/site-packages/IPython/extensions': FileFinder('/Users/nheather/opt/anaconda3/lib/python3.7/site-packages/IPython/extensions'),\n",
       "   '/Users/nheather/opt/anaconda3/lib/python3.7/site-packages/traitlets': FileFinder('/Users/nheather/opt/anaconda3/lib/python3.7/site-packages/traitlets'),\n",
       "   '/Users/nheather/opt/anaconda3/lib/python3.7/site-packages/traitlets/utils': FileFinder('/Users/nheather/opt/anaconda3/lib/python3.7/site-packages/traitlets/utils'),\n",
       "   '/Users/nheather/opt/anaconda3/lib/python3.7/site-packages/ipython_genutils': FileFinder('/Users/nheather/opt/anaconda3/lib/python3.7/site-packages/ipython_genutils'),\n",
       "   '/Users/nheather/opt/anaconda3/lib/python3.7/site-packages/traitlets/config': FileFinder('/Users/nheather/opt/anaconda3/lib/python3.7/site-packages/traitlets/config'),\n",
       "   '/Users/nheather/opt/anaconda3/lib/python3.7/urllib': FileFinder('/Users/nheather/opt/anaconda3/lib/python3.7/urllib'),\n",
       "   '/Users/nheather/opt/anaconda3/lib/python3.7/site-packages/IPython/utils': FileFinder('/Users/nheather/opt/anaconda3/lib/python3.7/site-packages/IPython/utils'),\n",
       "   '/Users/nheather/opt/anaconda3/lib/python3.7/site-packages/pygments': FileFinder('/Users/nheather/opt/anaconda3/lib/python3.7/site-packages/pygments'),\n",
       "   '/Users/nheather/opt/anaconda3/lib/python3.7/site-packages/IPython/testing': FileFinder('/Users/nheather/opt/anaconda3/lib/python3.7/site-packages/IPython/testing'),\n",
       "   '/Users/nheather/opt/anaconda3/lib/python3.7/site-packages/pexpect': FileFinder('/Users/nheather/opt/anaconda3/lib/python3.7/site-packages/pexpect'),\n",
       "   '/Users/nheather/opt/anaconda3/lib/python3.7/site-packages/ptyprocess': FileFinder('/Users/nheather/opt/anaconda3/lib/python3.7/site-packages/ptyprocess'),\n",
       "   '/Users/nheather/opt/anaconda3/lib/python3.7/site-packages/IPython/terminal': FileFinder('/Users/nheather/opt/anaconda3/lib/python3.7/site-packages/IPython/terminal'),\n",
       "   '/Users/nheather/opt/anaconda3/lib/python3.7/site-packages/IPython/lib': FileFinder('/Users/nheather/opt/anaconda3/lib/python3.7/site-packages/IPython/lib'),\n",
       "   '/Users/nheather/opt/anaconda3/lib/python3.7/site-packages/pygments/lexers': FileFinder('/Users/nheather/opt/anaconda3/lib/python3.7/site-packages/pygments/lexers'),\n",
       "   '/Users/nheather/opt/anaconda3/lib/python3.7/site-packages/pygments/formatters': FileFinder('/Users/nheather/opt/anaconda3/lib/python3.7/site-packages/pygments/formatters'),\n",
       "   '/Users/nheather/opt/anaconda3/lib/python3.7/site-packages/backcall': FileFinder('/Users/nheather/opt/anaconda3/lib/python3.7/site-packages/backcall'),\n",
       "   '/Users/nheather/opt/anaconda3/lib/python3.7/sqlite3': FileFinder('/Users/nheather/opt/anaconda3/lib/python3.7/sqlite3'),\n",
       "   '/Users/nheather/opt/anaconda3/lib/python3.7/html': FileFinder('/Users/nheather/opt/anaconda3/lib/python3.7/html'),\n",
       "   '/Users/nheather/opt/anaconda3/lib/python3.7/asyncio': FileFinder('/Users/nheather/opt/anaconda3/lib/python3.7/asyncio'),\n",
       "   '/Users/nheather/opt/anaconda3/lib/python3.7/concurrent': FileFinder('/Users/nheather/opt/anaconda3/lib/python3.7/concurrent'),\n",
       "   '/Users/nheather/opt/anaconda3/lib/python3.7/concurrent/futures': FileFinder('/Users/nheather/opt/anaconda3/lib/python3.7/concurrent/futures'),\n",
       "   '/Users/nheather/opt/anaconda3/lib/python3.7/site-packages/prompt_toolkit': FileFinder('/Users/nheather/opt/anaconda3/lib/python3.7/site-packages/prompt_toolkit'),\n",
       "   '/Users/nheather/opt/anaconda3/lib/python3.7/site-packages/prompt_toolkit/application': FileFinder('/Users/nheather/opt/anaconda3/lib/python3.7/site-packages/prompt_toolkit/application'),\n",
       "   '/Users/nheather/opt/anaconda3/lib/python3.7/site-packages/prompt_toolkit/eventloop': FileFinder('/Users/nheather/opt/anaconda3/lib/python3.7/site-packages/prompt_toolkit/eventloop'),\n",
       "   '/Users/nheather/opt/anaconda3/lib/python3.7/site-packages/wcwidth': FileFinder('/Users/nheather/opt/anaconda3/lib/python3.7/site-packages/wcwidth'),\n",
       "   '/Users/nheather/opt/anaconda3/lib/python3.7/site-packages/prompt_toolkit/clipboard': FileFinder('/Users/nheather/opt/anaconda3/lib/python3.7/site-packages/prompt_toolkit/clipboard'),\n",
       "   '/Users/nheather/opt/anaconda3/lib/python3.7/site-packages/prompt_toolkit/filters': FileFinder('/Users/nheather/opt/anaconda3/lib/python3.7/site-packages/prompt_toolkit/filters'),\n",
       "   '/Users/nheather/opt/anaconda3/lib/python3.7/site-packages/prompt_toolkit/completion': FileFinder('/Users/nheather/opt/anaconda3/lib/python3.7/site-packages/prompt_toolkit/completion'),\n",
       "   '/Users/nheather/opt/anaconda3/lib/python3.7/site-packages/prompt_toolkit/formatted_text': FileFinder('/Users/nheather/opt/anaconda3/lib/python3.7/site-packages/prompt_toolkit/formatted_text'),\n",
       "   '/Users/nheather/opt/anaconda3/lib/python3.7/site-packages/prompt_toolkit/output': FileFinder('/Users/nheather/opt/anaconda3/lib/python3.7/site-packages/prompt_toolkit/output'),\n",
       "   '/Users/nheather/opt/anaconda3/lib/python3.7/site-packages/prompt_toolkit/styles': FileFinder('/Users/nheather/opt/anaconda3/lib/python3.7/site-packages/prompt_toolkit/styles'),\n",
       "   '/Users/nheather/opt/anaconda3/lib/python3.7/xml': FileFinder('/Users/nheather/opt/anaconda3/lib/python3.7/xml'),\n",
       "   '/Users/nheather/opt/anaconda3/lib/python3.7/xml/dom': FileFinder('/Users/nheather/opt/anaconda3/lib/python3.7/xml/dom'),\n",
       "   '/Users/nheather/opt/anaconda3/lib/python3.7/site-packages/prompt_toolkit/key_binding': FileFinder('/Users/nheather/opt/anaconda3/lib/python3.7/site-packages/prompt_toolkit/key_binding'),\n",
       "   '/Users/nheather/opt/anaconda3/lib/python3.7/site-packages/prompt_toolkit/input': FileFinder('/Users/nheather/opt/anaconda3/lib/python3.7/site-packages/prompt_toolkit/input'),\n",
       "   '/Users/nheather/opt/anaconda3/lib/python3.7/site-packages/prompt_toolkit/key_binding/bindings': FileFinder('/Users/nheather/opt/anaconda3/lib/python3.7/site-packages/prompt_toolkit/key_binding/bindings'),\n",
       "   '/Users/nheather/opt/anaconda3/lib/python3.7/site-packages/prompt_toolkit/layout': FileFinder('/Users/nheather/opt/anaconda3/lib/python3.7/site-packages/prompt_toolkit/layout'),\n",
       "   '/Users/nheather/opt/anaconda3/lib/python3.7/site-packages/prompt_toolkit/lexers': FileFinder('/Users/nheather/opt/anaconda3/lib/python3.7/site-packages/prompt_toolkit/lexers'),\n",
       "   '/Users/nheather/opt/anaconda3/lib/python3.7/site-packages/prompt_toolkit/shortcuts': FileFinder('/Users/nheather/opt/anaconda3/lib/python3.7/site-packages/prompt_toolkit/shortcuts'),\n",
       "   '/Users/nheather/opt/anaconda3/lib/python3.7/site-packages/prompt_toolkit/widgets': FileFinder('/Users/nheather/opt/anaconda3/lib/python3.7/site-packages/prompt_toolkit/widgets'),\n",
       "   '/Users/nheather/opt/anaconda3/lib/python3.7/site-packages/prompt_toolkit/shortcuts/progress_bar': FileFinder('/Users/nheather/opt/anaconda3/lib/python3.7/site-packages/prompt_toolkit/shortcuts/progress_bar'),\n",
       "   '/Users/nheather/opt/anaconda3/lib/python3.7/site-packages/jedi': FileFinder('/Users/nheather/opt/anaconda3/lib/python3.7/site-packages/jedi'),\n",
       "   '/Users/nheather/opt/anaconda3/lib/python3.7/site-packages/parso': FileFinder('/Users/nheather/opt/anaconda3/lib/python3.7/site-packages/parso'),\n",
       "   '/Users/nheather/opt/anaconda3/lib/python3.7/site-packages/parso/pgen2': FileFinder('/Users/nheather/opt/anaconda3/lib/python3.7/site-packages/parso/pgen2'),\n",
       "   '/Users/nheather/opt/anaconda3/lib/python3.7/site-packages/parso/python': FileFinder('/Users/nheather/opt/anaconda3/lib/python3.7/site-packages/parso/python'),\n",
       "   '/Users/nheather/opt/anaconda3/lib/python3.7/site-packages/colorama': FileFinder('/Users/nheather/opt/anaconda3/lib/python3.7/site-packages/colorama'),\n",
       "   '/Users/nheather/opt/anaconda3/lib/python3.7/ctypes': FileFinder('/Users/nheather/opt/anaconda3/lib/python3.7/ctypes'),\n",
       "   '/Users/nheather/opt/anaconda3/lib/python3.7/site-packages/jedi/api': FileFinder('/Users/nheather/opt/anaconda3/lib/python3.7/site-packages/jedi/api'),\n",
       "   '/Users/nheather/opt/anaconda3/lib/python3.7/site-packages/jedi/evaluate': FileFinder('/Users/nheather/opt/anaconda3/lib/python3.7/site-packages/jedi/evaluate'),\n",
       "   '/Users/nheather/opt/anaconda3/lib/python3.7/site-packages/jedi/common': FileFinder('/Users/nheather/opt/anaconda3/lib/python3.7/site-packages/jedi/common'),\n",
       "   '/Users/nheather/opt/anaconda3/lib/python3.7/site-packages/jedi/evaluate/compiled': FileFinder('/Users/nheather/opt/anaconda3/lib/python3.7/site-packages/jedi/evaluate/compiled'),\n",
       "   '/Users/nheather/opt/anaconda3/lib/python3.7/site-packages/jedi/evaluate/gradual': FileFinder('/Users/nheather/opt/anaconda3/lib/python3.7/site-packages/jedi/evaluate/gradual'),\n",
       "   '/Users/nheather/opt/anaconda3/lib/python3.7/site-packages/jedi/evaluate/context': FileFinder('/Users/nheather/opt/anaconda3/lib/python3.7/site-packages/jedi/evaluate/context'),\n",
       "   '/Users/nheather/opt/anaconda3/lib/python3.7/pydoc_data': FileFinder('/Users/nheather/opt/anaconda3/lib/python3.7/pydoc_data'),\n",
       "   '/Users/nheather/opt/anaconda3/lib/python3.7/site-packages/jedi/evaluate/compiled/subprocess': FileFinder('/Users/nheather/opt/anaconda3/lib/python3.7/site-packages/jedi/evaluate/compiled/subprocess'),\n",
       "   '/Users/nheather/opt/anaconda3/lib/python3.7/site-packages/IPython/core/magics': FileFinder('/Users/nheather/opt/anaconda3/lib/python3.7/site-packages/IPython/core/magics'),\n",
       "   '/Users/nheather/opt/anaconda3/lib/python3.7/http': FileFinder('/Users/nheather/opt/anaconda3/lib/python3.7/http'),\n",
       "   '/Users/nheather/opt/anaconda3/lib/python3.7/email': FileFinder('/Users/nheather/opt/anaconda3/lib/python3.7/email'),\n",
       "   '/Users/nheather/opt/anaconda3/lib/python3.7/site-packages/jupyter_client': FileFinder('/Users/nheather/opt/anaconda3/lib/python3.7/site-packages/jupyter_client'),\n",
       "   '/Users/nheather/opt/anaconda3/lib/python3.7/site-packages/zmq': FileFinder('/Users/nheather/opt/anaconda3/lib/python3.7/site-packages/zmq'),\n",
       "   '/Users/nheather/opt/anaconda3/lib/python3.7/site-packages/zmq/backend': FileFinder('/Users/nheather/opt/anaconda3/lib/python3.7/site-packages/zmq/backend'),\n",
       "   '/Users/nheather/opt/anaconda3/lib/python3.7/site-packages/zmq/backend/cython': FileFinder('/Users/nheather/opt/anaconda3/lib/python3.7/site-packages/zmq/backend/cython'),\n",
       "   '/Users/nheather/opt/anaconda3/lib/python3.7/site-packages/zmq/sugar': FileFinder('/Users/nheather/opt/anaconda3/lib/python3.7/site-packages/zmq/sugar'),\n",
       "   '/Users/nheather/opt/anaconda3/lib/python3.7/site-packages/zmq/utils': FileFinder('/Users/nheather/opt/anaconda3/lib/python3.7/site-packages/zmq/utils'),\n",
       "   '/Users/nheather/opt/anaconda3/lib/python3.7/site-packages/jupyter_core': FileFinder('/Users/nheather/opt/anaconda3/lib/python3.7/site-packages/jupyter_core'),\n",
       "   '/Users/nheather/opt/anaconda3/lib/python3.7/site-packages/jupyter_client/blocking': FileFinder('/Users/nheather/opt/anaconda3/lib/python3.7/site-packages/jupyter_client/blocking'),\n",
       "   '/Users/nheather/opt/anaconda3/lib/python3.7/site-packages/tornado': FileFinder('/Users/nheather/opt/anaconda3/lib/python3.7/site-packages/tornado'),\n",
       "   '/Users/nheather/opt/anaconda3/lib/python3.7/logging': FileFinder('/Users/nheather/opt/anaconda3/lib/python3.7/logging'),\n",
       "   '/Users/nheather/opt/anaconda3/lib/python3.7/site-packages/zmq/eventloop': FileFinder('/Users/nheather/opt/anaconda3/lib/python3.7/site-packages/zmq/eventloop'),\n",
       "   '/Users/nheather/opt/anaconda3/lib/python3.7/site-packages/tornado/platform': FileFinder('/Users/nheather/opt/anaconda3/lib/python3.7/site-packages/tornado/platform'),\n",
       "   '/Users/nheather/opt/anaconda3/lib/python3.7/site-packages/dateutil': FileFinder('/Users/nheather/opt/anaconda3/lib/python3.7/site-packages/dateutil'),\n",
       "   '/Users/nheather/opt/anaconda3/lib/python3.7/site-packages/dateutil/parser': FileFinder('/Users/nheather/opt/anaconda3/lib/python3.7/site-packages/dateutil/parser'),\n",
       "   '/Users/nheather/opt/anaconda3/lib/python3.7/site-packages/dateutil/tz': FileFinder('/Users/nheather/opt/anaconda3/lib/python3.7/site-packages/dateutil/tz'),\n",
       "   '/Users/nheather/opt/anaconda3/lib/python3.7/site-packages/ipykernel/comm': FileFinder('/Users/nheather/opt/anaconda3/lib/python3.7/site-packages/ipykernel/comm'),\n",
       "   '/Users/nheather/opt/anaconda3/lib/python3.7/distutils': FileFinder('/Users/nheather/opt/anaconda3/lib/python3.7/distutils'),\n",
       "   '/Users/nheather/.ipython': FileFinder('/Users/nheather/.ipython'),\n",
       "   '/Users/nheather/opt/anaconda3/lib/python3.7/xml/parsers': FileFinder('/Users/nheather/opt/anaconda3/lib/python3.7/xml/parsers'),\n",
       "   '/Users/nheather/opt/anaconda3/lib/python3.7/site-packages/appnope': FileFinder('/Users/nheather/opt/anaconda3/lib/python3.7/site-packages/appnope'),\n",
       "   '/Users/nheather/opt/anaconda3/lib/python3.7/ctypes/macholib': FileFinder('/Users/nheather/opt/anaconda3/lib/python3.7/ctypes/macholib'),\n",
       "   '/Users/nheather/.ipython/extensions': FileFinder('/Users/nheather/.ipython/extensions'),\n",
       "   '/Users/nheather/opt/anaconda3/lib/python3.7/site-packages/numpy': FileFinder('/Users/nheather/opt/anaconda3/lib/python3.7/site-packages/numpy'),\n",
       "   '/Users/nheather/opt/anaconda3/lib/python3.7/site-packages/mkl': FileFinder('/Users/nheather/opt/anaconda3/lib/python3.7/site-packages/mkl'),\n",
       "   '/Users/nheather/opt/anaconda3/lib/python3.7/site-packages/numpy/core': FileFinder('/Users/nheather/opt/anaconda3/lib/python3.7/site-packages/numpy/core'),\n",
       "   '/Users/nheather/opt/anaconda3/lib/python3.7/site-packages/numpy/compat': FileFinder('/Users/nheather/opt/anaconda3/lib/python3.7/site-packages/numpy/compat'),\n",
       "   '/Users/nheather/opt/anaconda3/lib/python3.7/site-packages/numpy/lib': FileFinder('/Users/nheather/opt/anaconda3/lib/python3.7/site-packages/numpy/lib'),\n",
       "   '/Users/nheather/opt/anaconda3/lib/python3.7/site-packages/numpy/matrixlib': FileFinder('/Users/nheather/opt/anaconda3/lib/python3.7/site-packages/numpy/matrixlib'),\n",
       "   '/Users/nheather/opt/anaconda3/lib/python3.7/site-packages/numpy/linalg': FileFinder('/Users/nheather/opt/anaconda3/lib/python3.7/site-packages/numpy/linalg'),\n",
       "   '/Users/nheather/opt/anaconda3/lib/python3.7/site-packages/numpy/fft': FileFinder('/Users/nheather/opt/anaconda3/lib/python3.7/site-packages/numpy/fft'),\n",
       "   '/Users/nheather/opt/anaconda3/lib/python3.7/site-packages/numpy/polynomial': FileFinder('/Users/nheather/opt/anaconda3/lib/python3.7/site-packages/numpy/polynomial'),\n",
       "   '/Users/nheather/opt/anaconda3/lib/python3.7/site-packages/numpy/random': FileFinder('/Users/nheather/opt/anaconda3/lib/python3.7/site-packages/numpy/random'),\n",
       "   '/Users/nheather/opt/anaconda3/lib/python3.7/site-packages/numpy/ma': FileFinder('/Users/nheather/opt/anaconda3/lib/python3.7/site-packages/numpy/ma'),\n",
       "   '/Users/nheather/opt/anaconda3/lib/python3.7/site-packages/pytz': FileFinder('/Users/nheather/opt/anaconda3/lib/python3.7/site-packages/pytz'),\n",
       "   '/Users/nheather/opt/anaconda3/lib/python3.7/site-packages/pandas': FileFinder('/Users/nheather/opt/anaconda3/lib/python3.7/site-packages/pandas'),\n",
       "   '/Users/nheather/opt/anaconda3/lib/python3.7/site-packages/pandas/compat': FileFinder('/Users/nheather/opt/anaconda3/lib/python3.7/site-packages/pandas/compat'),\n",
       "   '/Users/nheather/opt/anaconda3/lib/python3.7/site-packages/pandas/_libs': FileFinder('/Users/nheather/opt/anaconda3/lib/python3.7/site-packages/pandas/_libs'),\n",
       "   '/Users/nheather/opt/anaconda3/lib/python3.7/site-packages/pandas/_libs/tslibs': FileFinder('/Users/nheather/opt/anaconda3/lib/python3.7/site-packages/pandas/_libs/tslibs'),\n",
       "   '/Users/nheather/opt/anaconda3/lib/python3.7/site-packages/pandas/_config': FileFinder('/Users/nheather/opt/anaconda3/lib/python3.7/site-packages/pandas/_config'),\n",
       "   '/Users/nheather/opt/anaconda3/lib/python3.7/site-packages/pandas/core': FileFinder('/Users/nheather/opt/anaconda3/lib/python3.7/site-packages/pandas/core'),\n",
       "   '/Users/nheather/opt/anaconda3/lib/python3.7/site-packages/pandas/core/dtypes': FileFinder('/Users/nheather/opt/anaconda3/lib/python3.7/site-packages/pandas/core/dtypes'),\n",
       "   '/Users/nheather/opt/anaconda3/lib/python3.7/site-packages/pandas/util': FileFinder('/Users/nheather/opt/anaconda3/lib/python3.7/site-packages/pandas/util'),\n",
       "   '/Users/nheather/opt/anaconda3/lib/python3.7/site-packages/pandas/core/util': FileFinder('/Users/nheather/opt/anaconda3/lib/python3.7/site-packages/pandas/core/util'),\n",
       "   '/Users/nheather/opt/anaconda3/lib/python3.7/site-packages/pandas/core/arrays': FileFinder('/Users/nheather/opt/anaconda3/lib/python3.7/site-packages/pandas/core/arrays'),\n",
       "   '/Users/nheather/opt/anaconda3/lib/python3.7/site-packages/pandas/compat/numpy': FileFinder('/Users/nheather/opt/anaconda3/lib/python3.7/site-packages/pandas/compat/numpy'),\n",
       "   '/Users/nheather/opt/anaconda3/lib/python3.7/site-packages/pandas/core/ops': FileFinder('/Users/nheather/opt/anaconda3/lib/python3.7/site-packages/pandas/core/ops'),\n",
       "   '/Users/nheather/opt/anaconda3/lib/python3.7/site-packages/bottleneck': FileFinder('/Users/nheather/opt/anaconda3/lib/python3.7/site-packages/bottleneck'),\n",
       "   '/Users/nheather/opt/anaconda3/lib/python3.7/site-packages/bottleneck/slow': FileFinder('/Users/nheather/opt/anaconda3/lib/python3.7/site-packages/bottleneck/slow'),\n",
       "   '/Users/nheather/opt/anaconda3/lib/python3.7/site-packages/bottleneck/benchmark': FileFinder('/Users/nheather/opt/anaconda3/lib/python3.7/site-packages/bottleneck/benchmark'),\n",
       "   '/Users/nheather/opt/anaconda3/lib/python3.7/site-packages/bottleneck/tests': FileFinder('/Users/nheather/opt/anaconda3/lib/python3.7/site-packages/bottleneck/tests'),\n",
       "   '/Users/nheather/opt/anaconda3/lib/python3.7/site-packages/pandas/io': FileFinder('/Users/nheather/opt/anaconda3/lib/python3.7/site-packages/pandas/io'),\n",
       "   '/Users/nheather/opt/anaconda3/lib/python3.7/site-packages/pandas/io/formats': FileFinder('/Users/nheather/opt/anaconda3/lib/python3.7/site-packages/pandas/io/formats'),\n",
       "   '/Users/nheather/opt/anaconda3/lib/python3.7/site-packages/pandas/tseries': FileFinder('/Users/nheather/opt/anaconda3/lib/python3.7/site-packages/pandas/tseries'),\n",
       "   '/Users/nheather/opt/anaconda3/lib/python3.7/site-packages/pandas/core/tools': FileFinder('/Users/nheather/opt/anaconda3/lib/python3.7/site-packages/pandas/core/tools'),\n",
       "   '/Users/nheather/opt/anaconda3/lib/python3.7/site-packages/pandas/core/indexes': FileFinder('/Users/nheather/opt/anaconda3/lib/python3.7/site-packages/pandas/core/indexes'),\n",
       "   '/Users/nheather/opt/anaconda3/lib/python3.7/site-packages/pandas/core/arrays/sparse': FileFinder('/Users/nheather/opt/anaconda3/lib/python3.7/site-packages/pandas/core/arrays/sparse'),\n",
       "   '/Users/nheather/opt/anaconda3/lib/python3.7/site-packages/pandas/core/groupby': FileFinder('/Users/nheather/opt/anaconda3/lib/python3.7/site-packages/pandas/core/groupby'),\n",
       "   '/Users/nheather/opt/anaconda3/lib/python3.7/site-packages/pandas/core/internals': FileFinder('/Users/nheather/opt/anaconda3/lib/python3.7/site-packages/pandas/core/internals'),\n",
       "   '/Users/nheather/opt/anaconda3/lib/python3.7/site-packages/pandas/plotting': FileFinder('/Users/nheather/opt/anaconda3/lib/python3.7/site-packages/pandas/plotting'),\n",
       "   '/Users/nheather/opt/anaconda3/lib/python3.7/site-packages/pandas/core/window': FileFinder('/Users/nheather/opt/anaconda3/lib/python3.7/site-packages/pandas/core/window'),\n",
       "   '/Users/nheather/opt/anaconda3/lib/python3.7/site-packages/pandas/_libs/window': FileFinder('/Users/nheather/opt/anaconda3/lib/python3.7/site-packages/pandas/_libs/window'),\n",
       "   '/Users/nheather/opt/anaconda3/lib/python3.7/site-packages/pandas/core/computation': FileFinder('/Users/nheather/opt/anaconda3/lib/python3.7/site-packages/pandas/core/computation'),\n",
       "   '/Users/nheather/opt/anaconda3/lib/python3.7/site-packages/pandas/core/reshape': FileFinder('/Users/nheather/opt/anaconda3/lib/python3.7/site-packages/pandas/core/reshape'),\n",
       "   '/Users/nheather/opt/anaconda3/lib/python3.7/site-packages/pandas/api': FileFinder('/Users/nheather/opt/anaconda3/lib/python3.7/site-packages/pandas/api'),\n",
       "   '/Users/nheather/opt/anaconda3/lib/python3.7/site-packages/pandas/io/excel': FileFinder('/Users/nheather/opt/anaconda3/lib/python3.7/site-packages/pandas/io/excel'),\n",
       "   '/Users/nheather/opt/anaconda3/lib/python3.7/site-packages/pandas/io/json': FileFinder('/Users/nheather/opt/anaconda3/lib/python3.7/site-packages/pandas/io/json'),\n",
       "   '/Users/nheather/opt/anaconda3/lib/python3.7/site-packages/pandas/io/sas': FileFinder('/Users/nheather/opt/anaconda3/lib/python3.7/site-packages/pandas/io/sas'),\n",
       "   '/Users/nheather/opt/anaconda3/lib/python3.7/site-packages/numexpr': FileFinder('/Users/nheather/opt/anaconda3/lib/python3.7/site-packages/numexpr'),\n",
       "   '/Users/nheather/opt/anaconda3/lib/python3.7/site-packages/matplotlib': FileFinder('/Users/nheather/opt/anaconda3/lib/python3.7/site-packages/matplotlib'),\n",
       "   '/Users/nheather/opt/anaconda3/lib/python3.7/site-packages/matplotlib/cbook': FileFinder('/Users/nheather/opt/anaconda3/lib/python3.7/site-packages/matplotlib/cbook'),\n",
       "   '/Users/nheather/opt/anaconda3/lib/python3.7/site-packages/PIL': FileFinder('/Users/nheather/opt/anaconda3/lib/python3.7/site-packages/PIL'),\n",
       "   '/Users/nheather/opt/anaconda3/lib/python3.7/site-packages/matplotlib/style': FileFinder('/Users/nheather/opt/anaconda3/lib/python3.7/site-packages/matplotlib/style'),\n",
       "   '/Users/nheather/opt/anaconda3/lib/python3.7/site-packages/matplotlib/axes': FileFinder('/Users/nheather/opt/anaconda3/lib/python3.7/site-packages/matplotlib/axes'),\n",
       "   '/Users/nheather/opt/anaconda3/lib/python3.7/site-packages/matplotlib/tri': FileFinder('/Users/nheather/opt/anaconda3/lib/python3.7/site-packages/matplotlib/tri'),\n",
       "   '/Users/nheather/opt/anaconda3/lib/python3.7/site-packages/matplotlib/projections': FileFinder('/Users/nheather/opt/anaconda3/lib/python3.7/site-packages/matplotlib/projections'),\n",
       "   '/Users/nheather/opt/anaconda3/lib/python3.7/site-packages/ipykernel/pylab': FileFinder('/Users/nheather/opt/anaconda3/lib/python3.7/site-packages/ipykernel/pylab'),\n",
       "   '/Users/nheather/opt/anaconda3/lib/python3.7/site-packages/matplotlib/backends': FileFinder('/Users/nheather/opt/anaconda3/lib/python3.7/site-packages/matplotlib/backends'),\n",
       "   '/Users/nheather/opt/anaconda3/lib/python3.7/site-packages/cffi': FileFinder('/Users/nheather/opt/anaconda3/lib/python3.7/site-packages/cffi'),\n",
       "   '/Users/nheather/opt/anaconda3/lib/python3.7/site-packages/sklearn': FileFinder('/Users/nheather/opt/anaconda3/lib/python3.7/site-packages/sklearn'),\n",
       "   '/Users/nheather/opt/anaconda3/lib/python3.7/site-packages/sklearn/__check_build': FileFinder('/Users/nheather/opt/anaconda3/lib/python3.7/site-packages/sklearn/__check_build'),\n",
       "   '/Users/nheather/opt/anaconda3/lib/python3.7/site-packages/scipy': FileFinder('/Users/nheather/opt/anaconda3/lib/python3.7/site-packages/scipy'),\n",
       "   '/Users/nheather/opt/anaconda3/lib/python3.7/site-packages/scipy/_lib': FileFinder('/Users/nheather/opt/anaconda3/lib/python3.7/site-packages/scipy/_lib'),\n",
       "   '/Users/nheather/opt/anaconda3/lib/python3.7/site-packages/scipy/fft': FileFinder('/Users/nheather/opt/anaconda3/lib/python3.7/site-packages/scipy/fft'),\n",
       "   '/Users/nheather/opt/anaconda3/lib/python3.7/site-packages/scipy/_lib/_uarray': FileFinder('/Users/nheather/opt/anaconda3/lib/python3.7/site-packages/scipy/_lib/_uarray'),\n",
       "   '/Users/nheather/opt/anaconda3/lib/python3.7/site-packages/scipy/fft/_pocketfft': FileFinder('/Users/nheather/opt/anaconda3/lib/python3.7/site-packages/scipy/fft/_pocketfft'),\n",
       "   '/Users/nheather/opt/anaconda3/lib/python3.7/site-packages/scipy/sparse': FileFinder('/Users/nheather/opt/anaconda3/lib/python3.7/site-packages/scipy/sparse'),\n",
       "   '/Users/nheather/opt/anaconda3/lib/python3.7/unittest': FileFinder('/Users/nheather/opt/anaconda3/lib/python3.7/unittest'),\n",
       "   '/Users/nheather/opt/anaconda3/lib/python3.7/site-packages/numpy/testing': FileFinder('/Users/nheather/opt/anaconda3/lib/python3.7/site-packages/numpy/testing'),\n",
       "   '/Users/nheather/opt/anaconda3/lib/python3.7/site-packages/numpy/testing/_private': FileFinder('/Users/nheather/opt/anaconda3/lib/python3.7/site-packages/numpy/testing/_private'),\n",
       "   '/Users/nheather/opt/anaconda3/lib/python3.7/multiprocessing': FileFinder('/Users/nheather/opt/anaconda3/lib/python3.7/multiprocessing'),\n",
       "   '/Users/nheather/opt/anaconda3/lib/python3.7/site-packages/scipy/sparse/csgraph': FileFinder('/Users/nheather/opt/anaconda3/lib/python3.7/site-packages/scipy/sparse/csgraph'),\n",
       "   '/Users/nheather/opt/anaconda3/lib/python3.7/site-packages/sklearn/utils': FileFinder('/Users/nheather/opt/anaconda3/lib/python3.7/site-packages/sklearn/utils'),\n",
       "   '/Users/nheather/opt/anaconda3/lib/python3.7/site-packages/joblib': FileFinder('/Users/nheather/opt/anaconda3/lib/python3.7/site-packages/joblib'),\n",
       "   '/Users/nheather/opt/anaconda3/lib/python3.7/site-packages/joblib/externals': FileFinder('/Users/nheather/opt/anaconda3/lib/python3.7/site-packages/joblib/externals'),\n",
       "   '/Users/nheather/opt/anaconda3/lib/python3.7/site-packages/joblib/externals/loky': FileFinder('/Users/nheather/opt/anaconda3/lib/python3.7/site-packages/joblib/externals/loky'),\n",
       "   '/Users/nheather/opt/anaconda3/lib/python3.7/site-packages/joblib/externals/loky/backend': FileFinder('/Users/nheather/opt/anaconda3/lib/python3.7/site-packages/joblib/externals/loky/backend'),\n",
       "   '/Users/nheather/opt/anaconda3/lib/python3.7/site-packages/joblib/externals/cloudpickle': FileFinder('/Users/nheather/opt/anaconda3/lib/python3.7/site-packages/joblib/externals/cloudpickle'),\n",
       "   '/Users/nheather/opt/anaconda3/lib/python3.7/site-packages/psutil': FileFinder('/Users/nheather/opt/anaconda3/lib/python3.7/site-packages/psutil'),\n",
       "   '/Users/nheather/opt/anaconda3/lib/python3.7/site-packages/scipy/stats': FileFinder('/Users/nheather/opt/anaconda3/lib/python3.7/site-packages/scipy/stats'),\n",
       "   '/Users/nheather/opt/anaconda3/lib/python3.7/site-packages/scipy/spatial': FileFinder('/Users/nheather/opt/anaconda3/lib/python3.7/site-packages/scipy/spatial'),\n",
       "   '/Users/nheather/opt/anaconda3/lib/python3.7/site-packages/scipy/linalg': FileFinder('/Users/nheather/opt/anaconda3/lib/python3.7/site-packages/scipy/linalg'),\n",
       "   '/Users/nheather/opt/anaconda3/lib/python3.7/site-packages/scipy/special': FileFinder('/Users/nheather/opt/anaconda3/lib/python3.7/site-packages/scipy/special'),\n",
       "   '/Users/nheather/opt/anaconda3/lib/python3.7/site-packages/scipy/spatial/transform': FileFinder('/Users/nheather/opt/anaconda3/lib/python3.7/site-packages/scipy/spatial/transform'),\n",
       "   '/Users/nheather/opt/anaconda3/lib/python3.7/site-packages/scipy/constants': FileFinder('/Users/nheather/opt/anaconda3/lib/python3.7/site-packages/scipy/constants'),\n",
       "   '/Users/nheather/opt/anaconda3/lib/python3.7/site-packages/scipy/ndimage': FileFinder('/Users/nheather/opt/anaconda3/lib/python3.7/site-packages/scipy/ndimage'),\n",
       "   '/Users/nheather/opt/anaconda3/lib/python3.7/site-packages/scipy/optimize': FileFinder('/Users/nheather/opt/anaconda3/lib/python3.7/site-packages/scipy/optimize'),\n",
       "   '/Users/nheather/opt/anaconda3/lib/python3.7/site-packages/scipy/optimize/_trlib': FileFinder('/Users/nheather/opt/anaconda3/lib/python3.7/site-packages/scipy/optimize/_trlib'),\n",
       "   '/Users/nheather/opt/anaconda3/lib/python3.7/site-packages/scipy/optimize/_trustregion_constr': FileFinder('/Users/nheather/opt/anaconda3/lib/python3.7/site-packages/scipy/optimize/_trustregion_constr'),\n",
       "   '/Users/nheather/opt/anaconda3/lib/python3.7/site-packages/scipy/sparse/linalg': FileFinder('/Users/nheather/opt/anaconda3/lib/python3.7/site-packages/scipy/sparse/linalg'),\n",
       "   '/Users/nheather/opt/anaconda3/lib/python3.7/site-packages/scipy/sparse/linalg/isolve': FileFinder('/Users/nheather/opt/anaconda3/lib/python3.7/site-packages/scipy/sparse/linalg/isolve'),\n",
       "   '/Users/nheather/opt/anaconda3/lib/python3.7/site-packages/scipy/sparse/linalg/dsolve': FileFinder('/Users/nheather/opt/anaconda3/lib/python3.7/site-packages/scipy/sparse/linalg/dsolve'),\n",
       "   '/Users/nheather/opt/anaconda3/lib/python3.7/site-packages/scipy/sparse/linalg/eigen': FileFinder('/Users/nheather/opt/anaconda3/lib/python3.7/site-packages/scipy/sparse/linalg/eigen'),\n",
       "   '/Users/nheather/opt/anaconda3/lib/python3.7/site-packages/scipy/sparse/linalg/eigen/arpack': FileFinder('/Users/nheather/opt/anaconda3/lib/python3.7/site-packages/scipy/sparse/linalg/eigen/arpack'),\n",
       "   '/Users/nheather/opt/anaconda3/lib/python3.7/site-packages/scipy/sparse/linalg/eigen/lobpcg': FileFinder('/Users/nheather/opt/anaconda3/lib/python3.7/site-packages/scipy/sparse/linalg/eigen/lobpcg'),\n",
       "   '/Users/nheather/opt/anaconda3/lib/python3.7/site-packages/scipy/optimize/_lsq': FileFinder('/Users/nheather/opt/anaconda3/lib/python3.7/site-packages/scipy/optimize/_lsq'),\n",
       "   '/Users/nheather/opt/anaconda3/lib/python3.7/site-packages/scipy/optimize/_shgo_lib': FileFinder('/Users/nheather/opt/anaconda3/lib/python3.7/site-packages/scipy/optimize/_shgo_lib'),\n",
       "   '/Users/nheather/opt/anaconda3/lib/python3.7/site-packages/scipy/integrate': FileFinder('/Users/nheather/opt/anaconda3/lib/python3.7/site-packages/scipy/integrate'),\n",
       "   '/Users/nheather/opt/anaconda3/lib/python3.7/site-packages/scipy/integrate/_ivp': FileFinder('/Users/nheather/opt/anaconda3/lib/python3.7/site-packages/scipy/integrate/_ivp'),\n",
       "   '/Users/nheather/opt/anaconda3/lib/python3.7/site-packages/scipy/misc': FileFinder('/Users/nheather/opt/anaconda3/lib/python3.7/site-packages/scipy/misc'),\n",
       "   '/Users/nheather/opt/anaconda3/lib/python3.7/site-packages/scipy/interpolate': FileFinder('/Users/nheather/opt/anaconda3/lib/python3.7/site-packages/scipy/interpolate'),\n",
       "   '/Users/nheather/opt/anaconda3/lib/python3.7/site-packages/sklearn/externals': FileFinder('/Users/nheather/opt/anaconda3/lib/python3.7/site-packages/sklearn/externals'),\n",
       "   '/Users/nheather/opt/anaconda3/lib/python3.7/site-packages/sklearn/linear_model': FileFinder('/Users/nheather/opt/anaconda3/lib/python3.7/site-packages/sklearn/linear_model'),\n",
       "   '/Users/nheather/opt/anaconda3/lib/python3.7/site-packages/sklearn/preprocessing': FileFinder('/Users/nheather/opt/anaconda3/lib/python3.7/site-packages/sklearn/preprocessing'),\n",
       "   '/Users/nheather/opt/anaconda3/lib/python3.7/site-packages/sklearn/model_selection': FileFinder('/Users/nheather/opt/anaconda3/lib/python3.7/site-packages/sklearn/model_selection'),\n",
       "   '/Users/nheather/opt/anaconda3/lib/python3.7/site-packages/sklearn/metrics': FileFinder('/Users/nheather/opt/anaconda3/lib/python3.7/site-packages/sklearn/metrics'),\n",
       "   '/Users/nheather/opt/anaconda3/lib/python3.7/site-packages/sklearn/metrics/cluster': FileFinder('/Users/nheather/opt/anaconda3/lib/python3.7/site-packages/sklearn/metrics/cluster'),\n",
       "   '/Users/nheather/opt/anaconda3/lib/python3.7/site-packages/sklearn/metrics/_plot': FileFinder('/Users/nheather/opt/anaconda3/lib/python3.7/site-packages/sklearn/metrics/_plot'),\n",
       "   '/Users/nheather/opt/anaconda3/lib/python3.7/site-packages/sklearn/svm': FileFinder('/Users/nheather/opt/anaconda3/lib/python3.7/site-packages/sklearn/svm')}),\n",
       " ('platform', 'darwin'),\n",
       " ('prefix', '/Users/nheather/opt/anaconda3'),\n",
       " ('ps1', 'In : '),\n",
       " ('ps2', '...: '),\n",
       " ('ps3', 'Out: '),\n",
       " ('set_asyncgen_hooks', <function sys.set_asyncgen_hooks>),\n",
       " ('set_coroutine_origin_tracking_depth',\n",
       "  <function sys.set_coroutine_origin_tracking_depth(depth)>),\n",
       " ('set_coroutine_wrapper', <function sys.set_coroutine_wrapper>),\n",
       " ('setcheckinterval', <function sys.setcheckinterval>),\n",
       " ('setdlopenflags', <function sys.setdlopenflags>),\n",
       " ('setprofile', <function sys.setprofile>),\n",
       " ('setrecursionlimit', <function sys.setrecursionlimit>),\n",
       " ('setswitchinterval', <function sys.setswitchinterval>),\n",
       " ('settrace', <function sys.settrace>),\n",
       " ('stderr', <ipykernel.iostream.OutStream at 0x7fabd07fe350>),\n",
       " ('stdin', <_io.TextIOWrapper name='<stdin>' mode='r' encoding='UTF-8'>),\n",
       " ('stdout', <ipykernel.iostream.OutStream at 0x7fabd07fe550>),\n",
       " ('thread_info',\n",
       "  sys.thread_info(name='pthread', lock='mutex+cond', version=None)),\n",
       " ('version',\n",
       "  '3.7.6 (default, Jan  8 2020, 13:42:34) \\n[Clang 4.0.1 (tags/RELEASE_401/final)]'),\n",
       " ('version_info',\n",
       "  sys.version_info(major=3, minor=7, micro=6, releaselevel='final', serial=0)),\n",
       " ('warnoptions', [])]"
      ]
     },
     "execution_count": 49,
     "metadata": {},
     "output_type": "execute_result"
    }
   ],
   "source": [
    "import inspect\n",
    "inspect.getmembers(sys)"
   ]
  },
  {
   "cell_type": "code",
   "execution_count": 50,
   "metadata": {},
   "outputs": [
    {
     "name": "stdout",
     "output_type": "stream",
     "text": [
      "I've calculated your chance of survival, but I don't think yu'll like it.\n"
     ]
    }
   ],
   "source": [
    "import life as hitchhikersGuide\n",
    "hitchhikersGuide.quote_marvin()"
   ]
  },
  {
   "cell_type": "code",
   "execution_count": 51,
   "metadata": {},
   "outputs": [
    {
     "name": "stdout",
     "output_type": "stream",
     "text": [
      "7.946068210127573\n"
     ]
    }
   ],
   "source": [
    "print(hitchhikersGuide.square_root(63.14))"
   ]
  },
  {
   "cell_type": "code",
   "execution_count": 52,
   "metadata": {},
   "outputs": [
    {
     "data": {
      "text/html": [
       "<div>\n",
       "<style scoped>\n",
       "    .dataframe tbody tr th:only-of-type {\n",
       "        vertical-align: middle;\n",
       "    }\n",
       "\n",
       "    .dataframe tbody tr th {\n",
       "        vertical-align: top;\n",
       "    }\n",
       "\n",
       "    .dataframe thead th {\n",
       "        text-align: right;\n",
       "    }\n",
       "</style>\n",
       "<table border=\"1\" class=\"dataframe\">\n",
       "  <thead>\n",
       "    <tr style=\"text-align: right;\">\n",
       "      <th></th>\n",
       "      <th>Time_Delay_in_Minutes</th>\n",
       "      <th>LSD_ppm</th>\n",
       "      <th>Avg_Math_Test_Score</th>\n",
       "    </tr>\n",
       "  </thead>\n",
       "  <tbody>\n",
       "    <tr>\n",
       "      <th>0</th>\n",
       "      <td>5</td>\n",
       "      <td>1.17</td>\n",
       "      <td>78.93</td>\n",
       "    </tr>\n",
       "    <tr>\n",
       "      <th>1</th>\n",
       "      <td>15</td>\n",
       "      <td>2.97</td>\n",
       "      <td>58.20</td>\n",
       "    </tr>\n",
       "    <tr>\n",
       "      <th>2</th>\n",
       "      <td>30</td>\n",
       "      <td>3.26</td>\n",
       "      <td>67.47</td>\n",
       "    </tr>\n",
       "    <tr>\n",
       "      <th>3</th>\n",
       "      <td>60</td>\n",
       "      <td>4.69</td>\n",
       "      <td>37.47</td>\n",
       "    </tr>\n",
       "    <tr>\n",
       "      <th>4</th>\n",
       "      <td>120</td>\n",
       "      <td>5.83</td>\n",
       "      <td>45.65</td>\n",
       "    </tr>\n",
       "    <tr>\n",
       "      <th>5</th>\n",
       "      <td>240</td>\n",
       "      <td>6.00</td>\n",
       "      <td>32.92</td>\n",
       "    </tr>\n",
       "    <tr>\n",
       "      <th>6</th>\n",
       "      <td>480</td>\n",
       "      <td>6.41</td>\n",
       "      <td>29.97</td>\n",
       "    </tr>\n",
       "  </tbody>\n",
       "</table>\n",
       "</div>"
      ],
      "text/plain": [
       "   Time_Delay_in_Minutes  LSD_ppm  Avg_Math_Test_Score\n",
       "0                      5     1.17                78.93\n",
       "1                     15     2.97                58.20\n",
       "2                     30     3.26                67.47\n",
       "3                     60     4.69                37.47\n",
       "4                    120     5.83                45.65\n",
       "5                    240     6.00                32.92\n",
       "6                    480     6.41                29.97"
      ]
     },
     "execution_count": 52,
     "metadata": {},
     "output_type": "execute_result"
    }
   ],
   "source": [
    "data"
   ]
  },
  {
   "cell_type": "code",
   "execution_count": 53,
   "metadata": {},
   "outputs": [
    {
     "data": {
      "text/html": [
       "<div>\n",
       "<style scoped>\n",
       "    .dataframe tbody tr th:only-of-type {\n",
       "        vertical-align: middle;\n",
       "    }\n",
       "\n",
       "    .dataframe tbody tr th {\n",
       "        vertical-align: top;\n",
       "    }\n",
       "\n",
       "    .dataframe thead th {\n",
       "        text-align: right;\n",
       "    }\n",
       "</style>\n",
       "<table border=\"1\" class=\"dataframe\">\n",
       "  <thead>\n",
       "    <tr style=\"text-align: right;\">\n",
       "      <th></th>\n",
       "      <th>Time_Delay_in_Minutes</th>\n",
       "      <th>LSD_ppm</th>\n",
       "      <th>Avg_Math_Test_Score</th>\n",
       "    </tr>\n",
       "  </thead>\n",
       "  <tbody>\n",
       "    <tr>\n",
       "      <th>0</th>\n",
       "      <td>5</td>\n",
       "      <td>1.17</td>\n",
       "      <td>78.93</td>\n",
       "    </tr>\n",
       "    <tr>\n",
       "      <th>1</th>\n",
       "      <td>15</td>\n",
       "      <td>2.97</td>\n",
       "      <td>58.20</td>\n",
       "    </tr>\n",
       "    <tr>\n",
       "      <th>2</th>\n",
       "      <td>30</td>\n",
       "      <td>3.26</td>\n",
       "      <td>67.47</td>\n",
       "    </tr>\n",
       "    <tr>\n",
       "      <th>3</th>\n",
       "      <td>60</td>\n",
       "      <td>4.69</td>\n",
       "      <td>37.47</td>\n",
       "    </tr>\n",
       "    <tr>\n",
       "      <th>4</th>\n",
       "      <td>120</td>\n",
       "      <td>5.83</td>\n",
       "      <td>45.65</td>\n",
       "    </tr>\n",
       "    <tr>\n",
       "      <th>5</th>\n",
       "      <td>240</td>\n",
       "      <td>6.00</td>\n",
       "      <td>32.92</td>\n",
       "    </tr>\n",
       "    <tr>\n",
       "      <th>6</th>\n",
       "      <td>480</td>\n",
       "      <td>6.41</td>\n",
       "      <td>29.97</td>\n",
       "    </tr>\n",
       "  </tbody>\n",
       "</table>\n",
       "</div>"
      ],
      "text/plain": [
       "   Time_Delay_in_Minutes  LSD_ppm  Avg_Math_Test_Score\n",
       "0                      5     1.17                78.93\n",
       "1                     15     2.97                58.20\n",
       "2                     30     3.26                67.47\n",
       "3                     60     4.69                37.47\n",
       "4                    120     5.83                45.65\n",
       "5                    240     6.00                32.92\n",
       "6                    480     6.41                29.97"
      ]
     },
     "execution_count": 53,
     "metadata": {},
     "output_type": "execute_result"
    }
   ],
   "source": [
    "data"
   ]
  },
  {
   "cell_type": "code",
   "execution_count": 54,
   "metadata": {},
   "outputs": [],
   "source": [
    "time = data[['Time_Delay_in_Minutes']]\n",
    "LSD = data[['LSD_ppm']]\n",
    "score = data[['Avg_Math_Test_Score']]"
   ]
  },
  {
   "cell_type": "code",
   "execution_count": 63,
   "metadata": {},
   "outputs": [
    {
     "data": {
      "image/png": "[encoded data removed]",
      "text/plain": [
       "<Figure size 432x288 with 1 Axes>"
      ]
     },
     "metadata": {
      "needs_background": "light"
     },
     "output_type": "display_data"
    }
   ],
   "source": [
    "%matplotlib inline\n",
    "plt.title('Tissue concentration of LSD over time', fontsize=17)\n",
    "plt.xlabel('Time in Minutes', fontsize=14)\n",
    "plt.ylabel('Tissue LSD ppm', fontsize=14)\n",
    "plt.xticks(fontsize=14)\n",
    "plt.yticks(fontsize=14)\n",
    "plt.text(x=0, y=-0.5, s='Wagner et al.(1968)', fontsize=12)\n",
    "plt.plot(time, LSD, color='#FFA000', linewidth=3)\n",
    "plt.show()"
   ]
  },
  {
   "cell_type": "code",
   "execution_count": 56,
   "metadata": {},
   "outputs": [
    {
     "data": {
      "text/plain": [
       "array([[-9.00946642]])"
      ]
     },
     "execution_count": 56,
     "metadata": {},
     "output_type": "execute_result"
    }
   ],
   "source": [
    "regr = LinearRegression()\n",
    "regr.fit(LSD, score)\n",
    "regr.coef_"
   ]
  },
  {
   "cell_type": "code",
   "execution_count": 57,
   "metadata": {},
   "outputs": [],
   "source": [
    "regr.fit(LSD, score)\n",
    "predicted_score = regr.predict(LSD)"
   ]
  },
  {
   "cell_type": "code",
   "execution_count": 58,
   "metadata": {},
   "outputs": [
    {
     "name": "stdout",
     "output_type": "stream",
     "text": [
      "Theta1 : -9.009466415296785\n",
      "Intercept : 89.12387376799308\n",
      "R-Square : 0.8778349707775889\n"
     ]
    }
   ],
   "source": [
    "print('Theta1 :', regr.coef_[0][0])\n",
    "print('Intercept :', regr.intercept_[0])\n",
    "print('R-Square :', regr.score(LSD, score))"
   ]
  },
  {
   "cell_type": "code",
   "execution_count": 62,
   "metadata": {},
   "outputs": [
    {
     "data": {
      "image/png": "[encoded data removed]",
      "text/plain": [
       "<Figure size 432x288 with 1 Axes>"
      ]
     },
     "metadata": {},
     "output_type": "display_data"
    }
   ],
   "source": [
    "plt.title('Arithmetic vs LSD-25', fontsize=17)\n",
    "plt.xlabel('Tissue LSD ppm', fontsize=14)\n",
    "plt.ylabel('Performance Score', fontsize=14)\n",
    "plt.scatter(LSD,score, color='b', alpha=0.7, s=100)\n",
    "plt.ylim(25, 85)\n",
    "plt.xlim(1, 6.5)\n",
    "plt.style.use('fivethirtyeight')\n",
    "plt.plot(LSD, predicted_score, color='r', alpha=0.5, linewidth=3)\n",
    "plt.show()"
   ]
  },
  {
   "cell_type": "code",
   "execution_count": null,
   "metadata": {},
   "outputs": [],
   "source": []
  }
 ],
 "metadata": {
  "kernelspec": {
   "display_name": "Python 3",
   "language": "python",
   "name": "python3"
  },
  "language_info": {
   "codemirror_mode": {
    "name": "ipython",
    "version": 3
   },
   "file_extension": ".py",
   "mimetype": "text/x-python",
   "name": "python",
   "nbconvert_exporter": "python",
   "pygments_lexer": "ipython3",
   "version": "3.7.6"
  }
 },
 "nbformat": 4,
 "nbformat_minor": 4
}
